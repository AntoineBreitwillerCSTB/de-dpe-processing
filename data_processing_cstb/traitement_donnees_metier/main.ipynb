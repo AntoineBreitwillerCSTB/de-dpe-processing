{
 "cells": [
  {
   "cell_type": "code",
   "execution_count": 1,
   "metadata": {},
   "outputs": [
    {
     "name": "stdout",
     "output_type": "stream",
     "text": [
      "D:\\data\\dpe_full\\depts\\1\n",
      "tv013_valeur_pont_thermique_isolation_planche_bas not found\n",
      "tv025_type_batiment not found\n",
      "tv025_type_emetteur not found\n",
      "tv025_equipement_intermittence not found\n",
      "tv026_classe_inertie_plancher_bas not found\n",
      "tv026_classe_inertie_plancher_haut not found\n",
      "tv026_classe_inertie_paroi_verticale not found\n",
      "tv026_classe_inertie_classe_inertie not found\n",
      "tv029_simu_type_distribution not found\n"
     ]
    },
    {
     "name": "stderr",
     "output_type": "stream",
     "text": [
      "D:\\Cstbdata\\MONWORKSPACE\\Gitlab\\de-dpe-processing\\data_processing_cstb\\traitement_donnees_metier\\utils.py:80: SettingWithCopyWarning: \n",
      "A value is trying to be set on a copy of a slice from a DataFrame.\n",
      "Try using .loc[row_indexer,col_indexer] = value instead\n",
      "\n",
      "See the caveats in the documentation: https://pandas.pydata.org/pandas-docs/stable/user_guide/indexing.html#returning-a-view-versus-a-copy\n",
      "  table[pond_col] = table[pond]\n",
      "D:\\Cstbdata\\MONWORKSPACE\\Gitlab\\de-dpe-processing\\data_processing_cstb\\traitement_donnees_metier\\utils.py:117: SettingWithCopyWarning: \n",
      "A value is trying to be set on a copy of a slice from a DataFrame.\n",
      "Try using .loc[row_indexer,col_indexer] = value instead\n",
      "\n",
      "See the caveats in the documentation: https://pandas.pydata.org/pandas-docs/stable/user_guide/indexing.html#returning-a-view-versus-a-copy\n",
      "  table[pond_value_col_temp] = table[pond_col] * table[value_col]\n",
      "C:\\ProgramData\\Anaconda3\\lib\\site-packages\\pandas\\core\\indexing.py:966: SettingWithCopyWarning: \n",
      "A value is trying to be set on a copy of a slice from a DataFrame.\n",
      "Try using .loc[row_indexer,col_indexer] = value instead\n",
      "\n",
      "See the caveats in the documentation: https://pandas.pydata.org/pandas-docs/stable/user_guide/indexing.html#returning-a-view-versus-a-copy\n",
      "  self.obj[item] = s\n",
      "D:\\Cstbdata\\MONWORKSPACE\\Gitlab\\de-dpe-processing\\data_processing_cstb\\traitement_donnees_metier\\td008_processing.py:205: SettingWithCopyWarning: \n",
      "A value is trying to be set on a copy of a slice from a DataFrame.\n",
      "Try using .loc[row_indexer,col_indexer] = value instead\n",
      "\n",
      "See the caveats in the documentation: https://pandas.pydata.org/pandas-docs/stable/user_guide/indexing.html#returning-a-view-versus-a-copy\n",
      "  td008_vitree['max_surface'] = td008_vitree[['surfacexnb_baie_calc', 'surface']].max(axis=1)\n"
     ]
    }
   ],
   "source": [
    "import pandas as pd\n",
    "from pathlib import Path\n",
    "\n",
    "\n",
    "def run_enveloppe_processing(td001, td006, td007, td008):\n",
    "    from td007_processing import merge_td007_tr_tv, postprocessing_td007\n",
    "    from td008_processing import merge_td008_tr_tv, postprocessing_td008\n",
    "    from td001_merge import merge_td001_dpe_id_envelope\n",
    "    from td007_processing import agg_td007_to_td001_essential, agg_surface_envelope\n",
    "    from td008_processing import agg_td008_to_td001_essential\n",
    "\n",
    "    td008_raw_cols = td008.columns\n",
    "    td007_raw_cols = td007.columns\n",
    "\n",
    "    td001, td006, td007, td008 = merge_td001_dpe_id_envelope(td001=td001, td006=td006, td007=td007, td008=td008)\n",
    "\n",
    "    td008 = merge_td008_tr_tv(td008)\n",
    "    td008 = postprocessing_td008(td008)\n",
    "\n",
    "    td007 = merge_td007_tr_tv(td007)\n",
    "    td007 = postprocessing_td007(td007, td008)\n",
    "\n",
    "    agg_td007 = agg_td007_to_td001_essential(td007)\n",
    "    agg_td008 = agg_td008_to_td001_essential(td008)\n",
    "    agg_surfaces = agg_surface_envelope(td007, td008)\n",
    "\n",
    "    td001_enveloppe_agg = pd.concat([agg_td007, agg_td008, agg_surfaces], axis=1)\n",
    "\n",
    "    td001_enveloppe_agg.index.name = 'td001_dpe_id'\n",
    "    cols = [el for el in td008.columns if el not in td008_raw_cols]\n",
    "    cols.append('td008_baie_id')\n",
    "    td008_p = td008[cols]\n",
    "    cols = [el for el in td007.columns if el not in td007_raw_cols]\n",
    "    cols.append('td007_paroi_opaque_id')\n",
    "    td007_p = td007[cols]\n",
    "    return td001_enveloppe_agg, td008_p, td007_p\n",
    "\n",
    "\n",
    "def run_system_processing(td001, td006, td011, td012, td013, td014):\n",
    "    from td011_td012_processing import merge_td012_tr_tv, postprocessing_td012, merge_td011_tr_tv, \\\n",
    "        agg_systeme_chauffage_essential\n",
    "    from td013_td014_processing import merge_td013_tr_tv, postprocessing_td014, merge_td014_tr_tv, \\\n",
    "        agg_systeme_ecs_essential\n",
    "\n",
    "    from td001_merge import merge_td001_dpe_id_system\n",
    "\n",
    "    td011_raw_cols = td011.columns\n",
    "    td012_raw_cols = td012.columns\n",
    "    td013_raw_cols = td013.columns\n",
    "    td014_raw_cols = td014.columns\n",
    "    td001, td006, td011, td012, td013, td014 = merge_td001_dpe_id_system(td001, td006, td011, td012, td013, td014)\n",
    "    td011 = merge_td011_tr_tv(td011)\n",
    "    td012 = merge_td012_tr_tv(td012)\n",
    "    td012 = postprocessing_td012(td012)\n",
    "\n",
    "    cols = [el for el in td011.columns if el not in td011_raw_cols]\n",
    "    cols.append('td011_installation_chauffage_id')\n",
    "    td011_p = td011[cols]\n",
    "\n",
    "    cols = [el for el in td012.columns if\n",
    "            el not in td012_raw_cols + ['besoin_chauffage_infer', 'gen_ch_concat_txt_desc']]\n",
    "    cols.append('td012_generateur_chauffage_id')\n",
    "    td012_p = td012[cols]\n",
    "\n",
    "    td001_sys_ch_agg = agg_systeme_chauffage_essential(td001, td011, td012)\n",
    "\n",
    "    td014 = postprocessing_td014(td014)\n",
    "\n",
    "    cols = [el for el in td013.columns if el not in td013_raw_cols]\n",
    "    cols.append('td013_installation_ecs_id')\n",
    "    td013_p = td013[cols]\n",
    "\n",
    "    cols = [el for el in td014.columns if\n",
    "            el not in td014_raw_cols + ['besoin_chauffage_infer', 'gen_ch_concat_txt_desc']]\n",
    "    cols.append('td014_generateur_ecs_id')\n",
    "    td014_p = td014[cols]\n",
    "\n",
    "    td001_sys_ecs_agg = agg_systeme_ecs_essential(td001, td013, td014)\n",
    "\n",
    "    return td011_p, td012_p, td001_sys_ch_agg, td013_p, td014_p, td001_sys_ecs_agg\n",
    "\n",
    "\n",
    "if __name__ == '__main__':\n",
    "    data_dir = 'D:\\data\\dpe_full\\depts'\n",
    "    for dept_dir in Path(data_dir).iterdir():\n",
    "        print(dept_dir)\n",
    "        # LOAD TABLES\n",
    "        td007 = pd.read_csv(dept_dir / 'td007_paroi_opaque.csv', dtype=str)\n",
    "        td006 = pd.read_csv(dept_dir / 'td006_batiment.csv', dtype=str)\n",
    "        td001 = pd.read_csv(dept_dir / 'td001_dpe.csv', dtype=str)\n",
    "        td008 = pd.read_csv(dept_dir / 'td008_baie.csv', dtype=str)\n",
    "        td008 = td008.drop('td008_baie_id', axis=1)\n",
    "\n",
    "        # ENVELOPPE PROCESSING\n",
    "        td001_enveloppe_agg, td008_p, td007_p = run_enveloppe_processing(td001, td006, td007, td008)\n",
    "        \n",
    "        td001_enveloppe_agg.to_csv(dept_dir / 'td001_annexe_enveloppe_agg.csv')\n",
    "        \n",
    "        td007.to_csv(dept_dir / 'td007_paroi_opaque_annexe.csv')\n",
    "        td008.to_csv(dept_dir / 'td008_baie_annexe.csv')\n",
    "\n",
    "        # SYSTEM PROCESSING\n",
    "\n",
    "#         td011 = pd.read_csv(dept_dir / 'td011_installation_chauffage.csv', dtype=str)\n",
    "#         td012 = pd.read_csv(dept_dir / 'td012_generateur_chauffage.csv', dtype=str)\n",
    "#         td013 = pd.read_csv(dept_dir / 'td013_installation_ecs.csv', dtype=str)\n",
    "#         td014 = pd.read_csv(dept_dir / 'td014_generateur_ecs.csv', dtype=str)\n",
    "        \n",
    "#         td011_p, td012_p, td001_sys_ch_agg, td013_p, td014_p, td001_sys_ecs_agg = run_system_processing(td001, td006,\n",
    "#                                                                                                         td011, td012,\n",
    "#                                                                                                         td013, td014)\n",
    "#         td001_sys_ch_agg.to_csv(dept_dir / 'td001_annexe_sys_ch_agg.csv')\n",
    "#         td001_sys_ch_agg.to_csv(dept_dir / 'td001_annexe_sys_ecs_agg.csv')\n",
    "#         td011_p.to_csv(dept_dir / 'td011_installation_chauffage_annexe.csv')\n",
    "#         td012_p.to_csv(dept_dir / 'td012_generateur_chauffage_annexe.csv')\n",
    "#         td013_p.to_csv(dept_dir / 'td013_installation_ecs_annexe.csv')\n",
    "#         td014_p.to_csv(dept_dir / 'td014_generateur_ecs_annexe.csv')\n",
    "        break"
   ]
  },
  {
   "cell_type": "code",
   "execution_count": 4,
   "metadata": {},
   "outputs": [
    {
     "data": {
      "text/plain": [
       "5.0"
      ]
     },
     "execution_count": 4,
     "metadata": {},
     "output_type": "execute_result"
    }
   ],
   "source": [
    "40/8"
   ]
  },
  {
   "cell_type": "code",
   "execution_count": 8,
   "metadata": {},
   "outputs": [
    {
     "data": {
      "text/plain": [
       "78"
      ]
     },
     "execution_count": 8,
     "metadata": {},
     "output_type": "execute_result"
    }
   ],
   "source": [
    "(8*2+5*2)*3"
   ]
  },
  {
   "cell_type": "code",
   "execution_count": null,
   "metadata": {},
   "outputs": [],
   "source": []
  }
 ],
 "metadata": {
  "kernelspec": {
   "display_name": "Python 3",
   "language": "python",
   "name": "python3"
  },
  "language_info": {
   "codemirror_mode": {
    "name": "ipython",
    "version": 3
   },
   "file_extension": ".py",
   "mimetype": "text/x-python",
   "name": "python",
   "nbconvert_exporter": "python",
   "pygments_lexer": "ipython3",
   "version": "3.6.5"
  },
  "toc": {
   "base_numbering": 1,
   "nav_menu": {},
   "number_sections": true,
   "sideBar": true,
   "skip_h1_title": false,
   "title_cell": "Table of Contents",
   "title_sidebar": "Contents",
   "toc_cell": false,
   "toc_position": {},
   "toc_section_display": true,
   "toc_window_display": false
  }
 },
 "nbformat": 4,
 "nbformat_minor": 4
}
