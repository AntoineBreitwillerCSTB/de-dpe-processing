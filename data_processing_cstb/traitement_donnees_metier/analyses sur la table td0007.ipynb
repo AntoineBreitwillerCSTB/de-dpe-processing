{
 "cells": [
  {
   "cell_type": "markdown",
   "metadata": {},
   "source": [
    "# import"
   ]
  },
  {
   "cell_type": "code",
   "execution_count": 1,
   "metadata": {},
   "outputs": [],
   "source": [
    "import pandas as pd\n",
    "import json\n",
    "import requests\n",
    "from pathlib import Path\n",
    "import numpy as np\n",
    "import sys\n",
    "import requests\n",
    "import json\n",
    "from matplotlib import pyplot as plt\n",
    "import seaborn as sns\n",
    "sns.set_context('talk')\n",
    "%matplotlib inline\n"
   ]
  },
  {
   "cell_type": "markdown",
   "metadata": {},
   "source": [
    "# directories\n"
   ]
  },
  {
   "cell_type": "code",
   "execution_count": 2,
   "metadata": {},
   "outputs": [],
   "source": [
    "if sys.platform =='linux':\n",
    "    path_d = Path('/mnt/d')\n",
    "else:\n",
    "    path_d = Path('D://')\n",
    "data_dir = path_d/'data'/'dpe_full'   \n",
    "\n",
    "plot_dir = Path('.')/'plot'\n",
    "plot_dir.mkdir(exist_ok=True,parents=True)"
   ]
  },
  {
   "cell_type": "markdown",
   "metadata": {},
   "source": [
    "# read exemple"
   ]
  },
  {
   "cell_type": "code",
   "execution_count": 3,
   "metadata": {},
   "outputs": [],
   "source": [
    "dept = '38'\n",
    "td007 =pd.read_csv(data_dir/dept/'td007_paroi_opaque.csv',dtype=str)\n",
    "td007 =pd.read_csv(data_dir/dept/'td007_paroi_opaque.csv',dtype=str)\n",
    "td006 =pd.read_csv(data_dir/dept/'td006_batiment.csv',dtype=str)\n",
    "td001 =pd.read_csv(data_dir/dept/'td001_dpe.csv',dtype=str)\n",
    "td008 =pd.read_csv(data_dir/dept/'td008_baie.csv',dtype=str)\n"
   ]
  },
  {
   "cell_type": "code",
   "execution_count": 4,
   "metadata": {},
   "outputs": [],
   "source": [
    "from assets_orm import DPEMetaData"
   ]
  },
  {
   "cell_type": "code",
   "execution_count": 5,
   "metadata": {},
   "outputs": [],
   "source": [
    "meta = DPEMetaData()\n",
    "self=meta"
   ]
  },
  {
   "cell_type": "code",
   "execution_count": 6,
   "metadata": {},
   "outputs": [],
   "source": [
    "from td007_processing import merge_td007_tr_tv,postprocessing_td007\n",
    "from td008_processing import merge_td008_tr_tv,postprocessing_td008\n",
    "from td001_merge import merge_td001_dpe_id_envelope"
   ]
  },
  {
   "cell_type": "code",
   "execution_count": 7,
   "metadata": {},
   "outputs": [],
   "source": [
    "td008 = merge_td008_tr_tv(td008)\n",
    "td008 = postprocessing_td008(td008)"
   ]
  },
  {
   "cell_type": "code",
   "execution_count": 8,
   "metadata": {},
   "outputs": [],
   "source": [
    "td007 = merge_td007_tr_tv(td007)\n",
    "td007 = postprocessing_td007(td007,td008)"
   ]
  },
  {
   "cell_type": "code",
   "execution_count": 9,
   "metadata": {},
   "outputs": [],
   "source": [
    "td007,td008 = merge_td001_dpe_id_envelope(td001=td001,td006=td006,td007=td007,td008=td008)\n"
   ]
  },
  {
   "cell_type": "code",
   "execution_count": 14,
   "metadata": {},
   "outputs": [
    {
     "data": {
      "text/plain": [
       "Index(['td007_paroi_opaque_id', 'td006_batiment_id',\n",
       "       'tr014_type_parois_opaque_id', 'reference', 'deperdition_thermique',\n",
       "       'tv001_coefficient_reduction_deperditions_id',\n",
       "       'tv002_local_non_chauffe_id',\n",
       "       'coefficient_transmission_thermique_paroi',\n",
       "       'coefficient_transmission_thermique_paroi_non_isolee', 'tv003_umur_id',\n",
       "       'tv004_umur0_id', 'tv005_upb_id', 'tv006_upb0_id', 'tv007_uph_id',\n",
       "       'tv008_uph0_id', 'resistance_thermique_isolation',\n",
       "       'epaisseur_isolation', 'surface_paroi', 'tr014_Sous-Type',\n",
       "       'tr014_Est_efface', 'tv001_aiu_aue', 'tv001_aiu_aue_min',\n",
       "       'tv001_aiu_aue_max', 'tv001_uv_ue', 'tv001_aue_isole',\n",
       "       'tv001_aiu_isole', 'tv001_valeur', 'tv001_est_efface',\n",
       "       'tv002_Type de Bâtiment', 'tv002_Local non chauffée', 'tv002_Uv,ue',\n",
       "       'tv003_Mur Isolé', 'tv003_Année construction', 'tv003_Année isolation',\n",
       "       'tv003_Zone Hiver', 'tv003_Effet Joule', 'tv003_Umur',\n",
       "       'tv004_Matériaux', 'tv004_épaisseur', 'tv004_Umur0', 'tv005_Pb Isolé',\n",
       "       'tv005_2S/P', 'tv005_Année construction', 'tv005_Année isolation',\n",
       "       'tv005_Zone Hiver', 'tv005_Effet Joule', 'tv005_Upb', 'tv006_Matériaux',\n",
       "       'tv006_Upb0', 'tv007_Ph Isolé', 'tv007_Type  de Toit',\n",
       "       'tv007_Année construction', 'tv007_Année isolation', 'tv007_Zone Hiver',\n",
       "       'tv007_Effet Joule', 'tv007_Uph', 'tv008_Matériaux', 'tv008_Uph0',\n",
       "       'materiaux_structure', 'is_custom_resistance_thermique_isolation',\n",
       "       'is_custom_epaisseur_isolation', 'resistance_thermique_isolation_calc',\n",
       "       'epaisseur_isolation_calc', 'epaisseur_isolation_glob',\n",
       "       'resistance_thermique_isolation_glob', 'is_paroi_isole',\n",
       "       'surface_baie_sum', 'surfacexnb_baie_calc_sum', 'nb_baie_calc',\n",
       "       'surface_paroi_opaque_calc', 'surface_paroi_totale_calc_v1',\n",
       "       'surface_paroi_totale_calc_v2', 'qualif_surf',\n",
       "       'surface_paroi_opaque_infer', 'surface_paroi_opaque_deperditive_infer',\n",
       "       'b_infer', 'surface_paroi_opaque_exterieur_infer', 'td001_dpe_id'],\n",
       "      dtype='object')"
      ]
     },
     "execution_count": 14,
     "metadata": {},
     "output_type": "execute_result"
    }
   ],
   "source": [
    "td007.columns"
   ]
  },
  {
   "cell_type": "code",
   "execution_count": 10,
   "metadata": {},
   "outputs": [],
   "source": [
    "from utils import agg_pond_avg"
   ]
  },
  {
   "cell_type": "code",
   "execution_count": 11,
   "metadata": {},
   "outputs": [],
   "source": [
    "td007_murs = td007.loc[td007.tr014_type_parois_opaque_id.isin(['TR014_002', 'TR014_001'])]\n",
    "td007_pb = td007.loc[td007.tr014_type_parois_opaque_id == 'TR014_003']\n",
    "td007_ph = td007.loc[td007.tr014_type_parois_opaque_id == 'TR014_004']"
   ]
  },
  {
   "cell_type": "code",
   "execution_count": 16,
   "metadata": {},
   "outputs": [
    {
     "name": "stderr",
     "output_type": "stream",
     "text": [
      "D:\\Cstbdata\\MONWORKSPACE\\Gitlab\\de-dpe-processing\\data_processing_cstb\\traitement_donnees_metier\\utils.py:53: SettingWithCopyWarning: \n",
      "A value is trying to be set on a copy of a slice from a DataFrame.\n",
      "Try using .loc[row_indexer,col_indexer] = value instead\n",
      "\n",
      "See the caveats in the documentation: https://pandas.pydata.org/pandas-docs/stable/user_guide/indexing.html#returning-a-view-versus-a-copy\n",
      "  table[pond_col] = table[pond]\n",
      "D:\\Cstbdata\\MONWORKSPACE\\Gitlab\\de-dpe-processing\\data_processing_cstb\\traitement_donnees_metier\\utils.py:90: SettingWithCopyWarning: \n",
      "A value is trying to be set on a copy of a slice from a DataFrame.\n",
      "Try using .loc[row_indexer,col_indexer] = value instead\n",
      "\n",
      "See the caveats in the documentation: https://pandas.pydata.org/pandas-docs/stable/user_guide/indexing.html#returning-a-view-versus-a-copy\n",
      "  table[pond_value_col_temp] = table[pond_col] * table[value_col]\n"
     ]
    },
    {
     "ename": "KeyError",
     "evalue": "'surface_paroi_opaque_exterieur_infer'",
     "output_type": "error",
     "traceback": [
      "\u001b[1;31m---------------------------------------------------------------------------\u001b[0m",
      "\u001b[1;31mKeyError\u001b[0m                                  Traceback (most recent call last)",
      "\u001b[1;32mC:\\ProgramData\\Anaconda3\\lib\\site-packages\\pandas\\core\\indexes\\base.py\u001b[0m in \u001b[0;36mget_loc\u001b[1;34m(self, key, method, tolerance)\u001b[0m\n\u001b[0;32m   2645\u001b[0m             \u001b[1;32mtry\u001b[0m\u001b[1;33m:\u001b[0m\u001b[1;33m\u001b[0m\u001b[0m\n\u001b[1;32m-> 2646\u001b[1;33m                 \u001b[1;32mreturn\u001b[0m \u001b[0mself\u001b[0m\u001b[1;33m.\u001b[0m\u001b[0m_engine\u001b[0m\u001b[1;33m.\u001b[0m\u001b[0mget_loc\u001b[0m\u001b[1;33m(\u001b[0m\u001b[0mkey\u001b[0m\u001b[1;33m)\u001b[0m\u001b[1;33m\u001b[0m\u001b[0m\n\u001b[0m\u001b[0;32m   2647\u001b[0m             \u001b[1;32mexcept\u001b[0m \u001b[0mKeyError\u001b[0m\u001b[1;33m:\u001b[0m\u001b[1;33m\u001b[0m\u001b[0m\n",
      "\u001b[1;32mpandas\\_libs\\index.pyx\u001b[0m in \u001b[0;36mpandas._libs.index.IndexEngine.get_loc\u001b[1;34m()\u001b[0m\n",
      "\u001b[1;32mpandas\\_libs\\index.pyx\u001b[0m in \u001b[0;36mpandas._libs.index.IndexEngine.get_loc\u001b[1;34m()\u001b[0m\n",
      "\u001b[1;32mpandas\\_libs\\hashtable_class_helper.pxi\u001b[0m in \u001b[0;36mpandas._libs.hashtable.PyObjectHashTable.get_item\u001b[1;34m()\u001b[0m\n",
      "\u001b[1;32mpandas\\_libs\\hashtable_class_helper.pxi\u001b[0m in \u001b[0;36mpandas._libs.hashtable.PyObjectHashTable.get_item\u001b[1;34m()\u001b[0m\n",
      "\u001b[1;31mKeyError\u001b[0m: 'surface_paroi_opaque_exterieur_infer'",
      "\nDuring handling of the above exception, another exception occurred:\n",
      "\u001b[1;31mKeyError\u001b[0m                                  Traceback (most recent call last)",
      "\u001b[1;32m<ipython-input-16-eb341b73bfd4>\u001b[0m in \u001b[0;36m<module>\u001b[1;34m\u001b[0m\n\u001b[0;32m      1\u001b[0m Umurs_ext_avg = agg_pond_avg(td007_murs, 'coefficient_transmission_thermique_paroi', 'surface_paroi_opaque_exterieur_infer',\n\u001b[1;32m----> 2\u001b[1;33m                          'td001_dpe_id').to_frame('Umurs_ext_avg')\n\u001b[0m\u001b[0;32m      3\u001b[0m \u001b[1;33m\u001b[0m\u001b[0m\n\u001b[0;32m      4\u001b[0m Umurs_avg = agg_pond_avg(td007_murs, 'coefficient_transmission_thermique_paroi', 'surface_paroi_deperditive_infer',\n\u001b[0;32m      5\u001b[0m                          'td001_dpe_id').to_frame('Umurs_deper_avg')\n",
      "\u001b[1;32mD:\\Cstbdata\\MONWORKSPACE\\Gitlab\\de-dpe-processing\\data_processing_cstb\\traitement_donnees_metier\\utils.py\u001b[0m in \u001b[0;36magg_pond_avg\u001b[1;34m(table, value_col, pond, by, bool_filter_col, bool_filter_not)\u001b[0m\n\u001b[0;32m     90\u001b[0m     \u001b[0mtable\u001b[0m\u001b[1;33m[\u001b[0m\u001b[0mpond_value_col_temp\u001b[0m\u001b[1;33m]\u001b[0m \u001b[1;33m=\u001b[0m \u001b[0mtable\u001b[0m\u001b[1;33m[\u001b[0m\u001b[0mpond_col\u001b[0m\u001b[1;33m]\u001b[0m \u001b[1;33m*\u001b[0m \u001b[0mtable\u001b[0m\u001b[1;33m[\u001b[0m\u001b[0mvalue_col\u001b[0m\u001b[1;33m]\u001b[0m\u001b[1;33m\u001b[0m\u001b[0m\n\u001b[0;32m     91\u001b[0m     \u001b[0mgrp\u001b[0m \u001b[1;33m=\u001b[0m \u001b[0mtable\u001b[0m\u001b[1;33m.\u001b[0m\u001b[0mgroupby\u001b[0m\u001b[1;33m(\u001b[0m\u001b[0mby\u001b[0m\u001b[1;33m)\u001b[0m\u001b[1;33m[\u001b[0m\u001b[1;33m[\u001b[0m\u001b[0mpond_col\u001b[0m\u001b[1;33m,\u001b[0m \u001b[0mpond_value_col_temp\u001b[0m\u001b[1;33m]\u001b[0m\u001b[1;33m]\u001b[0m\u001b[1;33m.\u001b[0m\u001b[0msum\u001b[0m\u001b[1;33m(\u001b[0m\u001b[1;33m)\u001b[0m\u001b[1;33m\u001b[0m\u001b[0m\n\u001b[1;32m---> 92\u001b[1;33m     \u001b[0mgrp\u001b[0m\u001b[1;33m[\u001b[0m\u001b[0mgrp\u001b[0m\u001b[1;33m[\u001b[0m\u001b[0mpond\u001b[0m\u001b[1;33m]\u001b[0m \u001b[1;33m<=\u001b[0m \u001b[1;36m0\u001b[0m\u001b[1;33m]\u001b[0m \u001b[1;33m=\u001b[0m \u001b[0mnp\u001b[0m\u001b[1;33m.\u001b[0m\u001b[0mnan\u001b[0m\u001b[1;33m\u001b[0m\u001b[0m\n\u001b[0m\u001b[0;32m     93\u001b[0m     \u001b[0ms_grp\u001b[0m \u001b[1;33m=\u001b[0m \u001b[0mgrp\u001b[0m\u001b[1;33m[\u001b[0m\u001b[0mpond_value_col_temp\u001b[0m\u001b[1;33m]\u001b[0m \u001b[1;33m/\u001b[0m \u001b[0mgrp\u001b[0m\u001b[1;33m[\u001b[0m\u001b[0mpond\u001b[0m\u001b[1;33m]\u001b[0m\u001b[1;33m\u001b[0m\u001b[0m\n\u001b[0;32m     94\u001b[0m     \u001b[1;32mdel\u001b[0m \u001b[0mtable\u001b[0m\u001b[1;33m[\u001b[0m\u001b[0mpond_col\u001b[0m\u001b[1;33m]\u001b[0m\u001b[1;33m\u001b[0m\u001b[0m\n",
      "\u001b[1;32mC:\\ProgramData\\Anaconda3\\lib\\site-packages\\pandas\\core\\frame.py\u001b[0m in \u001b[0;36m__getitem__\u001b[1;34m(self, key)\u001b[0m\n\u001b[0;32m   2798\u001b[0m             \u001b[1;32mif\u001b[0m \u001b[0mself\u001b[0m\u001b[1;33m.\u001b[0m\u001b[0mcolumns\u001b[0m\u001b[1;33m.\u001b[0m\u001b[0mnlevels\u001b[0m \u001b[1;33m>\u001b[0m \u001b[1;36m1\u001b[0m\u001b[1;33m:\u001b[0m\u001b[1;33m\u001b[0m\u001b[0m\n\u001b[0;32m   2799\u001b[0m                 \u001b[1;32mreturn\u001b[0m \u001b[0mself\u001b[0m\u001b[1;33m.\u001b[0m\u001b[0m_getitem_multilevel\u001b[0m\u001b[1;33m(\u001b[0m\u001b[0mkey\u001b[0m\u001b[1;33m)\u001b[0m\u001b[1;33m\u001b[0m\u001b[0m\n\u001b[1;32m-> 2800\u001b[1;33m             \u001b[0mindexer\u001b[0m \u001b[1;33m=\u001b[0m \u001b[0mself\u001b[0m\u001b[1;33m.\u001b[0m\u001b[0mcolumns\u001b[0m\u001b[1;33m.\u001b[0m\u001b[0mget_loc\u001b[0m\u001b[1;33m(\u001b[0m\u001b[0mkey\u001b[0m\u001b[1;33m)\u001b[0m\u001b[1;33m\u001b[0m\u001b[0m\n\u001b[0m\u001b[0;32m   2801\u001b[0m             \u001b[1;32mif\u001b[0m \u001b[0mis_integer\u001b[0m\u001b[1;33m(\u001b[0m\u001b[0mindexer\u001b[0m\u001b[1;33m)\u001b[0m\u001b[1;33m:\u001b[0m\u001b[1;33m\u001b[0m\u001b[0m\n\u001b[0;32m   2802\u001b[0m                 \u001b[0mindexer\u001b[0m \u001b[1;33m=\u001b[0m \u001b[1;33m[\u001b[0m\u001b[0mindexer\u001b[0m\u001b[1;33m]\u001b[0m\u001b[1;33m\u001b[0m\u001b[0m\n",
      "\u001b[1;32mC:\\ProgramData\\Anaconda3\\lib\\site-packages\\pandas\\core\\indexes\\base.py\u001b[0m in \u001b[0;36mget_loc\u001b[1;34m(self, key, method, tolerance)\u001b[0m\n\u001b[0;32m   2646\u001b[0m                 \u001b[1;32mreturn\u001b[0m \u001b[0mself\u001b[0m\u001b[1;33m.\u001b[0m\u001b[0m_engine\u001b[0m\u001b[1;33m.\u001b[0m\u001b[0mget_loc\u001b[0m\u001b[1;33m(\u001b[0m\u001b[0mkey\u001b[0m\u001b[1;33m)\u001b[0m\u001b[1;33m\u001b[0m\u001b[0m\n\u001b[0;32m   2647\u001b[0m             \u001b[1;32mexcept\u001b[0m \u001b[0mKeyError\u001b[0m\u001b[1;33m:\u001b[0m\u001b[1;33m\u001b[0m\u001b[0m\n\u001b[1;32m-> 2648\u001b[1;33m                 \u001b[1;32mreturn\u001b[0m \u001b[0mself\u001b[0m\u001b[1;33m.\u001b[0m\u001b[0m_engine\u001b[0m\u001b[1;33m.\u001b[0m\u001b[0mget_loc\u001b[0m\u001b[1;33m(\u001b[0m\u001b[0mself\u001b[0m\u001b[1;33m.\u001b[0m\u001b[0m_maybe_cast_indexer\u001b[0m\u001b[1;33m(\u001b[0m\u001b[0mkey\u001b[0m\u001b[1;33m)\u001b[0m\u001b[1;33m)\u001b[0m\u001b[1;33m\u001b[0m\u001b[0m\n\u001b[0m\u001b[0;32m   2649\u001b[0m         \u001b[0mindexer\u001b[0m \u001b[1;33m=\u001b[0m \u001b[0mself\u001b[0m\u001b[1;33m.\u001b[0m\u001b[0mget_indexer\u001b[0m\u001b[1;33m(\u001b[0m\u001b[1;33m[\u001b[0m\u001b[0mkey\u001b[0m\u001b[1;33m]\u001b[0m\u001b[1;33m,\u001b[0m \u001b[0mmethod\u001b[0m\u001b[1;33m=\u001b[0m\u001b[0mmethod\u001b[0m\u001b[1;33m,\u001b[0m \u001b[0mtolerance\u001b[0m\u001b[1;33m=\u001b[0m\u001b[0mtolerance\u001b[0m\u001b[1;33m)\u001b[0m\u001b[1;33m\u001b[0m\u001b[0m\n\u001b[0;32m   2650\u001b[0m         \u001b[1;32mif\u001b[0m \u001b[0mindexer\u001b[0m\u001b[1;33m.\u001b[0m\u001b[0mndim\u001b[0m \u001b[1;33m>\u001b[0m \u001b[1;36m1\u001b[0m \u001b[1;32mor\u001b[0m \u001b[0mindexer\u001b[0m\u001b[1;33m.\u001b[0m\u001b[0msize\u001b[0m \u001b[1;33m>\u001b[0m \u001b[1;36m1\u001b[0m\u001b[1;33m:\u001b[0m\u001b[1;33m\u001b[0m\u001b[0m\n",
      "\u001b[1;32mpandas\\_libs\\index.pyx\u001b[0m in \u001b[0;36mpandas._libs.index.IndexEngine.get_loc\u001b[1;34m()\u001b[0m\n",
      "\u001b[1;32mpandas\\_libs\\index.pyx\u001b[0m in \u001b[0;36mpandas._libs.index.IndexEngine.get_loc\u001b[1;34m()\u001b[0m\n",
      "\u001b[1;32mpandas\\_libs\\hashtable_class_helper.pxi\u001b[0m in \u001b[0;36mpandas._libs.hashtable.PyObjectHashTable.get_item\u001b[1;34m()\u001b[0m\n",
      "\u001b[1;32mpandas\\_libs\\hashtable_class_helper.pxi\u001b[0m in \u001b[0;36mpandas._libs.hashtable.PyObjectHashTable.get_item\u001b[1;34m()\u001b[0m\n",
      "\u001b[1;31mKeyError\u001b[0m: 'surface_paroi_opaque_exterieur_infer'"
     ]
    }
   ],
   "source": [
    "Umurs_ext_avg = agg_pond_avg(td007_murs, 'coefficient_transmission_thermique_paroi', 'surface_paroi_opaque_exterieur_infer',\n",
    "                         'td001_dpe_id').to_frame('Umurs_ext_avg')\n",
    "\n",
    "Umurs_avg = agg_pond_avg(td007_murs, 'coefficient_transmission_thermique_paroi', 'surface_paroi_deperditive_infer',\n",
    "                         'td001_dpe_id').to_frame('Umurs_deper_avg')"
   ]
  },
  {
   "cell_type": "code",
   "execution_count": null,
   "metadata": {},
   "outputs": [],
   "source": [
    "\n",
    "\n",
    "Uplancher_avg = agg_pond_avg(td007_plancher, 'coefficient_transmission_thermique_paroi', 'surface_paroi_deperditive_infer',\n",
    "                         'td001_dpe_id').to_frame('Uplanchers_deper_avg')"
   ]
  },
  {
   "cell_type": "code",
   "execution_count": null,
   "metadata": {},
   "outputs": [],
   "source": [
    "\n",
    "\n",
    "Uplafond_avg = agg_pond_avg(td007_plafond, 'coefficient_transmission_thermique_paroi', 'surface_paroi_deperditive_infer',\n",
    "                         'td001_dpe_id').to_frame('Uplafonds_deper_avg')"
   ]
  },
  {
   "cell_type": "code",
   "execution_count": null,
   "metadata": {},
   "outputs": [],
   "source": []
  }
 ],
 "metadata": {
  "kernelspec": {
   "display_name": "Python 3",
   "language": "python",
   "name": "python3"
  },
  "language_info": {
   "codemirror_mode": {
    "name": "ipython",
    "version": 3
   },
   "file_extension": ".py",
   "mimetype": "text/x-python",
   "name": "python",
   "nbconvert_exporter": "python",
   "pygments_lexer": "ipython3",
   "version": "3.6.5"
  },
  "toc": {
   "base_numbering": 1,
   "nav_menu": {},
   "number_sections": true,
   "sideBar": true,
   "skip_h1_title": false,
   "title_cell": "Table of Contents",
   "title_sidebar": "Contents",
   "toc_cell": false,
   "toc_position": {},
   "toc_section_display": true,
   "toc_window_display": false
  }
 },
 "nbformat": 4,
 "nbformat_minor": 2
}
