{
 "cells": [
  {
   "cell_type": "markdown",
   "metadata": {},
   "source": [
    "# import"
   ]
  },
  {
   "cell_type": "code",
   "execution_count": 1,
   "metadata": {},
   "outputs": [],
   "source": [
    "import pandas as pd\n",
    "import json\n",
    "import requests\n",
    "from pathlib import Path\n",
    "import numpy as np\n",
    "import sys\n",
    "import requests\n",
    "import json\n",
    "from matplotlib import pyplot as plt\n",
    "import seaborn as sns\n",
    "sns.set_context('talk')\n",
    "%matplotlib inline\n"
   ]
  },
  {
   "cell_type": "markdown",
   "metadata": {},
   "source": [
    "# directories\n"
   ]
  },
  {
   "cell_type": "code",
   "execution_count": 2,
   "metadata": {},
   "outputs": [],
   "source": [
    "if sys.platform =='linux':\n",
    "    path_d = Path('/mnt/d')\n",
    "else:\n",
    "    path_d = Path('D://')\n",
    "data_dir = path_d/'data'/'dpe_full'   \n",
    "\n",
    "plot_dir = Path('.')/'plot'\n",
    "plot_dir.mkdir(exist_ok=True,parents=True)"
   ]
  },
  {
   "cell_type": "markdown",
   "metadata": {},
   "source": [
    "# read exemple"
   ]
  },
  {
   "cell_type": "code",
   "execution_count": 34,
   "metadata": {},
   "outputs": [],
   "source": [
    "dept = '38'\n",
    "\n",
    "td007 =pd.read_csv(data_dir/dept/'td007_paroi_opaque.csv',dtype=str)\n",
    "td006 =pd.read_csv(data_dir/dept/'td006_batiment.csv',dtype=str)\n",
    "td001 =pd.read_csv(data_dir/dept/'td001_dpe.csv',dtype=str)\n"
   ]
  },
  {
   "cell_type": "code",
   "execution_count": 4,
   "metadata": {},
   "outputs": [],
   "source": [
    "from assets_orm import DPEMetaData"
   ]
  },
  {
   "cell_type": "code",
   "execution_count": 5,
   "metadata": {},
   "outputs": [],
   "source": [
    "meta = DPEMetaData()\n",
    "self=meta"
   ]
  },
  {
   "cell_type": "code",
   "execution_count": null,
   "metadata": {},
   "outputs": [],
   "source": [
    "table =td007.copy()"
   ]
  },
  {
   "cell_type": "code",
   "execution_count": 6,
   "metadata": {},
   "outputs": [],
   "source": [
    "table =td007.copy()"
   ]
  },
  {
   "cell_type": "code",
   "execution_count": 7,
   "metadata": {},
   "outputs": [],
   "source": [
    "table = meta.merge_all_tr_table(table)"
   ]
  },
  {
   "cell_type": "code",
   "execution_count": 8,
   "metadata": {},
   "outputs": [],
   "source": [
    "table = meta.merge_all_tv_table(table)"
   ]
  },
  {
   "cell_type": "code",
   "execution_count": null,
   "metadata": {},
   "outputs": [],
   "source": [
    "td007_types = {}"
   ]
  },
  {
   "cell_type": "code",
   "execution_count": 16,
   "metadata": {},
   "outputs": [],
   "source": [
    "table = table.astype(td007_types)"
   ]
  },
  {
   "cell_type": "code",
   "execution_count": 29,
   "metadata": {},
   "outputs": [],
   "source": [
    "table['surface_paroi_opaque']=table.deperdition_thermique/(table.coefficient_transmission_thermique_paroi*table.tv001_valeur.astype(float).fillna(1))\n"
   ]
  },
  {
   "cell_type": "code",
   "execution_count": 32,
   "metadata": {},
   "outputs": [
    {
     "data": {
      "text/plain": [
       "0             1048\n",
       "1             1049\n",
       "2             1050\n",
       "3             1814\n",
       "4             1815\n",
       "            ...   \n",
       "439933    24115581\n",
       "439934    24115582\n",
       "439935    24115588\n",
       "439936    24115589\n",
       "439937    24115590\n",
       "Name: id, Length: 439938, dtype: object"
      ]
     },
     "execution_count": 32,
     "metadata": {},
     "output_type": "execute_result"
    }
   ],
   "source": [
    "table.id"
   ]
  },
  {
   "cell_type": "code",
   "execution_count": 31,
   "metadata": {},
   "outputs": [
    {
     "data": {
      "text/html": [
       "<div>\n",
       "<style scoped>\n",
       "    .dataframe tbody tr th:only-of-type {\n",
       "        vertical-align: middle;\n",
       "    }\n",
       "\n",
       "    .dataframe tbody tr th {\n",
       "        vertical-align: top;\n",
       "    }\n",
       "\n",
       "    .dataframe thead th {\n",
       "        text-align: right;\n",
       "    }\n",
       "</style>\n",
       "<table border=\"1\" class=\"dataframe\">\n",
       "  <thead>\n",
       "    <tr style=\"text-align: right;\">\n",
       "      <th></th>\n",
       "      <th>coefficient_transmission_thermique_paroi</th>\n",
       "      <th>surface_paroi_opaque</th>\n",
       "      <th>surface_paroi</th>\n",
       "      <th>deperdition_thermique</th>\n",
       "      <th>tv001_valeur</th>\n",
       "    </tr>\n",
       "  </thead>\n",
       "  <tbody>\n",
       "    <tr>\n",
       "      <th>0</th>\n",
       "      <td>0.35</td>\n",
       "      <td>115.057143</td>\n",
       "      <td>115.06</td>\n",
       "      <td>40.27</td>\n",
       "      <td>1.0</td>\n",
       "    </tr>\n",
       "    <tr>\n",
       "      <th>1</th>\n",
       "      <td>0.35</td>\n",
       "      <td>10.257143</td>\n",
       "      <td>10.80</td>\n",
       "      <td>3.59</td>\n",
       "      <td>NaN</td>\n",
       "    </tr>\n",
       "    <tr>\n",
       "      <th>2</th>\n",
       "      <td>0.14</td>\n",
       "      <td>46.357143</td>\n",
       "      <td>49.10</td>\n",
       "      <td>6.49</td>\n",
       "      <td>NaN</td>\n",
       "    </tr>\n",
       "    <tr>\n",
       "      <th>3</th>\n",
       "      <td>0.38</td>\n",
       "      <td>83.447368</td>\n",
       "      <td>82.67</td>\n",
       "      <td>31.71</td>\n",
       "      <td>1.0</td>\n",
       "    </tr>\n",
       "    <tr>\n",
       "      <th>4</th>\n",
       "      <td>0.32</td>\n",
       "      <td>12.156250</td>\n",
       "      <td>12.80</td>\n",
       "      <td>3.89</td>\n",
       "      <td>NaN</td>\n",
       "    </tr>\n",
       "    <tr>\n",
       "      <th>...</th>\n",
       "      <td>...</td>\n",
       "      <td>...</td>\n",
       "      <td>...</td>\n",
       "      <td>...</td>\n",
       "      <td>...</td>\n",
       "    </tr>\n",
       "    <tr>\n",
       "      <th>439933</th>\n",
       "      <td>0.25</td>\n",
       "      <td>69.400000</td>\n",
       "      <td>69.40</td>\n",
       "      <td>17.35</td>\n",
       "      <td>1.0</td>\n",
       "    </tr>\n",
       "    <tr>\n",
       "      <th>439934</th>\n",
       "      <td>0.40</td>\n",
       "      <td>114.850000</td>\n",
       "      <td>114.86</td>\n",
       "      <td>45.94</td>\n",
       "      <td>1.0</td>\n",
       "    </tr>\n",
       "    <tr>\n",
       "      <th>439935</th>\n",
       "      <td>0.40</td>\n",
       "      <td>14.000000</td>\n",
       "      <td>17.50</td>\n",
       "      <td>5.60</td>\n",
       "      <td>NaN</td>\n",
       "    </tr>\n",
       "    <tr>\n",
       "      <th>439936</th>\n",
       "      <td>0.23</td>\n",
       "      <td>40.565217</td>\n",
       "      <td>40.55</td>\n",
       "      <td>9.33</td>\n",
       "      <td>1.0</td>\n",
       "    </tr>\n",
       "    <tr>\n",
       "      <th>439937</th>\n",
       "      <td>0.23</td>\n",
       "      <td>27.043478</td>\n",
       "      <td>38.65</td>\n",
       "      <td>6.22</td>\n",
       "      <td>NaN</td>\n",
       "    </tr>\n",
       "  </tbody>\n",
       "</table>\n",
       "<p>439938 rows × 5 columns</p>\n",
       "</div>"
      ],
      "text/plain": [
       "        coefficient_transmission_thermique_paroi  surface_paroi_opaque  \\\n",
       "0                                           0.35            115.057143   \n",
       "1                                           0.35             10.257143   \n",
       "2                                           0.14             46.357143   \n",
       "3                                           0.38             83.447368   \n",
       "4                                           0.32             12.156250   \n",
       "...                                          ...                   ...   \n",
       "439933                                      0.25             69.400000   \n",
       "439934                                      0.40            114.850000   \n",
       "439935                                      0.40             14.000000   \n",
       "439936                                      0.23             40.565217   \n",
       "439937                                      0.23             27.043478   \n",
       "\n",
       "        surface_paroi  deperdition_thermique tv001_valeur  \n",
       "0              115.06                  40.27          1.0  \n",
       "1               10.80                   3.59          NaN  \n",
       "2               49.10                   6.49          NaN  \n",
       "3               82.67                  31.71          1.0  \n",
       "4               12.80                   3.89          NaN  \n",
       "...               ...                    ...          ...  \n",
       "439933          69.40                  17.35          1.0  \n",
       "439934         114.86                  45.94          1.0  \n",
       "439935          17.50                   5.60          NaN  \n",
       "439936          40.55                   9.33          1.0  \n",
       "439937          38.65                   6.22          NaN  \n",
       "\n",
       "[439938 rows x 5 columns]"
      ]
     },
     "execution_count": 31,
     "metadata": {},
     "output_type": "execute_result"
    }
   ],
   "source": [
    "table[['coefficient_transmission_thermique_paroi','surface_paroi_opaque','surface_paroi','deperdition_thermique','tv001_valeur']]\n"
   ]
  },
  {
   "cell_type": "code",
   "execution_count": null,
   "metadata": {},
   "outputs": [],
   "source": []
  }
 ],
 "metadata": {
  "kernelspec": {
   "display_name": "Python 3",
   "language": "python",
   "name": "python3"
  },
  "language_info": {
   "codemirror_mode": {
    "name": "ipython",
    "version": 3
   },
   "file_extension": ".py",
   "mimetype": "text/x-python",
   "name": "python",
   "nbconvert_exporter": "python",
   "pygments_lexer": "ipython3",
   "version": "3.6.5"
  },
  "toc": {
   "base_numbering": 1,
   "nav_menu": {},
   "number_sections": true,
   "sideBar": true,
   "skip_h1_title": false,
   "title_cell": "Table of Contents",
   "title_sidebar": "Contents",
   "toc_cell": false,
   "toc_position": {},
   "toc_section_display": true,
   "toc_window_display": false
  }
 },
 "nbformat": 4,
 "nbformat_minor": 2
}
