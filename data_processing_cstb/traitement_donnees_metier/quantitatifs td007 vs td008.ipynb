{
 "cells": [
  {
   "cell_type": "markdown",
   "metadata": {},
   "source": [
    "# import"
   ]
  },
  {
   "cell_type": "code",
   "execution_count": 1,
   "metadata": {},
   "outputs": [],
   "source": [
    "import pandas as pd\n",
    "import json\n",
    "import requests\n",
    "from pathlib import Path\n",
    "import numpy as np\n",
    "import sys\n",
    "import requests\n",
    "import json\n",
    "from matplotlib import pyplot as plt\n",
    "import seaborn as sns\n",
    "sns.set_context('talk')\n",
    "%matplotlib inline\n"
   ]
  },
  {
   "cell_type": "code",
   "execution_count": 2,
   "metadata": {},
   "outputs": [],
   "source": [
    "if sys.platform =='linux':\n",
    "    path_d = Path('/mnt/d')\n",
    "else:\n",
    "    path_d = Path('D://')\n",
    "data_dir = path_d/'data'/'dpe_full'   \n",
    "\n"
   ]
  },
  {
   "cell_type": "markdown",
   "metadata": {},
   "source": [
    "# read exemple"
   ]
  },
  {
   "cell_type": "code",
   "execution_count": 202,
   "metadata": {},
   "outputs": [
    {
     "data": {
      "text/plain": [
       "0"
      ]
     },
     "execution_count": 202,
     "metadata": {},
     "output_type": "execute_result"
    }
   ],
   "source": [
    "(td006.groupby('td001_dpe_id').id.count()>1).sum()"
   ]
  },
  {
   "cell_type": "code",
   "execution_count": 201,
   "metadata": {},
   "outputs": [],
   "source": [
    "td006 =pd.read_csv(data_dir/'full-db'/'csv'/'td006_batiment.csv',dtype=str)\n"
   ]
  },
  {
   "cell_type": "code",
   "execution_count": 214,
   "metadata": {},
   "outputs": [],
   "source": [
    "dept = '38'\n",
    "td008 =pd.read_csv(data_dir/dept/'td008_baie.csv',dtype=str)\n",
    "td007 =pd.read_csv(data_dir/dept/'td007_paroi_opaque.csv',dtype=str)\n",
    "td006 =pd.read_csv(data_dir/dept/'td006_batiment.csv',dtype=str)\n",
    "td001 =pd.read_csv(data_dir/dept/'td001_dpe.csv',dtype=str)\n",
    "td007 = td007.rename(columns={\"id\": \"td007_paroi_opaque_id\"})\n",
    "td006 = td006.rename(columns={\"id\": \"td006_batiment_id\"})\n",
    "td001 = td006.rename(columns={\"id\": \"td001_dpe_id\"})\n"
   ]
  },
  {
   "cell_type": "code",
   "execution_count": 215,
   "metadata": {},
   "outputs": [],
   "source": [
    "from assets_orm import DPEMetaData"
   ]
  },
  {
   "cell_type": "code",
   "execution_count": 216,
   "metadata": {},
   "outputs": [],
   "source": [
    "meta = DPEMetaData()\n",
    "self=meta"
   ]
  },
  {
   "cell_type": "code",
   "execution_count": 218,
   "metadata": {},
   "outputs": [],
   "source": [
    "from td008_processing import post_processing_td008,merge_td008_tr_tv"
   ]
  },
  {
   "cell_type": "code",
   "execution_count": 219,
   "metadata": {},
   "outputs": [],
   "source": [
    "td008 = merge_td008_tr_tv(td008)\n",
    "td008 = post_processing_td008(td008)"
   ]
  },
  {
   "cell_type": "code",
   "execution_count": 222,
   "metadata": {},
   "outputs": [],
   "source": [
    "td007 = td007.merge(td006[['td006_batiment_id','td001_dpe_id']],on='td006_batiment_id',how='left')"
   ]
  },
  {
   "cell_type": "code",
   "execution_count": 224,
   "metadata": {},
   "outputs": [],
   "source": [
    "td008 = td008.merge(td007[['td007_paroi_opaque_id','td001_dpe_id']],on='td007_paroi_opaque_id',how='left')"
   ]
  },
  {
   "cell_type": "code",
   "execution_count": 227,
   "metadata": {},
   "outputs": [],
   "source": [
    "from td007_processing import td007_types\n",
    "\n",
    "td007 = td007.astype({k:v for k,v in td007_types.items() if k in td007})"
   ]
  },
  {
   "cell_type": "markdown",
   "metadata": {},
   "source": [
    "# quantitatifs par paroi"
   ]
  },
  {
   "cell_type": "code",
   "execution_count": 203,
   "metadata": {},
   "outputs": [],
   "source": []
  },
  {
   "cell_type": "code",
   "execution_count": 204,
   "metadata": {
    "scrolled": true
   },
   "outputs": [],
   "source": [
    "# calcul des surfaces parois_opaque + paroi vitrée\n",
    "\n",
    "surf = td008.groupby('td007_paroi_opaque_id')[['surface', 'surfacexnb_baie_calc','nb_baie_calc']].sum()\n",
    "surf.columns = ['surface_baie_sum','surfacexnb_baie_calc_sum','nb_baie_calc']\n",
    "surf['surfacexnb_baie_calc_sum']=surf.max(axis=1)\n",
    "\n",
    "td007_m = td007.merge(surf,on ='td007_paroi_opaque_id',how='left')\n",
    "td007_m['surface_paroi_opaque_calc']= td007_m.deperdition_thermique/(td007_m.coefficient_transmission_thermique_paroi.astype(float)*td007_m.tv001_valeur.astype(float))\n",
    "\n",
    "td007_m['surface_paroi_totale_calc_v1']=td007_m.surface_paroi_opaque_calc+td007_m.surfacexnb_baie_calc_sum\n",
    "td007_m['surface_paroi_totale_calc_v2']=td007_m.surface_paroi_opaque_calc+td007_m.surface_baie_sum"
   ]
  },
  {
   "cell_type": "code",
   "execution_count": 205,
   "metadata": {},
   "outputs": [],
   "source": [
    "def calc_surf_approx_equality(s1,s2,rtol=0.05,atol=2):\n",
    "    \n",
    "    is_close = np.isclose(s1,s2,rtol=rtol)\n",
    "    is_close = is_close|np.isclose(s1,s2,atol=atol)\n",
    "    return is_close"
   ]
  },
  {
   "cell_type": "code",
   "execution_count": 206,
   "metadata": {},
   "outputs": [],
   "source": [
    "is_surface_totale_v1=calc_surf_approx_equality(td007_m.surface_paroi,td007_m.surface_paroi_totale_calc_v1)\n",
    "is_surface_totale_v2=calc_surf_approx_equality(td007_m.surface_paroi,td007_m.surface_paroi_totale_calc_v2)\n",
    "is_surface_paroi_opaque=calc_surf_approx_equality(td007_m.surface_paroi,td007_m.surface_paroi_opaque_calc)\n",
    "is_surface_paroi_opaque_deg=calc_surf_approx_equality(td007_m.surface_paroi,td007_m.surface_paroi_opaque_calc,rtol=0.1)\n"
   ]
  },
  {
   "cell_type": "code",
   "execution_count": 207,
   "metadata": {},
   "outputs": [],
   "source": [
    "td007_m['qualif_surf']='NONDEF'\n",
    "\n",
    "td007_m.loc[is_surface_paroi_opaque_deg,'qualif_surf']='surface_paroi=surface_paroi_opaque'\n",
    "\n",
    "td007_m.loc[is_surface_totale_v1,'qualif_surf']='surface_paroi=surface_paroi_opaque+somme(surface baiesxnb_baies) v1'\n",
    "\n",
    "td007_m.loc[is_surface_totale_v2,'qualif_surf']='surface_paroi=surface_paroi_opaque+somme(surface baies) v2'\n",
    "\n",
    "td007_m.loc[is_surface_paroi_opaque,'qualif_surf']='surface_paroi=surface_paroi_opaque'\n",
    "td007_m.loc[is_surface_paroi_opaque,'qualif_surf']='surface_paroi=surface_paroi_opaque'\n"
   ]
  },
  {
   "cell_type": "code",
   "execution_count": 208,
   "metadata": {},
   "outputs": [],
   "source": [
    "td007_m['surface_paroi_totale_calc_v1']=td007_m.surface_paroi_opaque_calc+td007_m.surfacexnb_baie_calc_sum\n",
    "td007_m['surface_paroi_totale_calc_v2']=td007_m.surface_paroi_opaque_calc+td007_m.surface_baie_sum"
   ]
  },
  {
   "cell_type": "code",
   "execution_count": 209,
   "metadata": {},
   "outputs": [],
   "source": [
    "# infer surface paroi opaque\n",
    "\n",
    "td007_m['surface_paroi_opaque_infer']=np.nan\n",
    "\n",
    "is_surface_seul=td007_m.qualif_surf=='surface_paroi=surface_paroi_opaque'\n",
    "td007_m.loc[is_surface_seul,'surface_paroi_opaque_infer']=td007_m.surface_paroi\n",
    "\n",
    "is_surface_sum_baie_opaque_v1=td007_m.qualif_surf=='surface_paroi=surface_paroi_opaque+somme(surface baiesxnb_baies) v1'\n",
    "td007_m.loc[is_surface_sum_baie_opaque_v1,'surface_paroi_opaque_infer']=td007_m.surface_paroi-td007_m.surfacexnb_baie_calc_sum\n",
    "\n",
    "is_surface_sum_baie_opaque_v2=td007_m.qualif_surf=='surface_paroi=surface_paroi_opaque+somme(surface baies) v2'\n",
    "\n",
    "td007_m.loc[is_surface_sum_baie_opaque_v2,'surface_paroi_opaque_infer']=td007_m.surface_paroi-td007_m.surface_baie_sum\n",
    "\n",
    "\n",
    "\n",
    "\n",
    "\n"
   ]
  },
  {
   "cell_type": "code",
   "execution_count": 210,
   "metadata": {},
   "outputs": [],
   "source": [
    "# # concat orientation\n",
    "# orientation=td008.groupby('td007_paroi_opaque_id')['orientation_infer'].apply(lambda x:'+'.join(list(set(x.tolist()))))\n",
    "# td007_m = td007_m.merge(orientation,on='td007_paroi_opaque_id',how='left')\n",
    "\n",
    "# # surface vitrée/ portes\n",
    "# pivot = td008.pivot_table(index = 'td007_paroi_opaque_id', columns = 'cat_baie_simple_infer',\n",
    "#                          values = 'surface')\n",
    "# pivot.columns = pivot.columns.tolist()\n",
    "# pivot['surface_vitree']=pivot[['baie vitrée','paroi en brique de verre ou polycarbonate']].sum(axis=1)\n",
    "\n",
    "# td007_m=td007_m.merge(pivot.rename(columns={'porte':'surface_porte'})[['surface_porte','surface_vitree']]\n",
    "#                       ,on='td007_paroi_opaque_id',how='left')\n",
    "\n",
    "# pivot = td008.pivot_table(index = 'td007_paroi_opaque_id', columns = 'cat_baie_simple_infer',\n",
    "#                          values = 'surfacexnb_baie_calc')\n",
    "# pivot.columns = pivot.columns.tolist()\n",
    "# pivot['surfacexnb_baie_calc_vitree']=pivot[['baie vitrée','paroi en brique de verre ou polycarbonate']].sum(axis=1)\n",
    "\n",
    "# td007_m=td007_m.merge(pivot.rename(columns={'porte':'surfacexnb_baie_calc_porte'})[['surfacexnb_baie_calc_porte','surfacexnb_baie_calc_vitree']]\n",
    "#                       ,on='td007_paroi_opaque_id',how='left')"
   ]
  },
  {
   "cell_type": "code",
   "execution_count": 237,
   "metadata": {},
   "outputs": [],
   "source": [
    "td008_vitree = td008.loc[td008.cat_baie_simple_infer=='baie vitrée']\n",
    "orientation_agg=td008_vitree.groupby('td001_dpe_id')['orientation_infer'].apply(lambda x:'+'.join(list(set(x.tolist()))))\n"
   ]
  },
  {
   "cell_type": "code",
   "execution_count": 236,
   "metadata": {},
   "outputs": [
    {
     "data": {
      "text/plain": [
       "td001_dpe_id\n",
       "1000252    Est+Nord+Sud+Ouest\n",
       "10003            Nord+Sud+Est\n",
       "1000437             Est+Ouest\n",
       "1000817                NONDEF\n",
       "1000866        Nord+Sud+Ouest\n",
       "                  ...        \n",
       "999222     Nord+Sud+Ouest+Est\n",
       "999298          Est+Sud+Ouest\n",
       "99972      Nord+Sud+Ouest+Est\n",
       "999768     Nord+Sud+Ouest+Est\n",
       "999890                 NONDEF\n",
       "Name: orientation_infer, Length: 80174, dtype: object"
      ]
     },
     "execution_count": 236,
     "metadata": {},
     "output_type": "execute_result"
    }
   ],
   "source": [
    "orientation"
   ]
  },
  {
   "cell_type": "code",
   "execution_count": 231,
   "metadata": {},
   "outputs": [
    {
     "data": {
      "text/plain": [
       "Nord+Sud                             7944\n",
       "Nord+Sud+Ouest+Est                   5956\n",
       "Nord+Est+Sud+NONDEF+Ouest            5808\n",
       "Nord+Sud+NONDEF                      5175\n",
       "Est+Ouest                            4787\n",
       "                                     ... \n",
       "Nord+Sud+Horizontale+NONDEF+Ouest       1\n",
       "Est+Nord+Est ou Ouest+Ouest             1\n",
       "Est+Horizontale+Sud+NONDEF              1\n",
       "Nord+Sud+NONDEF+Est ou Ouest            1\n",
       "Nord+Est+Sud+Horizontale+NONDEF         1\n",
       "Name: orientation_infer, Length: 94, dtype: int64"
      ]
     },
     "execution_count": 231,
     "metadata": {},
     "output_type": "execute_result"
    }
   ],
   "source": [
    "orientation.value_counts()"
   ]
  },
  {
   "cell_type": "markdown",
   "metadata": {},
   "source": [
    "# quantitatifs batiment"
   ]
  },
  {
   "cell_type": "markdown",
   "metadata": {},
   "source": [
    "# quantitatifs dpe"
   ]
  },
  {
   "cell_type": "code",
   "execution_count": null,
   "metadata": {},
   "outputs": [],
   "source": []
  },
  {
   "cell_type": "code",
   "execution_count": null,
   "metadata": {},
   "outputs": [],
   "source": [
    "td008"
   ]
  }
 ],
 "metadata": {
  "kernelspec": {
   "display_name": "Python 3",
   "language": "python",
   "name": "python3"
  },
  "language_info": {
   "codemirror_mode": {
    "name": "ipython",
    "version": 3
   },
   "file_extension": ".py",
   "mimetype": "text/x-python",
   "name": "python",
   "nbconvert_exporter": "python",
   "pygments_lexer": "ipython3",
   "version": "3.6.5"
  },
  "toc": {
   "base_numbering": 1,
   "nav_menu": {},
   "number_sections": true,
   "sideBar": true,
   "skip_h1_title": false,
   "title_cell": "Table of Contents",
   "title_sidebar": "Contents",
   "toc_cell": false,
   "toc_position": {},
   "toc_section_display": true,
   "toc_window_display": true
  }
 },
 "nbformat": 4,
 "nbformat_minor": 2
}
