{
 "cells": [
  {
   "cell_type": "markdown",
   "metadata": {},
   "source": [
    "# import"
   ]
  },
  {
   "cell_type": "code",
   "execution_count": 1,
   "metadata": {},
   "outputs": [],
   "source": [
    "import pandas as pd\n",
    "import json\n",
    "import requests\n",
    "from pathlib import Path\n",
    "import numpy as np\n",
    "import sys\n",
    "import requests\n",
    "import json\n",
    "from matplotlib import pyplot as plt\n",
    "import seaborn as sns\n",
    "sns.set_context('talk')\n",
    "%matplotlib inline\n"
   ]
  },
  {
   "cell_type": "code",
   "execution_count": 2,
   "metadata": {},
   "outputs": [],
   "source": [
    "if sys.platform =='linux':\n",
    "    path_d = Path('/mnt/d')\n",
    "else:\n",
    "    path_d = Path('D://')\n",
    "data_dir = path_d/'data'/'dpe_full'   \n",
    "\n"
   ]
  },
  {
   "cell_type": "markdown",
   "metadata": {},
   "source": [
    "# read exemple"
   ]
  },
  {
   "cell_type": "code",
   "execution_count": 3,
   "metadata": {},
   "outputs": [],
   "source": [
    "dept = '38'\n",
    "\n",
    "td007 =pd.read_csv(data_dir/dept/'td007_paroi_opaque.csv',dtype=str)\n",
    "td006 =pd.read_csv(data_dir/dept/'td006_batiment.csv',dtype=str)\n",
    "td001 =pd.read_csv(data_dir/dept/'td001_dpe.csv',dtype=str)\n",
    "td008 =pd.read_csv(data_dir/dept/'td008_baie.csv',dtype=str)\n"
   ]
  },
  {
   "cell_type": "code",
   "execution_count": 4,
   "metadata": {},
   "outputs": [],
   "source": [
    "from assets_orm import DPEMetaData"
   ]
  },
  {
   "cell_type": "code",
   "execution_count": 5,
   "metadata": {},
   "outputs": [],
   "source": [
    "meta = DPEMetaData()\n",
    "self=meta"
   ]
  },
  {
   "cell_type": "code",
   "execution_count": 6,
   "metadata": {},
   "outputs": [],
   "source": [
    "table =td008.copy()"
   ]
  },
  {
   "cell_type": "code",
   "execution_count": 7,
   "metadata": {},
   "outputs": [],
   "source": [
    "table = meta.merge_all_tr_table(table)\n",
    "\n",
    "table = meta.merge_all_tv_table(table)"
   ]
  },
  {
   "cell_type": "code",
   "execution_count": 9,
   "metadata": {},
   "outputs": [],
   "source": [
    "td008_types = {'id': 'object',\n",
    "               'td007_paroi_opaque_id': 'object',\n",
    "               'reference': 'object',\n",
    "               'td008_baie_id': 'object',\n",
    "               'deperdition': 'float',\n",
    "               'tv009_coefficient_transmission_thermique_vitrage_id': 'category',\n",
    "               'presence_survitrage': 'bool',\n",
    "               'coefficient_transmission_thermique_baie': 'float',\n",
    "               'tv010_coefficient_transmission_thermique_baie_id': 'category',\n",
    "               'tv011_resistance_additionnelle_id': 'category',\n",
    "               'tv012_coef_transmission_thermique_baie_protection_solaire_id': 'category',\n",
    "               'surface': 'float',\n",
    "               'perimetre': 'float',\n",
    "               'tv013_valeur_pont_thermique_id': 'category',\n",
    "               'facteur_solaire': 'float',\n",
    "               'tv021_facteur_solaire_id': 'category',\n",
    "               'tv022_coefficient_masques_proches_id': 'category',\n",
    "               'coefficient_masques_lointains_non_homogenes': 'float',\n",
    "               'tv023_coefficient_masques_lointains_homogenes_id': 'category',\n",
    "               'tv020_coefficient_orientation_id': 'category',\n",
    "               'tv009_Type de vitrage': 'category',\n",
    "               'tv009_Orientation': 'category',\n",
    "               'tv009_Remplissage': 'category',\n",
    "               'tv009_Epaisseur Lame': 'category',\n",
    "               'tv009_Traitement du vitrage': 'category',\n",
    "               'tv009_Ug': 'category',\n",
    "               'tv010_Type de matériaux': 'category',\n",
    "               'tv010_Type de Baie': 'category',\n",
    "               'tv010_Ug': 'category',\n",
    "               'tv010_Uw': 'category',\n",
    "               'tv011_Fermetures': 'category',\n",
    "               'tv011_∆R': 'category',\n",
    "               'tv012_Uw': 'category',\n",
    "               'tv012_∆R': 'category',\n",
    "               'tv012_Ujn': 'category',\n",
    "               'tv013_Type de liaison': 'category',\n",
    "               'tv013_Isolation Mur': 'category',\n",
    "               'tv013_Isolation Plancher bas': 'category',\n",
    "               'tv013_Largeur du dormant': 'category',\n",
    "               'tv013_Type de pose': 'category',\n",
    "               \"tv013_Retour d'isolation\": 'category',\n",
    "               'tv013_K': 'category',\n",
    "               'tv021_Type de Pose': 'category',\n",
    "               'tv021_Matériaux': 'category',\n",
    "               'tv021_Type de Baie': 'category',\n",
    "               'tv021_Type de Vitrage': 'category',\n",
    "               'tv021_Fts': 'category',\n",
    "               'tv022_Type de maque': 'category',\n",
    "               'tv022_Avancé L': 'category',\n",
    "               'tv022_Orientation': 'category',\n",
    "               'tv022_Rapport L1/L2': 'category',\n",
    "               'tv022_β & γ': 'category',\n",
    "               'tv022_Fe1': 'category',\n",
    "               'tv023_Hauteur α (°)': 'category',\n",
    "               'tv023_Orientation': 'category',\n",
    "               'tv023_Fe2': 'category',\n",
    "               'tv020_Inclinaison de la paroi': 'category',\n",
    "               'tv020_Orientation de la paroi': 'category',\n",
    "               'tv020_Type de baie': 'category',\n",
    "               'tv020_C1': 'category'}\n"
   ]
  },
  {
   "cell_type": "code",
   "execution_count": null,
   "metadata": {},
   "outputs": [],
   "source": [
    "table=table.astype(td008_types)\n"
   ]
  },
  {
   "cell_type": "markdown",
   "metadata": {},
   "source": [
    "# orientation processing avec tv020 et reference.\n"
   ]
  },
  {
   "cell_type": "code",
   "execution_count": null,
   "metadata": {},
   "outputs": [],
   "source": [
    "table['orientation_infer'] = table['tv020_Orientation de la paroi'].astype('string').fillna('NONDEF')\n",
    "nondef = table.orientation_infer == 'NONDEF'\n",
    "horiz = table['tv020_coefficient_orientation_id'] == \"TV020_013\"\n",
    "table.loc[horiz, 'orientation_infer'] = 'Horizontale'\n",
    "ouest = table.reference.str.lower().str.contains('ouest')\n",
    "nord = table.reference.str.lower().str.contains('nord')\n",
    "sud = table.reference.str.lower().str.contains('sud')\n",
    "est = table.reference.str.lower().str.contains('est')\n",
    "table.loc[nord & nondef, 'orientation_infer'] = \"Nord\"\n",
    "table.loc[sud & nondef, 'orientation_infer'] = \"Sud\"\n",
    "table.loc[ouest & nondef, 'orientation_infer'] = \"Ouest\"\n",
    "table.loc[est & nondef, 'orientation_infer'] = \"Est\"\n",
    "table.loc[(ouest & est & nondef), 'orientation_infer'] = \"Est ou Ouest\"\n",
    "table.orientation_infer = table.orientation_infer.astype('category')"
   ]
  },
  {
   "cell_type": "markdown",
   "metadata": {},
   "source": [
    "# type vitrage processing avec tv009, tv010, tv021 et reference\n"
   ]
  },
  {
   "cell_type": "code",
   "execution_count": 177,
   "metadata": {},
   "outputs": [],
   "source": [
    "\n",
    "table['fen_lib_from_tv009'] = table['tv009_Type de vitrage'].astype('string') + ' ' + table['tv009_Remplissage'].astype('string').fillna('') + ' ' \n",
    "table['fen_lib_from_tv009'] +=table[\n",
    "    'tv009_Epaisseur Lame'].astype('Int32').fillna(0).astype(int).astype(str).replace('0', '').apply(\n",
    "    lambda x: x + ' mm ' if x != '' else x) + table['tv010_Type de matériaux'].astype('string').fillna('') + ' ' + table[\n",
    "                              'tv009_Traitement du vitrage'].astype('string').fillna('')\n",
    "table['fen_lib_from_tv009'] = table['fen_lib_from_tv009'].fillna('NONDEF')\n",
    "\n",
    "table['fen_lib_from_tv021'] = table['tv021_Type de Baie'].astype('string') + ' ' + table['tv021_Type de Vitrage'].astype('string').fillna('') + ' ' \n",
    "table['fen_lib_from_tv021'] += table['tv021_Matériaux'].astype('string').fillna('') \n",
    "table['fen_lib_from_tv021'] = table['fen_lib_from_tv021'].fillna('NONDEF')\n",
    "\n",
    "\n",
    "\n",
    "double_vitrage = table.fen_lib_from_tv009.str.lower().str.contains('double')|table.fen_lib_from_tv021.str.lower().str.contains('double')\n",
    "\n",
    "triple_vitrage = table.fen_lib_from_tv009.str.lower().str.contains('triple')|table.fen_lib_from_tv021.str.lower().str.contains('triple')\n",
    "\n",
    "simple_vitrage = table.fen_lib_from_tv009.str.lower().str.contains('simple')|table.fen_lib_from_tv021.str.lower().str.contains('simple')\n",
    "\n",
    "\n",
    "porte = table['tv010_Type de matériaux'].astype(str).fillna('').str.lower().str.contains('portes ')# l'espace à la fin est important sinon confusion portes-fenetres\n",
    "porte = porte | table['tv010_Type de Baie'].astype(str).fillna('').str.lower().str.contains('porte ')\n",
    "porte = porte | table['reference'].fillna('').str.lower().str.contains('porte ')\n",
    "porte = porte | table['reference'].fillna('').str.lower().str.contains('portes ')\n",
    "\n",
    "table['type_vitrage_simple_infer']='NONDEF'\n",
    "\n",
    "table.loc[double_vitrage,'type_vitrage_simple_infer']='double vitrage'\n",
    "table.loc[triple_vitrage,'type_vitrage_simple_infer']='triple vitrage'\n",
    "table.loc[simple_vitrage,'type_vitrage_simple_infer']='simple vitrage'\n",
    "\n",
    "table.loc[simple_vitrage&double_vitrage,'type_vitrage_simple_infer'] = \"INCOHERENT\"\n",
    "table.loc[simple_vitrage&triple_vitrage,'type_vitrage_simple_infer'] = \"INCOHERENT\"\n",
    "table.loc[triple_vitrage&double_vitrage,'type_vitrage_simple_infer'] = \"INCOHERENT\"\n",
    "table.loc[porte,'type_vitrage_simple_infer'] = \"porte\"\n",
    "\n",
    "# distinction brique de verre\n",
    "\n",
    "brique = table['tv010_Type de matériaux'].astype(str).fillna('').str.lower().str.contains('brique')\n",
    "\n",
    "brique = brique | table['tv010_Type de matériaux'].astype(str).fillna('').str.lower().str.contains('polycarb')\n",
    "\n",
    "brique = brique | table.reference.str.lower().str.contains('brique')\n",
    "\n",
    "brique = brique | table.reference.str.lower().str.contains('polycarb')\n",
    "\n",
    "table.loc[brique,'type_vitrage_simple_infer'] = \"brique de verre ou polycarbonate\"\n",
    "\n",
    "\n",
    "# s_type_from_value = intervals_to_category(table.coefficient_transmission_thermique_baie,infer_type_by_value)\n",
    "\n",
    "# infer_type_by_value = {'simple vitrage':[3.7,7],\n",
    "#                       'double vitrage':[2,3.69],\n",
    "#                       'triple vitrage':[1,2],\n",
    "#                       'INCOHERENT':[0,0.99]}\n",
    "\n",
    "# inc=table.type_vitrage_simple_infer=='INCOHERENT'\n",
    "# nondef=table.type_vitrage_simple_infer=='NONDEF'\n",
    "# inc_or_nondef=inc|nondef\n",
    "\n",
    "# table.loc[inc_or_nondef,'type_vitrage_simple_infer'] = s_type_from_value[inc_or_nondef]\n"
   ]
  },
  {
   "cell_type": "code",
   "execution_count": 178,
   "metadata": {},
   "outputs": [
    {
     "data": {
      "text/plain": [
       "double vitrage                      441433\n",
       "porte                                51169\n",
       "simple vitrage                       27859\n",
       "INCOHERENT                            2999\n",
       "NONDEF                                1759\n",
       "triple vitrage                        1468\n",
       "brique de verre ou polycarbonate       599\n",
       "Name: type_vitrage_simple_infer, dtype: int64"
      ]
     },
     "execution_count": 178,
     "metadata": {},
     "output_type": "execute_result"
    }
   ],
   "source": [
    "table.type_vitrage_simple_infer.value_counts()"
   ]
  },
  {
   "cell_type": "code",
   "execution_count": 202,
   "metadata": {},
   "outputs": [],
   "source": [
    "# type menuiserie en fonction des caractéristiques déjà inférée\n",
    "baie = table.type_vitrage_simple_infer.str.contains('vitrage')\n",
    "porte = table.type_vitrage_simple_infer.str.contains('porte')\n",
    "brique = table.type_vitrage_simple_infer.str.contains('brique')\n",
    "\n",
    "table['cat_baie_simple_infer']='NONDEF'\n",
    "table.loc[baie,'cat_baie_simple_infer'] = 'baie vitrée'\n",
    "table.loc[porte,'cat_baie_simple_infer'] = 'porte'\n",
    "\n",
    "nondef = table.cat_baie_simple_infer==\"NONDEF\"\n",
    "# pour les non def on va chercher dans le string de description\n",
    "baie = table.reference.str.lower().str.contains('fen')\n",
    "ref = table.reference.str.lower()\n",
    "baie = baie | ref.str.contains('baie')\n",
    "baie = baie | ref.str.startswith('f')\n",
    "baie = baie | ref.str.startswith('pf')\n",
    "baie = baie | ref.str.startswith('sv')\n",
    "baie = baie | ref.str.contains('velux')\n",
    "baie = baie | (~table.tv009_coefficient_transmission_thermique_vitrage_id.isnull())\n",
    "baie = baie | ref.str.contains('velux')\n",
    "baie = baie | (table.tv009_coefficient_transmission_thermique_vitrage_id.isnull())\n",
    "baie = baie | table['tv010_Type de Baie'].str.lower().str.contains('fen')\n",
    "baie = baie | table.reference.str.lower().str.contains('vitr')\n",
    "porte = table.reference.str.lower().str.contains('porte')&(~baie)\n",
    "table.loc[nondef&baie,'cat_baie_simple_infer'] = 'baie vitrée'\n",
    "table.loc[nondef&porte,'cat_baie_simple_infer'] = 'porte'\n",
    "table.loc[brique,'cat_baie_simple_infer'] = 'paroi en brique de verre ou polycarbonate'\n",
    "\n",
    "nondef = table.cat_baie_simple_infer==\"NONDEF\"\n",
    "table.cat_baie_simple_infer = table.cat_baie_simple_infer.astype('category')"
   ]
  },
  {
   "cell_type": "code",
   "execution_count": 203,
   "metadata": {},
   "outputs": [
    {
     "data": {
      "text/plain": [
       "baie vitrée                                  475518\n",
       "porte                                         51169\n",
       "paroi en brique de verre ou polycarbonate       599\n",
       "Name: cat_baie_simple_infer, dtype: int64"
      ]
     },
     "execution_count": 203,
     "metadata": {},
     "output_type": "execute_result"
    }
   ],
   "source": [
    "table.cat_baie_simple_infer.value_counts()"
   ]
  },
  {
   "cell_type": "markdown",
   "metadata": {},
   "source": [
    "  # quantitatifs (EXPERIMENTAL)"
   ]
  },
  {
   "cell_type": "code",
   "execution_count": 152,
   "metadata": {},
   "outputs": [],
   "source": [
    "table['nb_vitrage_calc']=(table.deperdition/(table.surface*table.coefficient_transmission_thermique_baie)).round(0)\n",
    "null = (table.surface==0) | (table.coefficient_transmission_thermique_baie==0) |(table.deperdition==0)\n",
    "table.loc[null,'nb_vitrage_calc']=np.nan\n",
    "zeros=table.nb_vitrage==0\n",
    "table.loc[zeros,'nb_vitrage_calc']=np.nan\n",
    "\n",
    "table['surfacexnb_vitrage_calc']=table.surface*table.nb_vitrage"
   ]
  }
 ],
 "metadata": {
  "kernelspec": {
   "display_name": "Python 3",
   "language": "python",
   "name": "python3"
  },
  "language_info": {
   "codemirror_mode": {
    "name": "ipython",
    "version": 3
   },
   "file_extension": ".py",
   "mimetype": "text/x-python",
   "name": "python",
   "nbconvert_exporter": "python",
   "pygments_lexer": "ipython3",
   "version": "3.6.5"
  },
  "toc": {
   "base_numbering": 1,
   "nav_menu": {},
   "number_sections": true,
   "sideBar": true,
   "skip_h1_title": false,
   "title_cell": "Table of Contents",
   "title_sidebar": "Contents",
   "toc_cell": false,
   "toc_position": {
    "height": "calc(100% - 180px)",
    "left": "10px",
    "top": "150px",
    "width": "294.4px"
   },
   "toc_section_display": true,
   "toc_window_display": true
  }
 },
 "nbformat": 4,
 "nbformat_minor": 2
}
