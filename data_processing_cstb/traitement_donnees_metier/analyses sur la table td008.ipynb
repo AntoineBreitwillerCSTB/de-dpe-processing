{
 "cells": [
  {
   "cell_type": "markdown",
   "metadata": {},
   "source": [
    "# import"
   ]
  },
  {
   "cell_type": "code",
   "execution_count": 1,
   "metadata": {},
   "outputs": [],
   "source": [
    "import pandas as pd\n",
    "import json\n",
    "import requests\n",
    "from pathlib import Path\n",
    "import numpy as np\n",
    "import sys\n",
    "import requests\n",
    "import json\n",
    "from matplotlib import pyplot as plt\n",
    "import seaborn as sns\n",
    "sns.set_context('talk')\n",
    "%matplotlib inline\n"
   ]
  },
  {
   "cell_type": "markdown",
   "metadata": {},
   "source": [
    "# directories\n"
   ]
  },
  {
   "cell_type": "code",
   "execution_count": 2,
   "metadata": {},
   "outputs": [],
   "source": [
    "if sys.platform =='linux':\n",
    "    path_d = Path('/mnt/d')\n",
    "else:\n",
    "    path_d = Path('D://')\n",
    "data_dir = path_d/'data'/'dpe_full'   \n",
    "\n",
    "plot_dir = Path('.')/'plot'\n",
    "plot_dir.mkdir(exist_ok=True,parents=True)"
   ]
  },
  {
   "cell_type": "markdown",
   "metadata": {},
   "source": [
    "# read exemple"
   ]
  },
  {
   "cell_type": "code",
   "execution_count": 3,
   "metadata": {},
   "outputs": [],
   "source": [
    "dept = '38'\n",
    "\n",
    "td007 =pd.read_csv(data_dir/dept/'td007_paroi_opaque.csv',dtype=str)\n",
    "td006 =pd.read_csv(data_dir/dept/'td006_batiment.csv',dtype=str)\n",
    "td001 =pd.read_csv(data_dir/dept/'td001_dpe.csv',dtype=str)\n",
    "td008 =pd.read_csv(data_dir/dept/'td008_baie.csv',dtype=str)\n"
   ]
  },
  {
   "cell_type": "code",
   "execution_count": 4,
   "metadata": {},
   "outputs": [],
   "source": [
    "from assets_orm import DPEMetaData"
   ]
  },
  {
   "cell_type": "code",
   "execution_count": 5,
   "metadata": {},
   "outputs": [],
   "source": [
    "meta = DPEMetaData()\n",
    "self=meta"
   ]
  },
  {
   "cell_type": "code",
   "execution_count": 7,
   "metadata": {},
   "outputs": [],
   "source": [
    "table =td008.copy()"
   ]
  },
  {
   "cell_type": "code",
   "execution_count": 8,
   "metadata": {},
   "outputs": [],
   "source": [
    "table = meta.merge_all_tr_table(table)"
   ]
  },
  {
   "cell_type": "code",
   "execution_count": 9,
   "metadata": {},
   "outputs": [],
   "source": [
    "table = meta.merge_all_tv_table(table)"
   ]
  },
  {
   "cell_type": "code",
   "execution_count": 32,
   "metadata": {},
   "outputs": [],
   "source": [
    "td008_types = {'id': 'object',\n",
    "               'td007_paroi_opaque_id': 'object',\n",
    "               'reference': 'object',\n",
    "               'td008_baie_id': 'object',\n",
    "               'deperdition': 'float',\n",
    "               'tv009_coefficient_transmission_thermique_vitrage_id': 'category',\n",
    "               'presence_survitrage': 'bool',\n",
    "               'coefficient_transmission_thermique_baie': 'float',\n",
    "               'tv010_coefficient_transmission_thermique_baie_id': 'category',\n",
    "               'tv011_resistance_additionnelle_id': 'category',\n",
    "               'tv012_coef_transmission_thermique_baie_protection_solaire_id': 'category',\n",
    "               'surface': 'float',\n",
    "               'perimetre': 'float',\n",
    "               'tv013_valeur_pont_thermique_id': 'category',\n",
    "               'facteur_solaire': 'float',\n",
    "               'tv021_facteur_solaire_id': 'category',\n",
    "               'tv022_coefficient_masques_proches_id': 'category',\n",
    "               'coefficient_masques_lointains_non_homogenes': 'float',\n",
    "               'tv023_coefficient_masques_lointains_homogenes_id': 'category',\n",
    "               'tv020_coefficient_orientation_id': 'category',\n",
    "               'tv009_Type de vitrage': 'category',\n",
    "               'tv009_Orientation': 'category',\n",
    "               'tv009_Remplissage': 'category',\n",
    "               'tv009_Epaisseur Lame': 'category',\n",
    "               'tv009_Traitement du vitrage': 'category',\n",
    "               'tv009_Ug': 'category',\n",
    "               'tv010_Type de matériaux': 'category',\n",
    "               'tv010_Type de Baie': 'category',\n",
    "               'tv010_Ug': 'category',\n",
    "               'tv010_Uw': 'category',\n",
    "               'tv011_Fermetures': 'category',\n",
    "               'tv011_∆R': 'category',\n",
    "               'tv012_Uw': 'category',\n",
    "               'tv012_∆R': 'category',\n",
    "               'tv012_Ujn': 'category',\n",
    "               'tv013_Type de liaison': 'category',\n",
    "               'tv013_Isolation Mur': 'category',\n",
    "               'tv013_Isolation Plancher bas': 'category',\n",
    "               'tv013_Largeur du dormant': 'category',\n",
    "               'tv013_Type de pose': 'category',\n",
    "               \"tv013_Retour d'isolation\": 'category',\n",
    "               'tv013_K': 'category',\n",
    "               'tv021_Type de Pose': 'category',\n",
    "               'tv021_Matériaux': 'category',\n",
    "               'tv021_Type de Baie': 'category',\n",
    "               'tv021_Type de Vitrage': 'category',\n",
    "               'tv021_Fts': 'category',\n",
    "               'tv022_Type de maque': 'category',\n",
    "               'tv022_Avancé L': 'category',\n",
    "               'tv022_Orientation': 'category',\n",
    "               'tv022_Rapport L1/L2': 'category',\n",
    "               'tv022_β & γ': 'category',\n",
    "               'tv022_Fe1': 'category',\n",
    "               'tv023_Hauteur α (°)': 'category',\n",
    "               'tv023_Orientation': 'category',\n",
    "               'tv023_Fe2': 'category',\n",
    "               'tv020_Inclinaison de la paroi': 'category',\n",
    "               'tv020_Orientation de la paroi': 'category',\n",
    "               'tv020_Type de baie': 'category',\n",
    "               'tv020_C1': 'category'}\n"
   ]
  },
  {
   "cell_type": "code",
   "execution_count": 33,
   "metadata": {},
   "outputs": [],
   "source": [
    "table=table.astype(td008_types)"
   ]
  },
  {
   "cell_type": "code",
   "execution_count": 27,
   "metadata": {},
   "outputs": [
    {
     "data": {
      "text/plain": [
       "0         2.20\n",
       "1         2.60\n",
       "2         2.20\n",
       "3         2.20\n",
       "4         2.20\n",
       "          ... \n",
       "527281    2.40\n",
       "527282    2.40\n",
       "527283    2.40\n",
       "527284    2.50\n",
       "527285    2.90\n",
       "Name: coefficient_transmission_thermique_baie, Length: 527286, dtype: object"
      ]
     },
     "execution_count": 27,
     "metadata": {},
     "output_type": "execute_result"
    }
   ],
   "source": [
    "table.coefficient_transmission_thermique_baie"
   ]
  },
  {
   "cell_type": "code",
   "execution_count": null,
   "metadata": {},
   "outputs": [],
   "source": []
  }
 ],
 "metadata": {
  "kernelspec": {
   "display_name": "Python 3",
   "language": "python",
   "name": "python3"
  },
  "language_info": {
   "codemirror_mode": {
    "name": "ipython",
    "version": 3
   },
   "file_extension": ".py",
   "mimetype": "text/x-python",
   "name": "python",
   "nbconvert_exporter": "python",
   "pygments_lexer": "ipython3",
   "version": "3.6.5"
  },
  "toc": {
   "base_numbering": 1,
   "nav_menu": {},
   "number_sections": true,
   "sideBar": true,
   "skip_h1_title": false,
   "title_cell": "Table of Contents",
   "title_sidebar": "Contents",
   "toc_cell": false,
   "toc_position": {},
   "toc_section_display": true,
   "toc_window_display": false
  }
 },
 "nbformat": 4,
 "nbformat_minor": 2
}
