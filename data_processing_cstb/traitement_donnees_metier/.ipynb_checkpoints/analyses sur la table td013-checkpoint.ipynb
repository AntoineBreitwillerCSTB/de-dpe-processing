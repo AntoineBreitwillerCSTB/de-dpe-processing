{
 "cells": [
  {
   "cell_type": "markdown",
   "metadata": {},
   "source": [
    "# import"
   ]
  },
  {
   "cell_type": "code",
   "execution_count": 1,
   "metadata": {},
   "outputs": [],
   "source": [
    "import pandas as pd\n",
    "import json\n",
    "import requests\n",
    "from pathlib import Path\n",
    "import numpy as np\n",
    "import sys\n",
    "import requests\n",
    "import json\n",
    "from matplotlib import pyplot as plt\n",
    "import seaborn as sns\n",
    "sns.set_context('talk')\n",
    "%matplotlib inline\n"
   ]
  },
  {
   "cell_type": "markdown",
   "metadata": {},
   "source": [
    "# directories\n"
   ]
  },
  {
   "cell_type": "code",
   "execution_count": 2,
   "metadata": {},
   "outputs": [],
   "source": [
    "if sys.platform =='linux':\n",
    "    path_d = Path('/mnt/d')\n",
    "else:\n",
    "    path_d = Path('D://')\n",
    "data_dir = path_d/'data'/'dpe_full'   \n",
    "\n",
    "plot_dir = Path('.')/'plot'\n",
    "plot_dir.mkdir(exist_ok=True,parents=True)"
   ]
  },
  {
   "cell_type": "markdown",
   "metadata": {},
   "source": [
    "# read exemple"
   ]
  },
  {
   "cell_type": "code",
   "execution_count": 3,
   "metadata": {},
   "outputs": [],
   "source": [
    "dept = '38'\n",
    "td011 =pd.read_csv(data_dir/'depts'/dept/'td011_installation_chauffage.csv',dtype=str)\n",
    "td012 =pd.read_csv(data_dir/'depts'/dept/'td012_generateur_chauffage.csv',dtype=str)\n",
    "td013 =pd.read_csv(data_dir/'depts'/dept/'td013_installation_ecs.csv',dtype=str)\n",
    "td014 =pd.read_csv(data_dir/'depts'/dept/'td014_generateur_ecs.csv',dtype=str)\n",
    "td006 =pd.read_csv(data_dir/'depts'/dept/'td006_batiment.csv',dtype=str)\n",
    "td001 =pd.read_csv(data_dir/'depts'/dept/'td001_dpe.csv',dtype=str)\n",
    "td005 =pd.read_csv(data_dir/'depts'/dept/'td005_fiche_technique.csv',dtype=str)"
   ]
  },
  {
   "cell_type": "code",
   "execution_count": 52,
   "metadata": {},
   "outputs": [],
   "source": [
    "from utils import strip_accents,affect_lib_by_matching_score"
   ]
  },
  {
   "cell_type": "code",
   "execution_count": 53,
   "metadata": {
    "scrolled": true
   },
   "outputs": [],
   "source": [
    "vr_ecs = td005.loc[td005.tr011_sous_categorie_fiche_technique_id=='17'].valeur_renseignee.str.lower().apply(lambda x:strip_accents(x))\n",
    "\n"
   ]
  },
  {
   "cell_type": "code",
   "execution_count": 54,
   "metadata": {},
   "outputs": [],
   "source": [
    "gen_ecs_normalized_lib_matching_dict_ft = {\n",
    "    \"ballon thermodynamique electrique\": [('pac','thermodynamique', 'air extrait','air exterieur','pompe a chaleur'),\n",
    "                                         \n",
    "                                         ],\n",
    "    \"pompe a chaleur combinee ecs/chauffage (indeterminee)\": [\n",
    "        ('pac','thermodynamique', 'air extrait','air exterieur','pompe a chaleur'),\n",
    "        ('mixte','combine')\n",
    "                        ],\n",
    "    \"pompe a chaleur combinee ecs/chauffage (pac air/eau)\": [\n",
    "        ('pac','thermodynamique', 'air extrait','air exterieur','pompe a chaleur'),\n",
    "        ('mixte','combine'),'air/eau'\n",
    "                        ],\n",
    "    \"pompe a chaleur combinee ecs/chauffage (pac geothermique)\": [\n",
    "    ('pac','thermodynamique', 'air extrait','air exterieur','pompe a chaleur'),\n",
    "    ('mixte','combine'),'geothermique'\n",
    "                    ],\n",
    "    \n",
    "    \"pompe a chaleur combinee ecs/chauffage (pac air/air)\": [\n",
    "    ('pac','thermodynamique', 'air extrait','air exterieur','pompe a chaleur'),\n",
    "    ('mixte','combine'),'air/air'\n",
    "                    ],\n",
    "    \"pompe a chaleur combinee ecs/chauffage (pac eau/eau)\": [\n",
    "    ('pac','thermodynamique', 'air extrait','air exterieur','pompe a chaleur'),\n",
    "    ('mixte','combine'),'eau/eau'\n",
    "                    ],\n",
    "    \"ballon electrique\": [('ballon', 'chauffe-eau','classique'), ('electricite', 'electrique')],\n",
    "    \"ecs instantanee electrique\": [( 'instantanee', 'instantane'), ('chauffe-eau','classique'), ('electricite', 'electrique')],\n",
    "\n",
    "    'chaudiere mixte gaz': [\"chaudiere\", ('mixte','combine'), (\"gaz\", \"gpl\")],\n",
    "    'chaudiere mixte fioul': [\"chaudiere\", ('mixte','combine'), \"fioul\"],\n",
    "    'chaudiere mixte bois': [\"chaudiere\" , ('mixte','combine'), \"classe\",\n",
    "                             (\"bois\", \"biomasse\")],\n",
    "\n",
    "    'chauffe-eau gaz independant': [(\"ballon\",\"chauffe-eau\", \"accumulateur\", \"chauffe bain\"), \"gaz\"],\n",
    "    'chauffe-eau gpl independant': [(\"ballon\", \"chauffe-eau\", \"accumulateur\", \"chauffe bain\"), \"gpl\"],\n",
    "\n",
    "    'chauffe-eau fioul independant': [(\"ballon\",\"chauffe-eau\", \"accumulateur\", \"chauffe bain\"), \"fioul\"],\n",
    "    \"ecs collective reseau de chaleur\": [\"reseau de chaleur\"],\n",
    "\n",
    "    'chaudiere gaz': [\"chaudiere\", \"gaz\"],\n",
    "    'chaudiere gpl': [\"chaudiere\", \"gpl\"],\n",
    "    'chaudiere fioul': [\"chaudiere\", \"fioul\"],\n",
    "\n",
    "}"
   ]
  },
  {
   "cell_type": "code",
   "execution_count": 55,
   "metadata": {},
   "outputs": [
    {
     "ename": "KeyboardInterrupt",
     "evalue": "",
     "output_type": "error",
     "traceback": [
      "\u001b[1;31m---------------------------------------------------------------------------\u001b[0m",
      "\u001b[1;31mKeyboardInterrupt\u001b[0m                         Traceback (most recent call last)",
      "\u001b[1;32m<ipython-input-55-46249e1df6cd>\u001b[0m in \u001b[0;36m<module>\u001b[1;34m\u001b[0m\n\u001b[1;32m----> 1\u001b[1;33m \u001b[0mlibs\u001b[0m\u001b[1;33m=\u001b[0m\u001b[0mvr_ecs\u001b[0m\u001b[1;33m.\u001b[0m\u001b[0mapply\u001b[0m\u001b[1;33m(\u001b[0m\u001b[1;32mlambda\u001b[0m \u001b[0mx\u001b[0m\u001b[1;33m:\u001b[0m\u001b[0maffect_lib_by_matching_score\u001b[0m\u001b[1;33m(\u001b[0m\u001b[0mx\u001b[0m\u001b[1;33m,\u001b[0m\u001b[0mgen_ecs_normalized_lib_matching_dict_ft\u001b[0m\u001b[1;33m)\u001b[0m\u001b[1;33m)\u001b[0m\u001b[1;33m\u001b[0m\u001b[0m\n\u001b[0m",
      "\u001b[1;32mC:\\ProgramData\\Anaconda3\\lib\\site-packages\\pandas\\core\\series.py\u001b[0m in \u001b[0;36mapply\u001b[1;34m(self, func, convert_dtype, args, **kwds)\u001b[0m\n\u001b[0;32m   3846\u001b[0m             \u001b[1;32melse\u001b[0m\u001b[1;33m:\u001b[0m\u001b[1;33m\u001b[0m\u001b[0m\n\u001b[0;32m   3847\u001b[0m                 \u001b[0mvalues\u001b[0m \u001b[1;33m=\u001b[0m \u001b[0mself\u001b[0m\u001b[1;33m.\u001b[0m\u001b[0mastype\u001b[0m\u001b[1;33m(\u001b[0m\u001b[0mobject\u001b[0m\u001b[1;33m)\u001b[0m\u001b[1;33m.\u001b[0m\u001b[0mvalues\u001b[0m\u001b[1;33m\u001b[0m\u001b[0m\n\u001b[1;32m-> 3848\u001b[1;33m                 \u001b[0mmapped\u001b[0m \u001b[1;33m=\u001b[0m \u001b[0mlib\u001b[0m\u001b[1;33m.\u001b[0m\u001b[0mmap_infer\u001b[0m\u001b[1;33m(\u001b[0m\u001b[0mvalues\u001b[0m\u001b[1;33m,\u001b[0m \u001b[0mf\u001b[0m\u001b[1;33m,\u001b[0m \u001b[0mconvert\u001b[0m\u001b[1;33m=\u001b[0m\u001b[0mconvert_dtype\u001b[0m\u001b[1;33m)\u001b[0m\u001b[1;33m\u001b[0m\u001b[0m\n\u001b[0m\u001b[0;32m   3849\u001b[0m \u001b[1;33m\u001b[0m\u001b[0m\n\u001b[0;32m   3850\u001b[0m         \u001b[1;32mif\u001b[0m \u001b[0mlen\u001b[0m\u001b[1;33m(\u001b[0m\u001b[0mmapped\u001b[0m\u001b[1;33m)\u001b[0m \u001b[1;32mand\u001b[0m \u001b[0misinstance\u001b[0m\u001b[1;33m(\u001b[0m\u001b[0mmapped\u001b[0m\u001b[1;33m[\u001b[0m\u001b[1;36m0\u001b[0m\u001b[1;33m]\u001b[0m\u001b[1;33m,\u001b[0m \u001b[0mSeries\u001b[0m\u001b[1;33m)\u001b[0m\u001b[1;33m:\u001b[0m\u001b[1;33m\u001b[0m\u001b[0m\n",
      "\u001b[1;32mpandas\\_libs\\lib.pyx\u001b[0m in \u001b[0;36mpandas._libs.lib.map_infer\u001b[1;34m()\u001b[0m\n",
      "\u001b[1;32m<ipython-input-55-46249e1df6cd>\u001b[0m in \u001b[0;36m<lambda>\u001b[1;34m(x)\u001b[0m\n\u001b[1;32m----> 1\u001b[1;33m \u001b[0mlibs\u001b[0m\u001b[1;33m=\u001b[0m\u001b[0mvr_ecs\u001b[0m\u001b[1;33m.\u001b[0m\u001b[0mapply\u001b[0m\u001b[1;33m(\u001b[0m\u001b[1;32mlambda\u001b[0m \u001b[0mx\u001b[0m\u001b[1;33m:\u001b[0m\u001b[0maffect_lib_by_matching_score\u001b[0m\u001b[1;33m(\u001b[0m\u001b[0mx\u001b[0m\u001b[1;33m,\u001b[0m\u001b[0mgen_ecs_normalized_lib_matching_dict_ft\u001b[0m\u001b[1;33m)\u001b[0m\u001b[1;33m)\u001b[0m\u001b[1;33m\u001b[0m\u001b[0m\n\u001b[0m",
      "\u001b[1;32mD:\\Cstbdata\\MONWORKSPACE\\Gitlab\\de-dpe-processing\\data_processing_cstb\\traitement_donnees_metier\\utils.py\u001b[0m in \u001b[0;36maffect_lib_by_matching_score\u001b[1;34m(txt, lib_dict)\u001b[0m\n\u001b[0;32m    195\u001b[0m     \u001b[0mcomp_score_dict\u001b[0m \u001b[1;33m=\u001b[0m \u001b[0mdict\u001b[0m\u001b[1;33m(\u001b[0m\u001b[1;33m)\u001b[0m\u001b[1;33m\u001b[0m\u001b[0m\n\u001b[0;32m    196\u001b[0m     \u001b[1;32mfor\u001b[0m \u001b[0mk\u001b[0m\u001b[1;33m,\u001b[0m \u001b[0mv\u001b[0m \u001b[1;32min\u001b[0m \u001b[0mlib_dict\u001b[0m\u001b[1;33m.\u001b[0m\u001b[0mitems\u001b[0m\u001b[1;33m(\u001b[0m\u001b[1;33m)\u001b[0m\u001b[1;33m:\u001b[0m\u001b[1;33m\u001b[0m\u001b[0m\n\u001b[1;32m--> 197\u001b[1;33m         \u001b[0mcomp_score_dict\u001b[0m\u001b[1;33m[\u001b[0m\u001b[0mk\u001b[0m\u001b[1;33m]\u001b[0m \u001b[1;33m=\u001b[0m \u001b[0mnp\u001b[0m\u001b[1;33m.\u001b[0m\u001b[0msum\u001b[0m\u001b[1;33m(\u001b[0m\u001b[1;33m[\u001b[0m\u001b[0mcompare_\u001b[0m\u001b[1;33m(\u001b[0m\u001b[0mtxt\u001b[0m\u001b[1;33m,\u001b[0m \u001b[0mel\u001b[0m\u001b[1;33m)\u001b[0m \u001b[1;32mfor\u001b[0m \u001b[0mel\u001b[0m \u001b[1;32min\u001b[0m \u001b[0mv\u001b[0m\u001b[1;33m]\u001b[0m\u001b[1;33m)\u001b[0m\u001b[1;33m\u001b[0m\u001b[0m\n\u001b[0m\u001b[0;32m    198\u001b[0m \u001b[1;33m\u001b[0m\u001b[0m\n\u001b[0;32m    199\u001b[0m     \u001b[0mcomp\u001b[0m \u001b[1;33m=\u001b[0m \u001b[0mpd\u001b[0m\u001b[1;33m.\u001b[0m\u001b[0mSeries\u001b[0m\u001b[1;33m(\u001b[0m\u001b[0mcomp_score_dict\u001b[0m\u001b[1;33m)\u001b[0m\u001b[1;33m.\u001b[0m\u001b[0msort_values\u001b[0m\u001b[1;33m(\u001b[0m\u001b[0mascending\u001b[0m\u001b[1;33m=\u001b[0m\u001b[1;32mFalse\u001b[0m\u001b[1;33m)\u001b[0m\u001b[1;33m\u001b[0m\u001b[0m\n",
      "\u001b[1;32mD:\\Cstbdata\\MONWORKSPACE\\Gitlab\\de-dpe-processing\\data_processing_cstb\\traitement_donnees_metier\\utils.py\u001b[0m in \u001b[0;36m<listcomp>\u001b[1;34m(.0)\u001b[0m\n\u001b[0;32m    195\u001b[0m     \u001b[0mcomp_score_dict\u001b[0m \u001b[1;33m=\u001b[0m \u001b[0mdict\u001b[0m\u001b[1;33m(\u001b[0m\u001b[1;33m)\u001b[0m\u001b[1;33m\u001b[0m\u001b[0m\n\u001b[0;32m    196\u001b[0m     \u001b[1;32mfor\u001b[0m \u001b[0mk\u001b[0m\u001b[1;33m,\u001b[0m \u001b[0mv\u001b[0m \u001b[1;32min\u001b[0m \u001b[0mlib_dict\u001b[0m\u001b[1;33m.\u001b[0m\u001b[0mitems\u001b[0m\u001b[1;33m(\u001b[0m\u001b[1;33m)\u001b[0m\u001b[1;33m:\u001b[0m\u001b[1;33m\u001b[0m\u001b[0m\n\u001b[1;32m--> 197\u001b[1;33m         \u001b[0mcomp_score_dict\u001b[0m\u001b[1;33m[\u001b[0m\u001b[0mk\u001b[0m\u001b[1;33m]\u001b[0m \u001b[1;33m=\u001b[0m \u001b[0mnp\u001b[0m\u001b[1;33m.\u001b[0m\u001b[0msum\u001b[0m\u001b[1;33m(\u001b[0m\u001b[1;33m[\u001b[0m\u001b[0mcompare_\u001b[0m\u001b[1;33m(\u001b[0m\u001b[0mtxt\u001b[0m\u001b[1;33m,\u001b[0m \u001b[0mel\u001b[0m\u001b[1;33m)\u001b[0m \u001b[1;32mfor\u001b[0m \u001b[0mel\u001b[0m \u001b[1;32min\u001b[0m \u001b[0mv\u001b[0m\u001b[1;33m]\u001b[0m\u001b[1;33m)\u001b[0m\u001b[1;33m\u001b[0m\u001b[0m\n\u001b[0m\u001b[0;32m    198\u001b[0m \u001b[1;33m\u001b[0m\u001b[0m\n\u001b[0;32m    199\u001b[0m     \u001b[0mcomp\u001b[0m \u001b[1;33m=\u001b[0m \u001b[0mpd\u001b[0m\u001b[1;33m.\u001b[0m\u001b[0mSeries\u001b[0m\u001b[1;33m(\u001b[0m\u001b[0mcomp_score_dict\u001b[0m\u001b[1;33m)\u001b[0m\u001b[1;33m.\u001b[0m\u001b[0msort_values\u001b[0m\u001b[1;33m(\u001b[0m\u001b[0mascending\u001b[0m\u001b[1;33m=\u001b[0m\u001b[1;32mFalse\u001b[0m\u001b[1;33m)\u001b[0m\u001b[1;33m\u001b[0m\u001b[0m\n",
      "\u001b[1;32mD:\\Cstbdata\\MONWORKSPACE\\Gitlab\\de-dpe-processing\\data_processing_cstb\\traitement_donnees_metier\\utils.py\u001b[0m in \u001b[0;36mcompare_\u001b[1;34m(txt, comp)\u001b[0m\n\u001b[0;32m    184\u001b[0m     \u001b[1;32mdef\u001b[0m \u001b[0mcompare_\u001b[0m\u001b[1;33m(\u001b[0m\u001b[0mtxt\u001b[0m\u001b[1;33m,\u001b[0m \u001b[0mcomp\u001b[0m\u001b[1;33m)\u001b[0m\u001b[1;33m:\u001b[0m\u001b[1;33m\u001b[0m\u001b[0m\n\u001b[0;32m    185\u001b[0m         \u001b[1;32mif\u001b[0m \u001b[0misinstance\u001b[0m\u001b[1;33m(\u001b[0m\u001b[0mcomp\u001b[0m\u001b[1;33m,\u001b[0m \u001b[0mtuple\u001b[0m\u001b[1;33m)\u001b[0m\u001b[1;33m:\u001b[0m\u001b[1;33m\u001b[0m\u001b[0m\n\u001b[1;32m--> 186\u001b[1;33m             \u001b[0mcount\u001b[0m \u001b[1;33m=\u001b[0m \u001b[0mnp\u001b[0m\u001b[1;33m.\u001b[0m\u001b[0mmax\u001b[0m\u001b[1;33m(\u001b[0m\u001b[1;33m[\u001b[0m\u001b[0mtxt\u001b[0m\u001b[1;33m.\u001b[0m\u001b[0mcount\u001b[0m\u001b[1;33m(\u001b[0m\u001b[0mx\u001b[0m\u001b[1;33m)\u001b[0m \u001b[1;32mfor\u001b[0m \u001b[0mx\u001b[0m \u001b[1;32min\u001b[0m \u001b[0mcomp\u001b[0m\u001b[1;33m]\u001b[0m\u001b[1;33m)\u001b[0m\u001b[1;33m\u001b[0m\u001b[0m\n\u001b[0m\u001b[0;32m    187\u001b[0m         \u001b[1;32melse\u001b[0m\u001b[1;33m:\u001b[0m\u001b[1;33m\u001b[0m\u001b[0m\n\u001b[0;32m    188\u001b[0m             \u001b[0mcount\u001b[0m \u001b[1;33m=\u001b[0m \u001b[0mtxt\u001b[0m\u001b[1;33m.\u001b[0m\u001b[0mcount\u001b[0m\u001b[1;33m(\u001b[0m\u001b[0mcomp\u001b[0m\u001b[1;33m)\u001b[0m\u001b[1;33m\u001b[0m\u001b[0m\n",
      "\u001b[1;32m<__array_function__ internals>\u001b[0m in \u001b[0;36mamax\u001b[1;34m(*args, **kwargs)\u001b[0m\n",
      "\u001b[1;32mC:\\ProgramData\\Anaconda3\\lib\\site-packages\\numpy\\core\\fromnumeric.py\u001b[0m in \u001b[0;36mamax\u001b[1;34m(a, axis, out, keepdims, initial, where)\u001b[0m\n\u001b[0;32m   2666\u001b[0m     \"\"\"\n\u001b[0;32m   2667\u001b[0m     return _wrapreduction(a, np.maximum, 'max', axis, None, out,\n\u001b[1;32m-> 2668\u001b[1;33m                           keepdims=keepdims, initial=initial, where=where)\n\u001b[0m\u001b[0;32m   2669\u001b[0m \u001b[1;33m\u001b[0m\u001b[0m\n\u001b[0;32m   2670\u001b[0m \u001b[1;33m\u001b[0m\u001b[0m\n",
      "\u001b[1;32mC:\\ProgramData\\Anaconda3\\lib\\site-packages\\numpy\\core\\fromnumeric.py\u001b[0m in \u001b[0;36m_wrapreduction\u001b[1;34m(obj, ufunc, method, axis, dtype, out, **kwargs)\u001b[0m\n\u001b[0;32m     88\u001b[0m                 \u001b[1;32mreturn\u001b[0m \u001b[0mreduction\u001b[0m\u001b[1;33m(\u001b[0m\u001b[0maxis\u001b[0m\u001b[1;33m=\u001b[0m\u001b[0maxis\u001b[0m\u001b[1;33m,\u001b[0m \u001b[0mout\u001b[0m\u001b[1;33m=\u001b[0m\u001b[0mout\u001b[0m\u001b[1;33m,\u001b[0m \u001b[1;33m**\u001b[0m\u001b[0mpasskwargs\u001b[0m\u001b[1;33m)\u001b[0m\u001b[1;33m\u001b[0m\u001b[0m\n\u001b[0;32m     89\u001b[0m \u001b[1;33m\u001b[0m\u001b[0m\n\u001b[1;32m---> 90\u001b[1;33m     \u001b[1;32mreturn\u001b[0m \u001b[0mufunc\u001b[0m\u001b[1;33m.\u001b[0m\u001b[0mreduce\u001b[0m\u001b[1;33m(\u001b[0m\u001b[0mobj\u001b[0m\u001b[1;33m,\u001b[0m \u001b[0maxis\u001b[0m\u001b[1;33m,\u001b[0m \u001b[0mdtype\u001b[0m\u001b[1;33m,\u001b[0m \u001b[0mout\u001b[0m\u001b[1;33m,\u001b[0m \u001b[1;33m**\u001b[0m\u001b[0mpasskwargs\u001b[0m\u001b[1;33m)\u001b[0m\u001b[1;33m\u001b[0m\u001b[0m\n\u001b[0m\u001b[0;32m     91\u001b[0m \u001b[1;33m\u001b[0m\u001b[0m\n\u001b[0;32m     92\u001b[0m \u001b[1;33m\u001b[0m\u001b[0m\n",
      "\u001b[1;31mKeyboardInterrupt\u001b[0m: "
     ]
    }
   ],
   "source": [
    "libs=vr_ecs.apply(lambda x:affect_lib_by_matching_score(x,gen_ecs_normalized_lib_matching_dict_ft))"
   ]
  },
  {
   "cell_type": "code",
   "execution_count": 57,
   "metadata": {},
   "outputs": [
    {
     "ename": "NameError",
     "evalue": "name 'table' is not defined",
     "output_type": "error",
     "traceback": [
      "\u001b[1;31m---------------------------------------------------------------------------\u001b[0m",
      "\u001b[1;31mNameError\u001b[0m                                 Traceback (most recent call last)",
      "\u001b[1;32m<ipython-input-57-00fb88a1d8bb>\u001b[0m in \u001b[0;36m<module>\u001b[1;34m\u001b[0m\n\u001b[0;32m      2\u001b[0m libs = {k: affect_lib_by_matching_score(k, gen_ecs_normalized_lib_matching_dict_ft) for k in\n\u001b[0;32m      3\u001b[0m                          unique_gen_ecs}\n\u001b[1;32m----> 4\u001b[1;33m \u001b[0mgen_ecs_lib_infer_ft\u001b[0m \u001b[1;33m=\u001b[0m \u001b[0mtable\u001b[0m\u001b[1;33m.\u001b[0m\u001b[0mgen_ch_concat_txt_desc\u001b[0m\u001b[1;33m.\u001b[0m\u001b[0mreplace\u001b[0m\u001b[1;33m(\u001b[0m\u001b[0mlibs\u001b[0m\u001b[1;33m)\u001b[0m\u001b[1;33m\u001b[0m\u001b[0m\n\u001b[0m",
      "\u001b[1;31mNameError\u001b[0m: name 'table' is not defined"
     ]
    }
   ],
   "source": [
    "unique_gen_ecs = vr_ecs.unique()\n",
    "libs = {k: affect_lib_by_matching_score(k, gen_ecs_normalized_lib_matching_dict_ft) for k in\n",
    "                         unique_gen_ecs}\n"
   ]
  },
  {
   "cell_type": "code",
   "execution_count": null,
   "metadata": {},
   "outputs": [],
   "source": [
    "gen_ecs_lib_infer_ft = vr_ecs.replace(libs)"
   ]
  },
  {
   "cell_type": "code",
   "execution_count": null,
   "metadata": {},
   "outputs": [],
   "source": [
    "gen_ecs_lib_infer_ft.value_counts()"
   ]
  },
  {
   "cell_type": "code",
   "execution_count": null,
   "metadata": {},
   "outputs": [],
   "source": [
    "len(libs)"
   ]
  },
  {
   "cell_type": "code",
   "execution_count": 45,
   "metadata": {},
   "outputs": [],
   "source": [
    "is_mixte = vr_ecs.str.contains('mixte')|vr_ecs.str.contains('combine')\n",
    "is_reseau = vr_ecs.str.contains('reseau de chaleur')\n",
    "is_chaudiere = vr_ecs.str.contains('chaudiere')\n",
    "is_ballon_elec = vr_ecs.str.contains('lectrique')\n",
    "is_pac = vr_ecs.str.contains('pompe a chaleur') | vr_ecs.str.contains('pac')\n",
    "\n",
    "is_thermodynamique= vr_ecs.str.contains('thermodynamique')\n",
    "\n",
    "is_pac_comb = is_mixte | is_pac\n",
    "\n",
    "\n",
    "\n"
   ]
  },
  {
   "cell_type": "code",
   "execution_count": null,
   "metadata": {},
   "outputs": [],
   "source": [
    "'ballon electrique'\n"
   ]
  },
  {
   "cell_type": "code",
   "execution_count": 49,
   "metadata": {},
   "outputs": [
    {
     "data": {
      "text/plain": [
       "\"chauffe-eau thermodynamique sur geothermie, hors volume de chauffe, reseau d'eau isole<br/>becs : 2099, rd : 1, rg : 1.7, pn : 44, iecs : 0.68, fecs : 0\""
      ]
     },
     "execution_count": 49,
     "metadata": {},
     "output_type": "execute_result"
    }
   ],
   "source": [
    "vr_ecs.loc[is_thermodynamique].iloc[3]"
   ]
  },
  {
   "cell_type": "code",
   "execution_count": 23,
   "metadata": {},
   "outputs": [
    {
     "data": {
      "text/plain": [
       " - production ecs par générateur mixte (chauffage et ecs)                                                                                                                                                                                                                    5735\n",
       " - raccordement à un réseau de chaleur                                                                                                                                                                                                                                       1971\n",
       "type d'équipement : \\nenergie : \\ntype d'installation : individuelle, sans solaire\\ndistribution : production dans le volume chauffé, pièces alimentées contiguës\\n : \\n                                                                                                     1928\n",
       " - production ecs par générateur mixte (chauffage et ecs)\\n production assurée par la génération : génération n°1 ( générateur 1 )\\ninstallation individuelle production instantanée\\n\\nproduction dans le volume habitable\\nles pièces desservies sont non contigües\\n\\n    1124\n",
       " - production ecs electrique                                                                                                                                                                                                                                                 1015\n",
       "                                                                                                                                                                                                                                                                             ... \n",
       "chaudière collective installée entre 1991 et 2000, réseau d'eau isolé<br/>becs : 779, rd : 1, rg : 0,6, pn : 21, iecs : 3,28, fecs : 0                                                                                                                                          1\n",
       "installation d'ecs 26,3 m²\\r\\n- ecs 1 : chauffe-eau standard (énergie : électrique) avec accumulation verticale 100 l ; production en volume habitable, alimentant des pièces non contigües                                                                                     1\n",
       "combiné au système: chaudière individuelle gaz naturel basse température installée après 2000 régulée, avec programmateur<br/>becs : 1634, rd : 0,92, rg : 0,73, pn : 24, iecs : 1,49, fecs : 0                                                                                 1\n",
       "chauffe-eau électrique installé il y a plus de 5 ans (système individuel)<br/>becs : 2306, rd : 1, rg : 1, pn : 0, iecs : 1.63, fecs : 0, vs : 250                                                                                                                              1\n",
       "combiné au système: chaudière individuelle gaz naturel chaffoteaux installée après 2000 avec programmateur<br/>becs : 1283, rd : 0,92, rg : 0,68, pn : 24, iecs : 1,6, fecs : 0                                                                                                 1\n",
       "Name: valeur_renseignee, Length: 71017, dtype: int64"
      ]
     },
     "execution_count": 23,
     "metadata": {},
     "output_type": "execute_result"
    }
   ],
   "source": [
    "vr_ecs.value_counts()"
   ]
  },
  {
   "cell_type": "code",
   "execution_count": 25,
   "metadata": {},
   "outputs": [],
   "source": [
    "import pandas as pd\n",
    "import numpy as np\n",
    "from assets_orm import DPEMetaData\n",
    "from td001_merge import merge_td001_dpe_id_system\n",
    "\n",
    "td013_types = {'td013_installation_ecs_id': 'str',\n",
    " 'td006_batiment_id': 'str',\n",
    " 'tr005_type_installation_ecs_id': 'str',\n",
    " 'nombre_appartements_echantillon': 'float',\n",
    " 'surface_habitable_echantillon': 'float',\n",
    " 'becs': 'float',\n",
    " 'tv039_formule_becs_id': 'category',\n",
    " 'surface_alimentee': 'float',\n",
    " 'td001_dpe_id': 'str'}\n",
    "\n",
    "\n",
    "td014_types = {'td014_generateur_ecs_id': 'str',\n",
    " 'td013_installation_ecs_id': 'str',\n",
    " 'tr004_type_energie_id': 'str',\n",
    " 'tv045_conversion_kwh_co2_id': 'category',\n",
    " 'tv046_evaluation_contenu_co2_reseaux_id': 'category',\n",
    " 'coefficient_performance': 'float',\n",
    " 'tv032_coefficient_performance_id': 'category',\n",
    " 'rpn': 'float',\n",
    " 'qp0': 'float',\n",
    " 'puissance_veilleuse': 'float',\n",
    " 'tv036_puissance_veilleuse_id': 'category',\n",
    " 'tv037_puissance_necessaire_production_ecs_id': 'category',\n",
    " 'puissance_nominale': 'float',\n",
    " 'tv038_puissance_nominale_id': 'category',\n",
    " 'tv040_rendement_distribution_ecs_id': 'category',\n",
    " 'tv047_rendement_generation_ecs_id': 'category',\n",
    " 'volume_stockage': 'float',\n",
    " 'tv048_rendement_stockage_ecs_id': 'category',\n",
    " 'tv049_perte_stockage_ecs_id': 'category',\n",
    " 'tv041_coefficient_emplacement_fonctionnement_id': 'category',\n",
    " 'tv043_pertes_stockage_id': 'category',\n",
    " 'tv019_fecs_id': 'category',\n",
    " 'tv027_pertes_recuperees_ecs_id': 'category',\n",
    " 'td001_dpe_id': 'str'}\n",
    "\n",
    "def merge_td013_tr_tv(td013):\n",
    "    meta = DPEMetaData()\n",
    "    table = td013.copy()\n",
    "    table = meta.merge_all_tr_table(table)\n",
    "    table = meta.merge_all_tv_table(table)\n",
    "    table = table.astype(td013_types)\n",
    "    table = table.rename(columns={'id': 'td013_installation_ecs_id'})\n",
    "\n",
    "    return table\n",
    "\n",
    "def merge_td014_tr_tv(td014):\n",
    "    meta = DPEMetaData()\n",
    "    table = td014.copy()\n",
    "    table = meta.merge_all_tr_table(table)\n",
    "    table = meta.merge_all_tv_table(table)\n",
    "    table = table.astype(td014_types)\n",
    "    table = table.rename(columns={'id': 'td013_installation_ecs_id'})\n",
    "\n",
    "    return table"
   ]
  },
  {
   "cell_type": "code",
   "execution_count": 26,
   "metadata": {},
   "outputs": [],
   "source": [
    "td001,td006,td011, td012,td013,td014 = merge_td001_dpe_id_system(td001, td006, td011, td012,td013,td014)"
   ]
  },
  {
   "cell_type": "code",
   "execution_count": 27,
   "metadata": {},
   "outputs": [],
   "source": [
    "td013 = merge_td013_tr_tv(td013)\n",
    "\n",
    "td014 = merge_td014_tr_tv(td014)"
   ]
  },
  {
   "cell_type": "code",
   "execution_count": 42,
   "metadata": {},
   "outputs": [
    {
     "data": {
      "text/plain": [
       "{'td014_generateur_ecs_id': 109506,\n",
       " 'td001_dpe_id': 109506,\n",
       " 'tr004_est_efface': 109506,\n",
       " 'tr004_simulateur': 109506,\n",
       " 'puissance_nominale': 109506,\n",
       " 'tr004_description': 109506,\n",
       " 'tv045_conversion_kwh_co2_id': 109506,\n",
       " 'tr004_type_energie_id': 109506,\n",
       " 'td013_installation_ecs_id': 109506,\n",
       " 'volume_stockage': 109302,\n",
       " 'rpn': 107352,\n",
       " 'qp0': 107352,\n",
       " 'coefficient_performance': 107352,\n",
       " 'puissance_veilleuse': 107352,\n",
       " 'tv045_Type de production': 105074,\n",
       " 'tv045_Méthode': 105074,\n",
       " 'tv045_Energie': 105074,\n",
       " 'tv045_Taux de conversion\\nkg/kWh': 105074,\n",
       " \"tv048_Type d'accumulation\": 32717,\n",
       " 'tv040_Type de générateur': 32717,\n",
       " 'tv040_rendement_distribution_ecs_id': 32717,\n",
       " 'tv048_rendement_stockage_ecs_id': 32717,\n",
       " \"tv040_Type d'installation\": 32717,\n",
       " 'tv048_Rs': 32717,\n",
       " 'tv040_Rd': 32717,\n",
       " 'tv049_Type de stockage': 31582,\n",
       " 'tv049_Qg,w': 31582,\n",
       " 'tv049_perte_stockage_ecs_id': 31582,\n",
       " 'tv047_Rg': 30012,\n",
       " 'tv047_rendement_generation_ecs_id': 30012,\n",
       " 'tv047_Type de Générateur': 30012,\n",
       " 'tv040_Production en volume habitable': 29224,\n",
       " 'tv040_Pièces alimentées contiguës': 23815,\n",
       " 'tv027_Zone Hivers': 23293,\n",
       " 'tv027_pertes_recuperees_ecs_id': 23293,\n",
       " 'tv027_Prs2': 23293,\n",
       " 'tv027_Type de système': 23293,\n",
       " 'tv027_Type de Production': 23293,\n",
       " \"tv027_Type d'installation\": 23293,\n",
       " 'tv043_pertes_stockage_id': 20632,\n",
       " 'tv043_Type de chauffe-eau': 20632,\n",
       " 'tv043_Cr': 20632,\n",
       " 'tv043_Volume de stockage ECS': 19785,\n",
       " 'tv037_Capacité Vs': 11952,\n",
       " 'tv037_Type de Production': 11952,\n",
       " 'tv037_Pecs': 11952,\n",
       " 'tv037_puissance_necessaire_production_ecs_id': 11952,\n",
       " 'tv036_puissance_veilleuse_id': 8784,\n",
       " 'tv036_Qp0': 8716,\n",
       " 'tv036_Rpn': 8716,\n",
       " 'tv036_Ancienneté': 8716,\n",
       " 'tv036_Type de Chaudière': 8716,\n",
       " 'tv036_Type de génération': 8576,\n",
       " 'tv036_Rpint': 8573,\n",
       " 'tv038_Type de chaudière': 5019,\n",
       " 'tv038_Pdim': 5019,\n",
       " 'tv038_puissance_nominale_id': 5019,\n",
       " 'tv038_Pn': 5019,\n",
       " \"tv038_Type d'installation\": 5019,\n",
       " 'tv032_coefficient_performance_id': 4513,\n",
       " 'tv041_coefficient_emplacement_fonctionnement_id': 4475,\n",
       " 'tv041_Alimentation': 4475,\n",
       " 'tv041_Ballon en volume habitable': 4475,\n",
       " 'tv041_Cef': 4475,\n",
       " 'tv032_COP': 4334,\n",
       " 'tv032_Type de Générateur': 4334,\n",
       " \"tv038_Année d'installation\": 3013,\n",
       " 'tv036_Veilleuse': 2279,\n",
       " 'tv046_evaluation_contenu_co2_reseaux_id': 1195,\n",
       " 'tv019_Unnamed: 1': 173,\n",
       " \"tv019_Type d'installation\": 173,\n",
       " 'tv019_Fecs': 173,\n",
       " 'tv019_fecs_id': 173,\n",
       " 'tv036_Pn': 140,\n",
       " \"tv019_Ancienneté de l'installation\": 130,\n",
       " 'tv046_Localisation': 2,\n",
       " 'tv046_Nom du Réseau': 2,\n",
       " 'tv046_CO2': 2,\n",
       " \"tv046_Date d'effectivité\": 2,\n",
       " 'tv046_Département': 2,\n",
       " 'tv046_Type de production': 2,\n",
       " 'tr004_simu_ordre': 0}"
      ]
     },
     "execution_count": 42,
     "metadata": {},
     "output_type": "execute_result"
    }
   ],
   "source": [
    "td014.count().sort_values(ascending=False).to_dict()"
   ]
  },
  {
   "cell_type": "code",
   "execution_count": 30,
   "metadata": {},
   "outputs": [],
   "source": [
    "table = td014"
   ]
  },
  {
   "cell_type": "code",
   "execution_count": 86,
   "metadata": {},
   "outputs": [
    {
     "data": {
      "text/plain": [
       "Index(['td014_generateur_ecs_id', 'td013_installation_ecs_id',\n",
       "       'tr004_type_energie_id', 'tv045_conversion_kwh_co2_id',\n",
       "       'tv046_evaluation_contenu_co2_reseaux_id', 'coefficient_performance',\n",
       "       'tv032_coefficient_performance_id', 'rpn', 'qp0', 'puissance_veilleuse',\n",
       "       'tv036_puissance_veilleuse_id',\n",
       "       'tv037_puissance_necessaire_production_ecs_id', 'puissance_nominale',\n",
       "       'tv038_puissance_nominale_id', 'tv040_rendement_distribution_ecs_id',\n",
       "       'tv047_rendement_generation_ecs_id', 'volume_stockage',\n",
       "       'tv048_rendement_stockage_ecs_id', 'tv049_perte_stockage_ecs_id',\n",
       "       'tv041_coefficient_emplacement_fonctionnement_id',\n",
       "       'tv043_pertes_stockage_id', 'tv019_fecs_id',\n",
       "       'tv027_pertes_recuperees_ecs_id', 'td001_dpe_id', 'tr004_description',\n",
       "       'tr004_est_efface', 'tr004_simu_ordre', 'tr004_simulateur',\n",
       "       'tv045_Energie', 'tv045_Méthode', 'tv045_Type de production',\n",
       "       'tv045_Taux de conversion\\nkg/kWh', 'tv046_Département',\n",
       "       'tv046_Nom du Réseau', 'tv046_Localisation', 'tv046_Type de production',\n",
       "       'tv046_CO2', 'tv046_Date d'effectivité', 'tv032_Type de Générateur',\n",
       "       'tv032_COP', 'tv036_Type de Chaudière', 'tv036_Type de génération',\n",
       "       'tv036_Ancienneté', 'tv036_Pn', 'tv036_Rpn', 'tv036_Rpint', 'tv036_Qp0',\n",
       "       'tv036_Veilleuse', 'tv037_Type de Production', 'tv037_Capacité Vs',\n",
       "       'tv037_Pecs', 'tv038_Type de chaudière', 'tv038_Type d'installation',\n",
       "       'tv038_Année d'installation', 'tv038_Pdim', 'tv038_Pn',\n",
       "       'tv040_Type d'installation', 'tv040_Type de générateur',\n",
       "       'tv040_Production en volume habitable',\n",
       "       'tv040_Pièces alimentées contiguës', 'tv040_Rd',\n",
       "       'tv047_Type de Générateur', 'tv047_Rg', 'tv048_Type d'accumulation',\n",
       "       'tv048_Rs', 'tv049_Type de stockage', 'tv049_Qg,w',\n",
       "       'tv041_Alimentation', 'tv041_Ballon en volume habitable', 'tv041_Cef',\n",
       "       'tv043_Type de chauffe-eau', 'tv043_Volume de stockage ECS', 'tv043_Cr',\n",
       "       'tv019_Unnamed: 1', 'tv019_Type d'installation',\n",
       "       'tv019_Ancienneté de l'installation', 'tv019_Fecs',\n",
       "       'tv027_Type d'installation', 'tv027_Type de Production',\n",
       "       'tv027_Type de système', 'tv027_Zone Hivers', 'tv027_Prs2',\n",
       "       'gen_ecs_concat_txt_desc', 'gen_ecs_lib_infer'],\n",
       "      dtype='object')"
      ]
     },
     "execution_count": 86,
     "metadata": {},
     "output_type": "execute_result"
    }
   ],
   "source": [
    "table.columns"
   ]
  },
  {
   "cell_type": "code",
   "execution_count": 87,
   "metadata": {},
   "outputs": [],
   "source": [
    "is_chaudiere = table.rpn>0\n",
    "\n",
    "\n",
    "gen_ecs_concat_txt_desc = table[\"tv027_Type d'installation\"].astype('string').replace(np.nan, '') + ' '\n",
    "gen_ecs_concat_txt_desc.loc[is_chaudiere] += 'chaudiere '\n",
    "\n",
    "gen_ecs_concat_txt_desc += table['tv027_Type de système'].astype('string').replace(np.nan, '') + ' '\n",
    "gen_ecs_concat_txt_desc += table[\"tv032_Type de Générateur\"].astype('string').replace(np.nan, '') + ' '\n",
    "gen_ecs_concat_txt_desc += table['tv036_Type de génération'].astype('string').replace(np.nan, '') + ' '\n",
    "gen_ecs_concat_txt_desc += table['tv037_Type de Production'].astype('string').replace(np.nan, '') + ' '\n",
    "gen_ecs_concat_txt_desc += table['tv040_Type de générateur'].astype('string').replace(np.nan, '') + ' '\n",
    "gen_ecs_concat_txt_desc += table[\"tv040_Type d'installation\"].astype('string').replace(np.nan, '') + ' '\n",
    "gen_ecs_concat_txt_desc += table[\"tr004_description\"].astype('string').replace(np.nan, '') + ' '\n",
    "gen_ecs_concat_txt_desc += table[\"tv045_Energie\"].astype('string').replace(np.nan, '') + ' '\n",
    "gen_ecs_concat_txt_desc += table['tv047_Type de Générateur'].astype('string').replace(np.nan, '') + ' '"
   ]
  },
  {
   "cell_type": "code",
   "execution_count": 40,
   "metadata": {},
   "outputs": [],
   "source": [
    "gen_ecs_normalized_lib_matching_dict = {\n",
    "    \"ballon thermodynamique electrique\": [('individuelle ballon', 'chauffe-eau'), ('pac','thermodynamique', 'air extrait','air exterieur'),\n",
    "                                          ('electricite', 'electrique')],\n",
    "    \"ballon electrique\": [('individuelle ballon', 'chauffe-eau','classique'), ('electricite', 'electrique')],\n",
    "    \"ecs instantanee electrique\": [( 'instantanee', 'chauffe-eau'), ('electricite', 'electrique')],\n",
    "\n",
    "    'chaudiere mixte gaz': [\"chaudiere\", 'mixte', (\"gaz\", \"gpl\")],\n",
    "    'chaudiere mixte fioul': [\"chaudiere\", \"mixte\", \"fioul\"],\n",
    "    'chaudiere mixte bois': [(\"combustion mixte\", \"chaudiere mixte\"), (\"classe\", \"chauffage + ecs\"),\n",
    "                             (\"bois\", \"biomasse\")],\n",
    "\n",
    "    'chauffe-eau gaz independant': [(\"individuelle ballon\", \"chauffe-eau\", \"accumulateur\", \"chauffe bain\"), \"gaz\"],\n",
    "    'chauffe-eau gpl independant': [(\"individuelle ballon\", \"chauffe-eau\", \"accumulateur\", \"chauffe bain\"), \"gpl\"],\n",
    "\n",
    "    'chauffe-eau fioul independant': [(\"individuelle ballon\", \"chauffe-eau\", \"accumulateur\", \"chauffe bain\"), \"fioul\"],\n",
    "    \"ecs collective reseau chaleur\": [\"reseau\", \"chaleur\"],\n",
    "\n",
    "    'chaudiere gaz': [\"chaudiere\", \"gaz\"],\n",
    "    'chaudiere gpl': [\"chaudiere\", \"gpl\"],\n",
    "\n",
    "    'chaudiere fioul': [\"chaudiere\", \"fioul\"],\n",
    "\n",
    "}"
   ]
  },
  {
   "cell_type": "code",
   "execution_count": 89,
   "metadata": {},
   "outputs": [],
   "source": [
    "from utils import clean_str,strip_accents,affect_lib_by_matching_score"
   ]
  },
  {
   "cell_type": "code",
   "execution_count": 90,
   "metadata": {},
   "outputs": [],
   "source": [
    "    gen_ecs_concat_txt_desc = gen_ecs_concat_txt_desc.str.lower().apply(lambda x: strip_accents(x))\n",
    "\n",
    "    table['gen_ecs_concat_txt_desc'] = gen_ecs_concat_txt_desc\n",
    "\n",
    "    table['gen_ecs_concat_txt_desc'] = table['gen_ecs_concat_txt_desc'].apply(lambda x: clean_str(x))\n",
    "\n",
    "    # calcul gen_ecs_lib_infer par matching score text.\n",
    "    unique_gen_ecs = table.gen_ecs_concat_txt_desc.unique()\n",
    "    gen_ecs_lib_infer_dict = {k: affect_lib_by_matching_score(k, gen_ecs_normalized_lib_matching_dict) for k in\n",
    "                             unique_gen_ecs}\n",
    "    table['gen_ecs_lib_infer'] = table.gen_ecs_concat_txt_desc.replace(gen_ecs_lib_infer_dict)\n",
    "    is_pac = table.coefficient_performance>2\n",
    "    table.loc[is_pac,'gen_ecs_lib_infer']='ballon thermodynamique electrique' "
   ]
  },
  {
   "cell_type": "code",
   "execution_count": 91,
   "metadata": {},
   "outputs": [
    {
     "data": {
      "text/plain": [
       "ballon electrique                    60020\n",
       "chaudiere gaz                        25580\n",
       "chaudiere mixte gaz                   7434\n",
       "non affecte                           5987\n",
       "ballon thermodynamique electrique     5039\n",
       "chaudiere fioul                       3218\n",
       "chaudiere mixte fioul                 1380\n",
       "ecs collective reseau chaleur          719\n",
       "ecs instantanee electrique              67\n",
       "chauffe-eau gaz independant             58\n",
       "chauffe-eau fioul independant            4\n",
       "Name: gen_ecs_lib_infer, dtype: int64"
      ]
     },
     "execution_count": 91,
     "metadata": {},
     "output_type": "execute_result"
    }
   ],
   "source": [
    "table['gen_ecs_lib_infer'].value_counts()"
   ]
  },
  {
   "cell_type": "code",
   "execution_count": 68,
   "metadata": {},
   "outputs": [
    {
     "data": {
      "text/plain": [
       "electricite electricite (hors electricite d'origine renouvelable utilisee dans le batiment)                                                                                                                                          43416\n",
       "individuelle ballon en volume habitable electrique classique individuelle electricite electricite (hors electricite d'origine renouvelable utilisee dans le batiment) electrique                                                      7336\n",
       "individuelle ballon hors volume habitable electrique classique individuelle electricite electricite (hors electricite d'origine renouvelable utilisee dans le batiment) electrique                                                    2778\n",
       "electrique classique individuelle electricite electricite (hors electricite d'origine renouvelable utilisee dans le batiment) electrique                                                                                              2263\n",
       "semi-accumulation electrique classique individuelle electricite electricite (hors electricite d'origine renouvelable utilisee dans le batiment) electrique                                                                            1921\n",
       "                                                                                                                                                                                                                                     ...  \n",
       "individuelle chaudiere mixte accumulation electrique classique individuelle electricite electricite (hors electricite d'origine renouvelable utilisee dans le batiment) electrique                                                       1\n",
       "accumulation reseau collectif isole collective electricite electricite (hors electricite d'origine renouvelable utilisee dans le batiment) electrique                                                                                    1\n",
       "individuelle ballon en volume habitable pac air/air installee classique semi-instantanee electrique classique individuelle electricite electricite (hors electricite d'origine renouvelable utilisee dans le batiment) electrique        1\n",
       "semi-accumulation reseau collectif isole collective electricite electricite (hors electricite d'origine renouvelable utilisee dans le batiment) electrique                                                                               1\n",
       "individuelle ballon en volume habitable chauffe-eau sur air exterieur accumulation electrique thermodinamyque individuelle electricite electricite (hors electricite d'origine renouvelable utilisee dans le batiment)                   1\n",
       "Name: gen_ecs_concat_txt_desc, Length: 73, dtype: int64"
      ]
     },
     "execution_count": 68,
     "metadata": {},
     "output_type": "execute_result"
    }
   ],
   "source": [
    "table.loc[is_elec].gen_ecs_concat_txt_desc.value_counts()"
   ]
  },
  {
   "cell_type": "code",
   "execution_count": 65,
   "metadata": {},
   "outputs": [
    {
     "data": {
      "text/plain": [
       "{'gen_ecs_lib_infer': 62296,\n",
       " 'gen_ecs_concat_txt_desc': 62296,\n",
       " 'td013_installation_ecs_id': 62296,\n",
       " 'tr004_type_energie_id': 62296,\n",
       " 'tv045_conversion_kwh_co2_id': 62296,\n",
       " 'puissance_nominale': 62296,\n",
       " 'td001_dpe_id': 62296,\n",
       " 'tr004_description': 62296,\n",
       " 'tr004_est_efface': 62296,\n",
       " 'tr004_simulateur': 62296,\n",
       " 'td014_generateur_ecs_id': 62296,\n",
       " 'volume_stockage': 62288,\n",
       " 'tv045_Energie': 62245,\n",
       " 'tv045_Méthode': 62245,\n",
       " 'tv045_Type de production': 62245,\n",
       " 'tv045_Taux de conversion\\nkg/kWh': 62245,\n",
       " 'coefficient_performance': 60811,\n",
       " 'puissance_veilleuse': 60811,\n",
       " 'qp0': 60811,\n",
       " 'rpn': 60811,\n",
       " \"tv040_Type d'installation\": 18803,\n",
       " 'tv040_Type de générateur': 18803,\n",
       " 'tv048_rendement_stockage_ecs_id': 18803,\n",
       " 'tv040_rendement_distribution_ecs_id': 18803,\n",
       " 'tv040_Rd': 18803,\n",
       " 'tv048_Rs': 18803,\n",
       " \"tv048_Type d'accumulation\": 18803,\n",
       " 'tv049_perte_stockage_ecs_id': 18788,\n",
       " 'tv049_Type de stockage': 18788,\n",
       " 'tv049_Qg,w': 18788,\n",
       " 'tv040_Production en volume habitable': 18177,\n",
       " 'tv043_pertes_stockage_id': 17779,\n",
       " 'tv043_Type de chauffe-eau': 17779,\n",
       " 'tv043_Cr': 17779,\n",
       " 'tv047_rendement_generation_ecs_id': 17438,\n",
       " 'tv047_Type de Générateur': 17438,\n",
       " 'tv047_Rg': 17438,\n",
       " 'tv043_Volume de stockage ECS': 16937,\n",
       " 'tv040_Pièces alimentées contiguës': 14296,\n",
       " 'tv027_Type de Production': 13056,\n",
       " 'tv027_pertes_recuperees_ecs_id': 13056,\n",
       " \"tv027_Type d'installation\": 13056,\n",
       " 'tv027_Type de système': 13056,\n",
       " 'tv027_Zone Hivers': 13056,\n",
       " 'tv027_Prs2': 13056,\n",
       " 'tv037_puissance_necessaire_production_ecs_id': 5669,\n",
       " 'tv037_Type de Production': 5669,\n",
       " 'tv037_Pecs': 5669,\n",
       " 'tv037_Capacité Vs': 5669,\n",
       " 'tv032_coefficient_performance_id': 1683,\n",
       " 'tv041_coefficient_emplacement_fonctionnement_id': 1648,\n",
       " 'tv041_Alimentation': 1648,\n",
       " 'tv041_Ballon en volume habitable': 1648,\n",
       " 'tv041_Cef': 1648,\n",
       " 'tv032_COP': 1606,\n",
       " 'tv032_Type de Générateur': 1606,\n",
       " 'tv036_puissance_veilleuse_id': 195,\n",
       " 'tv036_Type de génération': 195,\n",
       " 'tv036_Ancienneté': 195,\n",
       " 'tv036_Type de Chaudière': 195,\n",
       " 'tv036_Veilleuse': 195,\n",
       " 'tv036_Qp0': 195,\n",
       " 'tv036_Rpint': 195,\n",
       " 'tv036_Rpn': 195,\n",
       " \"tv019_Type d'installation\": 114,\n",
       " 'tv019_fecs_id': 114,\n",
       " 'tv019_Fecs': 114,\n",
       " 'tv019_Unnamed: 1': 114,\n",
       " \"tv019_Ancienneté de l'installation\": 87,\n",
       " 'tv046_evaluation_contenu_co2_reseaux_id': 51,\n",
       " 'tv038_puissance_nominale_id': 31,\n",
       " 'tv038_Type de chaudière': 31,\n",
       " \"tv038_Type d'installation\": 31,\n",
       " \"tv038_Année d'installation\": 31,\n",
       " 'tv038_Pdim': 31,\n",
       " 'tv038_Pn': 31,\n",
       " \"tv046_Date d'effectivité\": 0,\n",
       " 'tv046_Type de production': 0,\n",
       " 'tv036_Pn': 0,\n",
       " 'tv046_Localisation': 0,\n",
       " 'tv046_Nom du Réseau': 0,\n",
       " 'tv046_Département': 0,\n",
       " 'tr004_simu_ordre': 0,\n",
       " 'tv046_CO2': 0}"
      ]
     },
     "execution_count": 65,
     "metadata": {},
     "output_type": "execute_result"
    }
   ],
   "source": [
    "table.loc[is_elec].count().sort_values(ascending=False).to_dict()"
   ]
  },
  {
   "cell_type": "code",
   "execution_count": null,
   "metadata": {},
   "outputs": [],
   "source": []
  }
 ],
 "metadata": {
  "kernelspec": {
   "display_name": "Python 3",
   "language": "python",
   "name": "python3"
  },
  "language_info": {
   "codemirror_mode": {
    "name": "ipython",
    "version": 3
   },
   "file_extension": ".py",
   "mimetype": "text/x-python",
   "name": "python",
   "nbconvert_exporter": "python",
   "pygments_lexer": "ipython3",
   "version": "3.6.5"
  },
  "toc": {
   "base_numbering": 1,
   "nav_menu": {},
   "number_sections": true,
   "sideBar": true,
   "skip_h1_title": false,
   "title_cell": "Table of Contents",
   "title_sidebar": "Contents",
   "toc_cell": false,
   "toc_position": {},
   "toc_section_display": true,
   "toc_window_display": false
  }
 },
 "nbformat": 4,
 "nbformat_minor": 2
}
