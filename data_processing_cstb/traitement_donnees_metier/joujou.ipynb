{
 "cells": [
  {
   "cell_type": "code",
   "execution_count": 1,
   "metadata": {},
   "outputs": [],
   "source": [
    "import numpy as np\n"
   ]
  },
  {
   "cell_type": "markdown",
   "metadata": {},
   "source": [
    "# main"
   ]
  },
  {
   "cell_type": "code",
   "execution_count": 1,
   "metadata": {},
   "outputs": [],
   "source": [
    "import pandas as pd\n",
    "from pathlib import Path\n",
    "import json\n",
    "from scripts.utils import round_float_cols, unique_ordered\n",
    "from config import paths\n",
    "\n",
    "\n"
   ]
  },
  {
   "cell_type": "code",
   "execution_count": 3,
   "metadata": {},
   "outputs": [],
   "source": [
    "annexe_path = Path(r'D:\\data\\dpe_full\\annexes_cstb')"
   ]
  },
  {
   "cell_type": "code",
   "execution_count": 4,
   "metadata": {},
   "outputs": [],
   "source": [
    "murs = pd.read_csv(annexe_path/'1'/'td001_td007_murs_agg_annexe.csv')"
   ]
  },
  {
   "cell_type": "code",
   "execution_count": 12,
   "metadata": {},
   "outputs": [
    {
     "data": {
      "text/plain": [
       "U_murs_top  meth_calc_U_murs_top                   \n",
       "0.35        EPAISSEUR ISOLATION SAISIE                 3753\n",
       "0.36        PAR DEFAUT PERIODE : ISOLE                 3494\n",
       "0.35        PAR DEFAUT PERIODE : ISOLATION INCONNUE    3406\n",
       "2.00        MUR NON ISOLE U=2                          2720\n",
       "0.45        PAR DEFAUT PERIODE : ISOLE                 2178\n",
       "                                                       ... \n",
       "0.44        U SAISI DIRECTEMENT : ISOLE                   1\n",
       "            STRUCTURE ISOLANTE (ITR) U<1                  1\n",
       "            PAR DEFAUT PERIODE : ISOLE                    1\n",
       "0.43        MUR NON ISOLE U=2                             1\n",
       "0.02        RESISTANCE ISOLATION SAISIE                   1\n",
       "Name: meth_calc_U_murs_top, Length: 556, dtype: int64"
      ]
     },
     "execution_count": 12,
     "metadata": {},
     "output_type": "execute_result"
    }
   ],
   "source": [
    "murs.groupby('U_murs_top').meth_calc_U_murs_top.value_counts().sort_values(ascending=False)"
   ]
  },
  {
   "cell_type": "code",
   "execution_count": 29,
   "metadata": {},
   "outputs": [],
   "source": [
    "fen = pd.read_csv(annexe_path/'75'/'td001_td008_agg_annexe.csv')"
   ]
  },
  {
   "cell_type": "code",
   "execution_count": 30,
   "metadata": {},
   "outputs": [
    {
     "data": {
      "text/plain": [
       "Uw defaut    36495\n",
       "Uw saisi      1048\n",
       "Name: meth_calc_U_baie_vitree_top, dtype: int64"
      ]
     },
     "execution_count": 30,
     "metadata": {},
     "output_type": "execute_result"
    }
   ],
   "source": [
    "fen.meth_calc_U_baie_vitree_top.value_counts()"
   ]
  },
  {
   "cell_type": "code",
   "execution_count": 24,
   "metadata": {},
   "outputs": [
    {
     "data": {
      "text/plain": [
       "2.20    9330\n",
       "2.60    5773\n",
       "2.70    3294\n",
       "2.40    2963\n",
       "2.50    2954\n",
       "        ... \n",
       "1.33       1\n",
       "1.09       1\n",
       "2.45       1\n",
       "5.40       1\n",
       "0.90       1\n",
       "Name: Ubaie_baie_vitree_top, Length: 101, dtype: int64"
      ]
     },
     "execution_count": 24,
     "metadata": {},
     "output_type": "execute_result"
    }
   ],
   "source": [
    "fen.Ubaie_baie_vitree_top.value_counts()"
   ]
  },
  {
   "cell_type": "code",
   "execution_count": 14,
   "metadata": {},
   "outputs": [
    {
     "data": {
      "text/plain": [
       "0        0.35\n",
       "1        0.43\n",
       "2        0.37\n",
       "3        0.35\n",
       "4        0.73\n",
       "         ... \n",
       "45150    0.35\n",
       "45151    1.00\n",
       "45152    0.32\n",
       "45153    0.32\n",
       "45154    0.36\n",
       "Name: U_murs_top, Length: 45155, dtype: float64"
      ]
     },
     "execution_count": 14,
     "metadata": {},
     "output_type": "execute_result"
    }
   ],
   "source": [
    "murs.U_murs_top"
   ]
  },
  {
   "cell_type": "code",
   "execution_count": 13,
   "metadata": {},
   "outputs": [
    {
     "data": {
      "text/html": [
       "<div>\n",
       "<style scoped>\n",
       "    .dataframe tbody tr th:only-of-type {\n",
       "        vertical-align: middle;\n",
       "    }\n",
       "\n",
       "    .dataframe tbody tr th {\n",
       "        vertical-align: top;\n",
       "    }\n",
       "\n",
       "    .dataframe thead th {\n",
       "        text-align: right;\n",
       "    }\n",
       "</style>\n",
       "<table border=\"1\" class=\"dataframe\">\n",
       "  <thead>\n",
       "    <tr style=\"text-align: right;\">\n",
       "      <th></th>\n",
       "      <th>meth_calc_U_murs_top</th>\n",
       "      <th>U_murs_top</th>\n",
       "      <th>epaisseur_isolation_murs_top</th>\n",
       "      <th>resistance_thermique_isolation_murs_top</th>\n",
       "      <th>isolation_murs_top</th>\n",
       "      <th>annee_isole_uniforme_min_murs_top</th>\n",
       "      <th>annee_isole_uniforme_max_murs_top</th>\n",
       "      <th>materiaux_structure_murs_top</th>\n",
       "      <th>epaisseur_structure_murs_top</th>\n",
       "    </tr>\n",
       "  </thead>\n",
       "  <tbody>\n",
       "    <tr>\n",
       "      <th>0</th>\n",
       "      <td>EPAISSEUR ISOLATION SAISIE</td>\n",
       "      <td>0.35</td>\n",
       "      <td>10.0</td>\n",
       "      <td>NaN</td>\n",
       "      <td>ISOLE SAISI</td>\n",
       "      <td>NaN</td>\n",
       "      <td>NaN</td>\n",
       "      <td>Murs en blocs de béton creux</td>\n",
       "      <td>20 et -</td>\n",
       "    </tr>\n",
       "    <tr>\n",
       "      <th>1</th>\n",
       "      <td>EPAISSEUR ISOLATION SAISIE</td>\n",
       "      <td>0.43</td>\n",
       "      <td>5.0</td>\n",
       "      <td>NaN</td>\n",
       "      <td>ISOLE SAISI</td>\n",
       "      <td>NaN</td>\n",
       "      <td>NaN</td>\n",
       "      <td>Murs en blocs de béton creux</td>\n",
       "      <td>25</td>\n",
       "    </tr>\n",
       "    <tr>\n",
       "      <th>2</th>\n",
       "      <td>EPAISSEUR ISOLATION SAISIE</td>\n",
       "      <td>0.37</td>\n",
       "      <td>9.0</td>\n",
       "      <td>NaN</td>\n",
       "      <td>ISOLE SAISI</td>\n",
       "      <td>NaN</td>\n",
       "      <td>NaN</td>\n",
       "      <td>Murs en blocs de béton creux</td>\n",
       "      <td>25</td>\n",
       "    </tr>\n",
       "    <tr>\n",
       "      <th>3</th>\n",
       "      <td>PAR DEFAUT PERIODE : ISOLATION INCONNUE</td>\n",
       "      <td>0.35</td>\n",
       "      <td>10.0</td>\n",
       "      <td>NaN</td>\n",
       "      <td>ISOLATION INCONNUE (DEFAUT)</td>\n",
       "      <td>1948.0</td>\n",
       "      <td>1974.0</td>\n",
       "      <td>Murs en blocs de béton creux</td>\n",
       "      <td>20 et -</td>\n",
       "    </tr>\n",
       "    <tr>\n",
       "      <th>4</th>\n",
       "      <td>PAR DEFAUT PERIODE : ISOLATION INCONNUE</td>\n",
       "      <td>0.73</td>\n",
       "      <td>4.0</td>\n",
       "      <td>NaN</td>\n",
       "      <td>ISOLATION INCONNUE (DEFAUT)</td>\n",
       "      <td>1948.0</td>\n",
       "      <td>1974.0</td>\n",
       "      <td>Murs en blocs de béton creux</td>\n",
       "      <td>23</td>\n",
       "    </tr>\n",
       "    <tr>\n",
       "      <th>...</th>\n",
       "      <td>...</td>\n",
       "      <td>...</td>\n",
       "      <td>...</td>\n",
       "      <td>...</td>\n",
       "      <td>...</td>\n",
       "      <td>...</td>\n",
       "      <td>...</td>\n",
       "      <td>...</td>\n",
       "      <td>...</td>\n",
       "    </tr>\n",
       "    <tr>\n",
       "      <th>45150</th>\n",
       "      <td>PAR DEFAUT PERIODE : ISOLATION INCONNUE</td>\n",
       "      <td>0.35</td>\n",
       "      <td>10.0</td>\n",
       "      <td>NaN</td>\n",
       "      <td>ISOLATION INCONNUE (DEFAUT)</td>\n",
       "      <td>1948.0</td>\n",
       "      <td>1974.0</td>\n",
       "      <td>Murs en blocs de béton creux</td>\n",
       "      <td>23</td>\n",
       "    </tr>\n",
       "    <tr>\n",
       "      <th>45151</th>\n",
       "      <td>PAR DEFAUT PERIODE : ISOLE</td>\n",
       "      <td>1.00</td>\n",
       "      <td>8.0</td>\n",
       "      <td>NaN</td>\n",
       "      <td>ISOLE DEFAUT PRE 1988</td>\n",
       "      <td>1975.0</td>\n",
       "      <td>1977.0</td>\n",
       "      <td>Murs en blocs de béton creux</td>\n",
       "      <td>20 et -</td>\n",
       "    </tr>\n",
       "    <tr>\n",
       "      <th>45152</th>\n",
       "      <td>PAR DEFAUT PERIODE : ISOLATION INCONNUE</td>\n",
       "      <td>0.32</td>\n",
       "      <td>10.0</td>\n",
       "      <td>NaN</td>\n",
       "      <td>ISOLATION INCONNUE (DEFAUT)</td>\n",
       "      <td>1948.0</td>\n",
       "      <td>1974.0</td>\n",
       "      <td>Murs en briques pleines doubles avec lame d'air</td>\n",
       "      <td>30</td>\n",
       "    </tr>\n",
       "    <tr>\n",
       "      <th>45153</th>\n",
       "      <td>PAR DEFAUT PERIODE : ISOLATION INCONNUE</td>\n",
       "      <td>0.32</td>\n",
       "      <td>10.0</td>\n",
       "      <td>NaN</td>\n",
       "      <td>ISOLATION INCONNUE (DEFAUT)</td>\n",
       "      <td>1948.0</td>\n",
       "      <td>1974.0</td>\n",
       "      <td>Murs en pierre de taille et moellons constitué...</td>\n",
       "      <td>70</td>\n",
       "    </tr>\n",
       "    <tr>\n",
       "      <th>45154</th>\n",
       "      <td>PAR DEFAUT PERIODE : ISOLE</td>\n",
       "      <td>0.36</td>\n",
       "      <td>NaN</td>\n",
       "      <td>NaN</td>\n",
       "      <td>ISOLE DEFAUT POST 1988</td>\n",
       "      <td>2006.0</td>\n",
       "      <td>2900.0</td>\n",
       "      <td>Murs en blocs de béton creux</td>\n",
       "      <td>20 et -</td>\n",
       "    </tr>\n",
       "  </tbody>\n",
       "</table>\n",
       "<p>45155 rows × 9 columns</p>\n",
       "</div>"
      ],
      "text/plain": [
       "                          meth_calc_U_murs_top  U_murs_top  \\\n",
       "0                   EPAISSEUR ISOLATION SAISIE        0.35   \n",
       "1                   EPAISSEUR ISOLATION SAISIE        0.43   \n",
       "2                   EPAISSEUR ISOLATION SAISIE        0.37   \n",
       "3      PAR DEFAUT PERIODE : ISOLATION INCONNUE        0.35   \n",
       "4      PAR DEFAUT PERIODE : ISOLATION INCONNUE        0.73   \n",
       "...                                        ...         ...   \n",
       "45150  PAR DEFAUT PERIODE : ISOLATION INCONNUE        0.35   \n",
       "45151               PAR DEFAUT PERIODE : ISOLE        1.00   \n",
       "45152  PAR DEFAUT PERIODE : ISOLATION INCONNUE        0.32   \n",
       "45153  PAR DEFAUT PERIODE : ISOLATION INCONNUE        0.32   \n",
       "45154               PAR DEFAUT PERIODE : ISOLE        0.36   \n",
       "\n",
       "       epaisseur_isolation_murs_top  resistance_thermique_isolation_murs_top  \\\n",
       "0                              10.0                                      NaN   \n",
       "1                               5.0                                      NaN   \n",
       "2                               9.0                                      NaN   \n",
       "3                              10.0                                      NaN   \n",
       "4                               4.0                                      NaN   \n",
       "...                             ...                                      ...   \n",
       "45150                          10.0                                      NaN   \n",
       "45151                           8.0                                      NaN   \n",
       "45152                          10.0                                      NaN   \n",
       "45153                          10.0                                      NaN   \n",
       "45154                           NaN                                      NaN   \n",
       "\n",
       "                isolation_murs_top  annee_isole_uniforme_min_murs_top  \\\n",
       "0                      ISOLE SAISI                                NaN   \n",
       "1                      ISOLE SAISI                                NaN   \n",
       "2                      ISOLE SAISI                                NaN   \n",
       "3      ISOLATION INCONNUE (DEFAUT)                             1948.0   \n",
       "4      ISOLATION INCONNUE (DEFAUT)                             1948.0   \n",
       "...                            ...                                ...   \n",
       "45150  ISOLATION INCONNUE (DEFAUT)                             1948.0   \n",
       "45151        ISOLE DEFAUT PRE 1988                             1975.0   \n",
       "45152  ISOLATION INCONNUE (DEFAUT)                             1948.0   \n",
       "45153  ISOLATION INCONNUE (DEFAUT)                             1948.0   \n",
       "45154       ISOLE DEFAUT POST 1988                             2006.0   \n",
       "\n",
       "       annee_isole_uniforme_max_murs_top  \\\n",
       "0                                    NaN   \n",
       "1                                    NaN   \n",
       "2                                    NaN   \n",
       "3                                 1974.0   \n",
       "4                                 1974.0   \n",
       "...                                  ...   \n",
       "45150                             1974.0   \n",
       "45151                             1977.0   \n",
       "45152                             1974.0   \n",
       "45153                             1974.0   \n",
       "45154                             2900.0   \n",
       "\n",
       "                            materiaux_structure_murs_top  \\\n",
       "0                           Murs en blocs de béton creux   \n",
       "1                           Murs en blocs de béton creux   \n",
       "2                           Murs en blocs de béton creux   \n",
       "3                           Murs en blocs de béton creux   \n",
       "4                           Murs en blocs de béton creux   \n",
       "...                                                  ...   \n",
       "45150                       Murs en blocs de béton creux   \n",
       "45151                       Murs en blocs de béton creux   \n",
       "45152    Murs en briques pleines doubles avec lame d'air   \n",
       "45153  Murs en pierre de taille et moellons constitué...   \n",
       "45154                       Murs en blocs de béton creux   \n",
       "\n",
       "      epaisseur_structure_murs_top  \n",
       "0                          20 et -  \n",
       "1                               25  \n",
       "2                               25  \n",
       "3                          20 et -  \n",
       "4                               23  \n",
       "...                            ...  \n",
       "45150                           23  \n",
       "45151                      20 et -  \n",
       "45152                           30  \n",
       "45153                           70  \n",
       "45154                      20 et -  \n",
       "\n",
       "[45155 rows x 9 columns]"
      ]
     },
     "execution_count": 13,
     "metadata": {},
     "output_type": "execute_result"
    }
   ],
   "source": [
    "murs[['meth_calc_U_murs_top', 'U_murs_top',\n",
    "       'epaisseur_isolation_murs_top',\n",
    "       'resistance_thermique_isolation_murs_top', 'isolation_murs_top',\n",
    "       'annee_isole_uniforme_min_murs_top',\n",
    "       'annee_isole_uniforme_max_murs_top', 'materiaux_structure_murs_top',\n",
    "       'epaisseur_structure_murs_top',]]"
   ]
  },
  {
   "cell_type": "code",
   "execution_count": null,
   "metadata": {},
   "outputs": [],
   "source": []
  }
 ],
 "metadata": {
  "kernelspec": {
   "display_name": "Python 3",
   "language": "python",
   "name": "python3"
  },
  "language_info": {
   "codemirror_mode": {
    "name": "ipython",
    "version": 3
   },
   "file_extension": ".py",
   "mimetype": "text/x-python",
   "name": "python",
   "nbconvert_exporter": "python",
   "pygments_lexer": "ipython3",
   "version": "3.6.5"
  },
  "toc": {
   "base_numbering": 1,
   "nav_menu": {},
   "number_sections": true,
   "sideBar": true,
   "skip_h1_title": false,
   "title_cell": "Table of Contents",
   "title_sidebar": "Contents",
   "toc_cell": false,
   "toc_position": {
    "height": "calc(100% - 180px)",
    "left": "10px",
    "top": "150px",
    "width": "172.533px"
   },
   "toc_section_display": true,
   "toc_window_display": true
  }
 },
 "nbformat": 4,
 "nbformat_minor": 4
}
