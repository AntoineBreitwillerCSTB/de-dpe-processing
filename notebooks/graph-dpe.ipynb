{
 "cells": [
  {
   "cell_type": "code",
   "execution_count": 1,
   "metadata": {},
   "outputs": [],
   "source": [
    "import pandas as pd\n",
    "import numpy as np"
   ]
  },
  {
   "cell_type": "code",
   "execution_count": 3,
   "metadata": {},
   "outputs": [],
   "source": [
    "df = pd.read_csv(\"../data/tmp/dpe-open-data-france-entiere.csv\",dtype=str)"
   ]
  },
  {
   "cell_type": "code",
   "execution_count": 4,
   "metadata": {},
   "outputs": [
    {
     "data": {
      "text/plain": [
       "(9025508, 138)"
      ]
     },
     "execution_count": 4,
     "metadata": {},
     "output_type": "execute_result"
    }
   ],
   "source": [
    "df.shape"
   ]
  },
  {
   "cell_type": "code",
   "execution_count": 5,
   "metadata": {},
   "outputs": [
    {
     "data": {
      "text/plain": [
       "['id',\n",
       " 'numero_dpe',\n",
       " 'usr_diagnostiqueur_id',\n",
       " 'usr_logiciel_id',\n",
       " 'tr001_modele_dpe_id',\n",
       " 'nom_methode_dpe',\n",
       " 'version_methode_dpe',\n",
       " 'nom_methode_etude_thermique',\n",
       " 'version_methode_etude_thermique',\n",
       " 'date_visite_diagnostiqueur',\n",
       " 'date_etablissement_dpe',\n",
       " 'date_arrete_tarifs_energies',\n",
       " 'commentaires_ameliorations_recommandations',\n",
       " 'explication_personnalisee',\n",
       " 'consommation_energie',\n",
       " 'classe_consommation_energie',\n",
       " 'estimation_ges',\n",
       " 'classe_estimation_ges',\n",
       " 'tr002_type_batiment_id',\n",
       " 'secteur_activite',\n",
       " 'tr012_categorie_erp_id',\n",
       " 'tr013_type_erp_id',\n",
       " 'annee_construction',\n",
       " 'surface_habitable',\n",
       " 'surface_thermique_lot',\n",
       " 'tv016_departement_id',\n",
       " 'commune',\n",
       " 'arrondissement',\n",
       " 'type_voie',\n",
       " 'nom_rue',\n",
       " 'numero_rue',\n",
       " 'batiment',\n",
       " 'escalier',\n",
       " 'etage',\n",
       " 'porte',\n",
       " 'code_postal',\n",
       " 'code_insee_commune',\n",
       " 'code_insee_commune_actualise',\n",
       " 'numero_lot',\n",
       " 'surface_commerciale_contractuelle',\n",
       " 'portee_dpe_batiment',\n",
       " 'partie_batiment',\n",
       " 'shon',\n",
       " 'surface_utile',\n",
       " 'surface_thermique_parties_communes',\n",
       " 'en_souterrain',\n",
       " 'en_surface',\n",
       " 'nombre_niveaux',\n",
       " 'nombre_circulations_verticales',\n",
       " 'nombre_boutiques',\n",
       " 'presence_verriere',\n",
       " 'surface_verriere',\n",
       " 'type_vitrage_verriere',\n",
       " 'nombre_entrees_avec_sas',\n",
       " 'nombre_entrees_sans_sas',\n",
       " 'surface_baies_orientees_nord',\n",
       " 'surface_baies_orientees_est_ouest',\n",
       " 'surface_baies_orientees_sud',\n",
       " 'surface_planchers_hauts_deperditifs',\n",
       " 'surface_planchers_bas_deperditifs',\n",
       " 'surface_parois_verticales_opaques_deperditives',\n",
       " 'etat_avancement',\n",
       " 'organisme_certificateur',\n",
       " 'adresse_organisme_certificateur',\n",
       " 'dpe_vierge',\n",
       " 'est_efface',\n",
       " 'date_reception_dpe',\n",
       " 'concat-adress',\n",
       " 'latitude',\n",
       " 'longitude',\n",
       " 'result_label',\n",
       " 'result_score',\n",
       " 'result_type',\n",
       " 'result_id',\n",
       " 'result_housenumber',\n",
       " 'result_name',\n",
       " 'result_street',\n",
       " 'result_postcode',\n",
       " 'result_city',\n",
       " 'result_context',\n",
       " 'result_citycode',\n",
       " 'result_oldcitycode',\n",
       " 'result_oldcity',\n",
       " 'result_district',\n",
       " 'tr001_modele_dpe_code',\n",
       " 'tr001_modele_dpe_type_id',\n",
       " 'tr001_modele_dpe_modele',\n",
       " 'tr001_modele_dpe_description',\n",
       " 'tr001_modele_dpe_fichier_vierge',\n",
       " 'tr001_modele_dpe_est_efface',\n",
       " 'tr001_modele_dpe_type',\n",
       " 'tr001_modele_dpe_type_libelle',\n",
       " 'tr001_modele_dpe_type_ordre',\n",
       " 'tr002_type_batiment_code',\n",
       " 'tr002_type_batiment_description',\n",
       " 'tr002_type_batiment_libelle',\n",
       " 'tr002_type_batiment_est_efface',\n",
       " 'tr002_type_batiment_ordre',\n",
       " 'tr002_type_batiment_simulateur',\n",
       " 'tr012_categorie_erp_code',\n",
       " 'tr012_categorie_erp_categorie',\n",
       " 'tr012_categorie_erp_groupe',\n",
       " 'tr012_categorie_erp_est_efface',\n",
       " 'tr013_type_erp_code',\n",
       " 'tr013_type_erp_type',\n",
       " 'tr013_type_erp_categorie_id',\n",
       " 'tr013_type_erp_est_efface',\n",
       " 'tr013_type_erp_categorie',\n",
       " 'tv016_departement_code',\n",
       " 'tv016_departement_departement',\n",
       " 'tv017_zone_hiver_id',\n",
       " 'tv018_zone_ete_id',\n",
       " 'tv016_departement_altmin',\n",
       " 'tv016_departement_altmax',\n",
       " 'tv016_departement_nref',\n",
       " 'tv016_departement_dhref',\n",
       " 'tv016_departement_pref',\n",
       " 'tv016_departement_c2',\n",
       " 'tv016_departement_c3',\n",
       " 'tv016_departement_c4',\n",
       " 'tv016_departement_t_ext_basse',\n",
       " 'tv016_departement_e',\n",
       " 'tv016_departement_fch',\n",
       " 'tv016_departement_fecs_ancienne_m_i',\n",
       " 'tv016_departement_fecs_recente_m_i',\n",
       " 'tv016_departement_fecs_solaire_m_i',\n",
       " 'tv016_departement_fecs_ancienne_i_c',\n",
       " 'tv016_departement_fecs_recente_i_c',\n",
       " 'tv017_zone_hiver_code',\n",
       " 'tv017_zone_hiver_t_ext_moyen',\n",
       " 'tv017_zone_hiver_peta_cw',\n",
       " 'tv017_zone_hiver_dh14',\n",
       " 'tv017_zone_hiver_prs1',\n",
       " 'tv018_zone_ete_code',\n",
       " 'tv018_zone_ete_sclim_inf_150',\n",
       " 'tv018_zone_ete_sclim_sup_150',\n",
       " 'tv018_zone_ete_rclim_autres_etages',\n",
       " 'tv018_zone_ete_rclim_dernier_etage']"
      ]
     },
     "execution_count": 5,
     "metadata": {},
     "output_type": "execute_result"
    }
   ],
   "source": [
    "df.columns.to_list()"
   ]
  },
  {
   "cell_type": "code",
   "execution_count": 8,
   "metadata": {},
   "outputs": [],
   "source": [
    "df.annee_construction = df.annee_construction.astype(float)"
   ]
  },
  {
   "cell_type": "markdown",
   "metadata": {},
   "source": [
    "Distribution selon les années de construction"
   ]
  },
  {
   "cell_type": "code",
   "execution_count": 9,
   "metadata": {},
   "outputs": [
    {
     "data": {
      "text/html": [
       "<div>\n",
       "<style scoped>\n",
       "    .dataframe tbody tr th:only-of-type {\n",
       "        vertical-align: middle;\n",
       "    }\n",
       "\n",
       "    .dataframe tbody tr th {\n",
       "        vertical-align: top;\n",
       "    }\n",
       "\n",
       "    .dataframe thead th {\n",
       "        text-align: right;\n",
       "    }\n",
       "</style>\n",
       "<table border=\"1\" class=\"dataframe\">\n",
       "  <thead>\n",
       "    <tr style=\"text-align: right;\">\n",
       "      <th></th>\n",
       "      <th>id</th>\n",
       "    </tr>\n",
       "    <tr>\n",
       "      <th>annee_construction</th>\n",
       "      <th></th>\n",
       "    </tr>\n",
       "  </thead>\n",
       "  <tbody>\n",
       "    <tr>\n",
       "      <th>(1940, 1950]</th>\n",
       "      <td>2666039</td>\n",
       "    </tr>\n",
       "    <tr>\n",
       "      <th>(1950, 1960]</th>\n",
       "      <td>198533</td>\n",
       "    </tr>\n",
       "    <tr>\n",
       "      <th>(1960, 1970]</th>\n",
       "      <td>443412</td>\n",
       "    </tr>\n",
       "    <tr>\n",
       "      <th>(1970, 1980]</th>\n",
       "      <td>1387585</td>\n",
       "    </tr>\n",
       "    <tr>\n",
       "      <th>(1980, 1990]</th>\n",
       "      <td>791766</td>\n",
       "    </tr>\n",
       "    <tr>\n",
       "      <th>(1990, 2000]</th>\n",
       "      <td>450001</td>\n",
       "    </tr>\n",
       "    <tr>\n",
       "      <th>(2000, 2010]</th>\n",
       "      <td>817562</td>\n",
       "    </tr>\n",
       "  </tbody>\n",
       "</table>\n",
       "</div>"
      ],
      "text/plain": [
       "                         id\n",
       "annee_construction         \n",
       "(1940, 1950]        2666039\n",
       "(1950, 1960]         198533\n",
       "(1960, 1970]         443412\n",
       "(1970, 1980]        1387585\n",
       "(1980, 1990]         791766\n",
       "(1990, 2000]         450001\n",
       "(2000, 2010]         817562"
      ]
     },
     "execution_count": 9,
     "metadata": {},
     "output_type": "execute_result"
    }
   ],
   "source": [
    "df.groupby(pd.cut(df['annee_construction'], np.arange(1940,2020,10)))[['id']].count()"
   ]
  },
  {
   "cell_type": "markdown",
   "metadata": {},
   "source": [
    "### Charts"
   ]
  },
  {
   "cell_type": "code",
   "execution_count": 36,
   "metadata": {},
   "outputs": [],
   "source": [
    "import cutecharts.charts as ctc"
   ]
  },
  {
   "cell_type": "markdown",
   "metadata": {},
   "source": [
    "Selon les années de constructions"
   ]
  },
  {
   "cell_type": "code",
   "execution_count": null,
   "metadata": {},
   "outputs": [],
   "source": [
    "year = 1950\n",
    "dfy = df[(df.annee_construction >= year) & (df.annee_construction < year+10) & (df.classe_estimation_ges < 'H') & (df.classe_estimation_ges >= 'A')]\n",
    "years = \"annees \"+str(year)\n",
    "dfy = dfy.groupby(['classe_estimation_ges'], as_index=False)[['id']].count()\n",
    "dfy['percent'] = dfy['id']/dfy.id.sum()*100\n",
    "chart = ctc.Bar('Construction dans les '+str(years),width='500px',height='400px')\n",
    "chart.set_options(\n",
    " labels=list(dfy['classe_estimation_ges']),\n",
    " x_label='classe DPE d\\'emission GES',\n",
    " y_label='Pourcentage' ,\n",
    " colors=['#339a33','#33cc33', '#ccff33','#FFFF00','#ffcc00','#ff9a33','#FF0000']\n",
    " )\n",
    "chart.add_series('classe DPE d\\'emission GES',list(dfy['percent']))\n",
    "chart.render_notebook()"
   ]
  },
  {
   "cell_type": "code",
   "execution_count": null,
   "metadata": {},
   "outputs": [],
   "source": [
    "year = 1960\n",
    "dfy = df[(df.annee_construction >= year) & (df.annee_construction < year+10) & (df.classe_estimation_ges < 'H') & (df.classe_estimation_ges >= 'A')]\n",
    "years = \"annees \"+str(year)\n",
    "dfy = dfy.groupby(['classe_estimation_ges'], as_index=False)[['id']].count()\n",
    "dfy['percent'] = dfy['id']/dfy.id.sum()*100\n",
    "chart = ctc.Bar('Construction dans les '+str(years),width='500px',height='400px')\n",
    "chart.set_options(\n",
    " labels=list(dfy['classe_estimation_ges']),\n",
    " x_label='classe DPE d\\'emission GES',\n",
    " y_label='Pourcentage' ,\n",
    " colors=['#339a33','#33cc33', '#ccff33','#FFFF00','#ffcc00','#ff9a33','#FF0000']\n",
    " )\n",
    "chart.add_series('classe DPE d\\'emission GES',list(dfy['percent']))\n",
    "chart.render_notebook()"
   ]
  },
  {
   "cell_type": "code",
   "execution_count": null,
   "metadata": {},
   "outputs": [],
   "source": [
    "year = 1970\n",
    "dfy = df[(df.annee_construction >= year) & (df.annee_construction < year+10) & (df.classe_estimation_ges < 'H') & (df.classe_estimation_ges >= 'A')]\n",
    "years = \"annees \"+str(year)\n",
    "dfy = dfy.groupby(['classe_estimation_ges'], as_index=False)[['id']].count()\n",
    "dfy['percent'] = dfy['id']/dfy.id.sum()*100\n",
    "chart = ctc.Bar('Construction dans les '+str(years),width='500px',height='400px')\n",
    "chart.set_options(\n",
    " labels=list(dfy['classe_estimation_ges']),\n",
    " x_label='classe DPE d\\'emission GES',\n",
    " y_label='Pourcentage' ,\n",
    " colors=['#339a33','#33cc33', '#ccff33','#FFFF00','#ffcc00','#ff9a33','#FF0000']\n",
    " )\n",
    "chart.add_series('classe DPE d\\'emission GES',list(dfy['percent']))\n",
    "chart.render_notebook()"
   ]
  },
  {
   "cell_type": "code",
   "execution_count": null,
   "metadata": {},
   "outputs": [],
   "source": [
    "year = 1980\n",
    "dfy = df[(df.annee_construction >= year) & (df.annee_construction < year+10) & (df.classe_estimation_ges < 'H') & (df.classe_estimation_ges >= 'A')]\n",
    "years = \"annees \"+str(year)\n",
    "dfy = dfy.groupby(['classe_estimation_ges'], as_index=False)[['id']].count()\n",
    "dfy['percent'] = dfy['id']/dfy.id.sum()*100\n",
    "chart = ctc.Bar('Construction dans les '+str(years),width='500px',height='400px')\n",
    "chart.set_options(\n",
    " labels=list(dfy['classe_estimation_ges']),\n",
    " x_label='classe DPE d\\'emission GES',\n",
    " y_label='Pourcentage' ,\n",
    " colors=['#339a33','#33cc33', '#ccff33','#FFFF00','#ffcc00','#ff9a33','#FF0000']\n",
    " )\n",
    "chart.add_series('classe DPE d\\'emission GES',list(dfy['percent']))\n",
    "chart.render_notebook()"
   ]
  },
  {
   "cell_type": "code",
   "execution_count": null,
   "metadata": {},
   "outputs": [],
   "source": [
    "year = 1990\n",
    "dfy = df[(df.annee_construction >= year) & (df.annee_construction < year+10) & (df.classe_estimation_ges < 'H') & (df.classe_estimation_ges >= 'A')]\n",
    "years = \"annees \"+str(year)\n",
    "dfy = dfy.groupby(['classe_estimation_ges'], as_index=False)[['id']].count()\n",
    "dfy['percent'] = dfy['id']/dfy.id.sum()*100\n",
    "chart = ctc.Bar('Construction dans les '+str(years),width='500px',height='400px')\n",
    "chart.set_options(\n",
    " labels=list(dfy['classe_estimation_ges']),\n",
    " x_label='classe DPE d\\'emission GES',\n",
    " y_label='Pourcentage' ,\n",
    " colors=['#339a33','#33cc33', '#ccff33','#FFFF00','#ffcc00','#ff9a33','#FF0000']\n",
    " )\n",
    "chart.add_series('classe DPE d\\'emission GES',list(dfy['percent']))\n",
    "chart.render_notebook()"
   ]
  },
  {
   "cell_type": "code",
   "execution_count": null,
   "metadata": {},
   "outputs": [],
   "source": [
    "year = 2000\n",
    "dfy = df[(df.annee_construction >= year) & (df.annee_construction < year+10) & (df.classe_estimation_ges < 'H') & (df.classe_estimation_ges >= 'A')]\n",
    "years = \"annees \"+str(year)\n",
    "dfy = dfy.groupby(['classe_estimation_ges'], as_index=False)[['id']].count()\n",
    "dfy['percent'] = dfy['id']/dfy.id.sum()*100\n",
    "chart = ctc.Bar('Construction dans les '+str(years),width='500px',height='400px')\n",
    "chart.set_options(\n",
    " labels=list(dfy['classe_estimation_ges']),\n",
    " x_label='classe DPE d\\'emission GES',\n",
    " y_label='Pourcentage' ,\n",
    " colors=['#339a33','#33cc33', '#ccff33','#FFFF00','#ffcc00','#ff9a33','#FF0000']\n",
    " )\n",
    "chart.add_series('classe DPE d\\'emission GES',list(dfy['percent']))\n",
    "chart.render_notebook()"
   ]
  },
  {
   "cell_type": "code",
   "execution_count": 37,
   "metadata": {},
   "outputs": [
    {
     "data": {
      "text/html": [
       "\n",
       "<script>\n",
       "    require.config({\n",
       "        paths: {\n",
       "            'chartXkcd':'https://cdn.jsdelivr.net/npm/chart.xkcd@1.1/dist/chart.xkcd.min'\n",
       "        }\n",
       "    });\n",
       "</script>\n",
       "\n",
       "<div id=\"d0910c92b878473b8a7ac94e6951a973\" class=\"chart-container\" style=\"width: 500px\">\n",
       "        <svg id=\"chart_d0910c92b878473b8a7ac94e6951a973\"></svg>\n",
       "    </div>\n",
       "    <script>\n",
       "        require(['chartXkcd'], function(chartXkcd) {\n",
       "            const svg_d0910c92b878473b8a7ac94e6951a973 = document.querySelector('#chart_d0910c92b878473b8a7ac94e6951a973')\n",
       "            const chart_d0910c92b878473b8a7ac94e6951a973 = new chartXkcd.Bar(svg_d0910c92b878473b8a7ac94e6951a973, {\"title\": \"Construction dans les annees 2010\", \"data\": {\"datasets\": [{\"label\": \"classe DPE d'emission GES\", \"data\": [32.77085264213884, 50.236148860910646, 9.474349228168466, 5.467142921608853, 1.7114630954488494, 0.24597248690472473, 0.09150204282823234, 0.0020133226418958556, 0.0004859744308024479, 6.942491868606398e-05]}], \"labels\": [\"A\", \"B\", \"C\", \"D\", \"E\", \"F\", \"G\", \"H\", \"I\", \"J\"]}, \"xLabel\": \"classe DPE d'emission GES\", \"yLabel\": \"Pourcentage\", \"options\": {\"yTickCount\": 3, \"dataColors\": [\"#339a33\", \"#33cc33\", \"#ccff33\", \"#FFFF00\", \"#ffcc00\", \"#ff9a33\", \"#FF0000\"]}});\n",
       "        })\n",
       "    </script>\n"
      ],
      "text/plain": [
       "<cutecharts.render.engine.HTML at 0x7f4fb3b0e240>"
      ]
     },
     "execution_count": 37,
     "metadata": {},
     "output_type": "execute_result"
    }
   ],
   "source": [
    "year = 2010\n",
    "dfy = df[(df.annee_construction >= year) & (df.annee_construction < year+10) & (df.classe_estimation_ges < 'H') & (df.classe_estimation_ges >= 'A')]\n",
    "years = \"annees \"+str(year)\n",
    "dfy = dfy.groupby(['classe_consommation_energie'], as_index=False)[['id']].count()\n",
    "dfy['percent'] = dfy['id']/dfy.id.sum()*100\n",
    "chart = ctc.Bar('Construction dans les '+str(years),width='500px',height='400px')\n",
    "chart.set_options(\n",
    " labels=list(dfy['classe_consommation_energie']),\n",
    " x_label='classe DPE d\\'emission GES',\n",
    " y_label='Pourcentage' ,\n",
    " colors=['#339a33','#33cc33', '#ccff33','#FFFF00','#ffcc00','#ff9a33','#FF0000']\n",
    " )\n",
    "chart.add_series('classe DPE d\\'emission GES',list(dfy['percent']))\n",
    "chart.render_notebook()"
   ]
  },
  {
   "cell_type": "markdown",
   "metadata": {},
   "source": [
    "Charts source chauffage + ECS"
   ]
  },
  {
   "cell_type": "code",
   "execution_count": null,
   "metadata": {},
   "outputs": [],
   "source": [
    "dd = pd.read_csv(\"../data/tmp/annexes_cstb/10/td001_annexe_sys_ecs_agg.csv\")"
   ]
  },
  {
   "cell_type": "code",
   "execution_count": null,
   "metadata": {},
   "outputs": [],
   "source": [
    "dd"
   ]
  },
  {
   "cell_type": "code",
   "execution_count": null,
   "metadata": {},
   "outputs": [],
   "source": [
    "dd.mix_energetique_ecs.value_counts()"
   ]
  },
  {
   "cell_type": "code",
   "execution_count": 53,
   "metadata": {},
   "outputs": [],
   "source": [
    "df = pd.read_csv(\"../data/tmp/annexes_cstb/ch.csv\",dtype=str)"
   ]
  },
  {
   "cell_type": "code",
   "execution_count": 56,
   "metadata": {},
   "outputs": [
    {
     "data": {
      "text/plain": [
       "Electricité non renouvelable                                                                                                             1668764\n",
       "Gaz naturel                                                                                                                              1380526\n",
       "Bois, biomasse + Electricité non renouvelable                                                                                             281873\n",
       "Fioul domestique                                                                                                                          240302\n",
       "Réseau de chaleurs                                                                                                                        147133\n",
       "Bois, biomasse + Gaz naturel                                                                                                               60990\n",
       "Bois, biomasse + Fioul domestique                                                                                                          55602\n",
       "Electricité non renouvelable + Gaz naturel                                                                                                 43831\n",
       "Gaz propane ou butane                                                                                                                      40179\n",
       "Bois, biomasse                                                                                                                             39864\n",
       "Electricité non renouvelable + Fioul domestique                                                                                            20806\n",
       "Electricité d'origine renouvelable                                                                                                         10848\n",
       "Bois, biomasse + Gaz propane ou butane                                                                                                      8482\n",
       "Bois, biomasse + Electricité non renouvelable + Gaz naturel                                                                                 7699\n",
       "Bois, biomasse + Electricité non renouvelable + Fioul domestique                                                                            7632\n",
       "Electricité d'origine renouvelable + Electricité non renouvelable                                                                           6195\n",
       "Electricité non renouvelable + Gaz propane ou butane                                                                                        2913\n",
       "Bois, biomasse + Electricité d'origine renouvelable                                                                                         2169\n",
       "Bois, biomasse + Electricité d'origine renouvelable + Electricité non renouvelable                                                          1717\n",
       "Electricité non renouvelable + Réseau de chaleurs                                                                                           1566\n",
       "Bois, biomasse + Electricité non renouvelable + Gaz propane ou butane                                                                       1433\n",
       "Charbon                                                                                                                                     1380\n",
       "Electricité non renouvelable + Electricité non renouvelable + Bois, biomasse                                                                1193\n",
       "Bois, biomasse + Electricité non renouvelable + Electricité non renouvelable + Bois, biomasse                                                954\n",
       "Electricité d'origine renouvelable + Gaz naturel                                                                                             732\n",
       "Charbon + Electricité non renouvelable                                                                                                       668\n",
       "Electricité d'origine renouvelable + Fioul domestique                                                                                        528\n",
       "Fioul domestique + Gaz naturel                                                                                                               507\n",
       "Bois, biomasse + Electricité d'origine renouvelable + Fioul domestique                                                                       201\n",
       "Charbon + Gaz naturel                                                                                                                        146\n",
       "                                                                                                                                          ...   \n",
       "Electricité non renouvelable + Fioul domestique + Gaz naturel + Electricité non renouvelable                                                   1\n",
       "Bois, biomasse + Charbon + Gaz propane ou butane                                                                                               1\n",
       "Fioul domestique + Gaz naturel + Gaz propane ou butane                                                                                         1\n",
       "Gaz naturel + Gaz naturel + Electricité non renouvelable + Bois, biomasse                                                                      1\n",
       "Gaz propane ou butane + Gaz propane ou butane + Bois, biomasse                                                                                 1\n",
       "Fioul domestique + Gaz naturel + Gaz naturel + Bois, biomasse                                                                                  1\n",
       "Bois, biomasse + Electricité non renouvelable + Gaz naturel + Electricité d'origine renouvelable                                               1\n",
       "Electricité d'origine renouvelable + Electricité non renouvelable + Bois, biomasse + Fioul domestique                                          1\n",
       "Electricité non renouvelable + Electricité d'origine renouvelable + Gaz naturel                                                                1\n",
       "Bois, biomasse + Electricité non renouvelable + Electricité non renouvelable + Bois, biomasse + Electricité d'origine renouvelable             1\n",
       "Bois, biomasse + Gaz naturel + Electricité non renouvelable + Gaz propane ou butane                                                            1\n",
       "Electricité non renouvelable + Gaz propane ou butane + Gaz propane ou butane + Bois, biomasse                                                  1\n",
       "Bois, biomasse + Electricité non renouvelable + Bois, biomasse + Fioul domestique + Fioul domestique                                           1\n",
       "Bois, biomasse + Bois, biomasse + Electricité d'origine renouvelable + Gaz naturel                                                             1\n",
       "Bois, biomasse + Fioul domestique + Gaz naturel + Bois, biomasse                                                                               1\n",
       "Autres combustibles fossiles + Gaz propane ou butane                                                                                           1\n",
       "Bois, biomasse + Electricité non renouvelable + Electricité d'origine renouvelable + Gaz propane ou butane                                     1\n",
       "Electricité d'origine renouvelable + Electricité non renouvelable + Electricité non renouvelable + Electricité d'origine renouvelable          1\n",
       "Bois, biomasse + Fioul domestique + Electricité d'origine renouvelable                                                                         1\n",
       "Electricité d'origine renouvelable + Réseau de chaleurs                                                                                        1\n",
       "Bois, biomasse + Fioul domestique + Electricité d'origine renouvelable + Electricité d'origine renouvelable + Fioul domestique                 1\n",
       "Charbon + Gaz naturel + Gaz propane ou butane                                                                                                  1\n",
       "Electricité d'origine renouvelable + Electricité non renouvelable + Fioul domestique + Electricité d'origine renouvelable                      1\n",
       "Electricité d'origine renouvelable + Gaz naturel + Gaz naturel + Electricité non renouvelable                                                  1\n",
       "Electricité d'origine renouvelable + Electricité non renouvelable + Bois, biomasse                                                             1\n",
       "Electricité non renouvelable + Gaz propane ou butane + Gaz propane ou butane + Electricité non renouvelable + Bois, biomasse                   1\n",
       "Electricité non renouvelable + Electricité non renouvelable + Bois, biomasse + Electricité d'origine renouvelable + Gaz naturel                1\n",
       "Electricité non renouvelable + Fioul domestique + Réseau de chaleurs                                                                           1\n",
       "Bois, biomasse + Electricité d'origine renouvelable + Electricité d'origine renouvelable + Fioul domestique                                    1\n",
       "Electricité non renouvelable + Electricité non renouvelable + Electricité d'origine renouvelable                                               1\n",
       "Name: mix_energetique_chauffage, Length: 150, dtype: int64"
      ]
     },
     "execution_count": 56,
     "metadata": {},
     "output_type": "execute_result"
    }
   ],
   "source": [
    "df.mix_energetique_chauffage.value_counts()"
   ]
  },
  {
   "cell_type": "code",
   "execution_count": 59,
   "metadata": {},
   "outputs": [],
   "source": [
    "df2 = df.groupby(['mix_energetique_chauffage'], as_index=False)[['td001_dpe_id']].count()"
   ]
  },
  {
   "cell_type": "code",
   "execution_count": 60,
   "metadata": {},
   "outputs": [
    {
     "data": {
      "text/html": [
       "<div>\n",
       "<style scoped>\n",
       "    .dataframe tbody tr th:only-of-type {\n",
       "        vertical-align: middle;\n",
       "    }\n",
       "\n",
       "    .dataframe tbody tr th {\n",
       "        vertical-align: top;\n",
       "    }\n",
       "\n",
       "    .dataframe thead th {\n",
       "        text-align: right;\n",
       "    }\n",
       "</style>\n",
       "<table border=\"1\" class=\"dataframe\">\n",
       "  <thead>\n",
       "    <tr style=\"text-align: right;\">\n",
       "      <th></th>\n",
       "      <th>mix_energetique_chauffage</th>\n",
       "      <th>td001_dpe_id</th>\n",
       "    </tr>\n",
       "  </thead>\n",
       "  <tbody>\n",
       "    <tr>\n",
       "      <th>0</th>\n",
       "      <td>Autres combustibles fossiles</td>\n",
       "      <td>78</td>\n",
       "    </tr>\n",
       "    <tr>\n",
       "      <th>1</th>\n",
       "      <td>Autres combustibles fossiles + Electricité non...</td>\n",
       "      <td>4</td>\n",
       "    </tr>\n",
       "    <tr>\n",
       "      <th>2</th>\n",
       "      <td>Autres combustibles fossiles + Gaz naturel</td>\n",
       "      <td>1</td>\n",
       "    </tr>\n",
       "    <tr>\n",
       "      <th>3</th>\n",
       "      <td>Autres combustibles fossiles + Gaz propane ou ...</td>\n",
       "      <td>1</td>\n",
       "    </tr>\n",
       "    <tr>\n",
       "      <th>4</th>\n",
       "      <td>Bois, biomasse</td>\n",
       "      <td>39864</td>\n",
       "    </tr>\n",
       "    <tr>\n",
       "      <th>5</th>\n",
       "      <td>Bois, biomasse + Bois, biomasse + Electricité ...</td>\n",
       "      <td>12</td>\n",
       "    </tr>\n",
       "    <tr>\n",
       "      <th>6</th>\n",
       "      <td>Bois, biomasse + Bois, biomasse + Electricité ...</td>\n",
       "      <td>1</td>\n",
       "    </tr>\n",
       "    <tr>\n",
       "      <th>7</th>\n",
       "      <td>Bois, biomasse + Bois, biomasse + Fioul domest...</td>\n",
       "      <td>4</td>\n",
       "    </tr>\n",
       "    <tr>\n",
       "      <th>8</th>\n",
       "      <td>Bois, biomasse + Bois, biomasse + Fioul domest...</td>\n",
       "      <td>5</td>\n",
       "    </tr>\n",
       "    <tr>\n",
       "      <th>9</th>\n",
       "      <td>Bois, biomasse + Charbon</td>\n",
       "      <td>59</td>\n",
       "    </tr>\n",
       "    <tr>\n",
       "      <th>10</th>\n",
       "      <td>Bois, biomasse + Charbon + Electricité non ren...</td>\n",
       "      <td>22</td>\n",
       "    </tr>\n",
       "    <tr>\n",
       "      <th>11</th>\n",
       "      <td>Bois, biomasse + Charbon + Fioul domestique</td>\n",
       "      <td>9</td>\n",
       "    </tr>\n",
       "    <tr>\n",
       "      <th>12</th>\n",
       "      <td>Bois, biomasse + Charbon + Gaz naturel</td>\n",
       "      <td>3</td>\n",
       "    </tr>\n",
       "    <tr>\n",
       "      <th>13</th>\n",
       "      <td>Bois, biomasse + Charbon + Gaz propane ou butane</td>\n",
       "      <td>1</td>\n",
       "    </tr>\n",
       "    <tr>\n",
       "      <th>14</th>\n",
       "      <td>Bois, biomasse + Electricité d'origine renouve...</td>\n",
       "      <td>2169</td>\n",
       "    </tr>\n",
       "    <tr>\n",
       "      <th>15</th>\n",
       "      <td>Bois, biomasse + Electricité d'origine renouve...</td>\n",
       "      <td>2</td>\n",
       "    </tr>\n",
       "    <tr>\n",
       "      <th>16</th>\n",
       "      <td>Bois, biomasse + Electricité d'origine renouve...</td>\n",
       "      <td>1</td>\n",
       "    </tr>\n",
       "    <tr>\n",
       "      <th>17</th>\n",
       "      <td>Bois, biomasse + Electricité d'origine renouve...</td>\n",
       "      <td>1717</td>\n",
       "    </tr>\n",
       "    <tr>\n",
       "      <th>18</th>\n",
       "      <td>Bois, biomasse + Electricité d'origine renouve...</td>\n",
       "      <td>5</td>\n",
       "    </tr>\n",
       "    <tr>\n",
       "      <th>19</th>\n",
       "      <td>Bois, biomasse + Electricité d'origine renouve...</td>\n",
       "      <td>6</td>\n",
       "    </tr>\n",
       "    <tr>\n",
       "      <th>20</th>\n",
       "      <td>Bois, biomasse + Electricité d'origine renouve...</td>\n",
       "      <td>8</td>\n",
       "    </tr>\n",
       "    <tr>\n",
       "      <th>21</th>\n",
       "      <td>Bois, biomasse + Electricité d'origine renouve...</td>\n",
       "      <td>201</td>\n",
       "    </tr>\n",
       "    <tr>\n",
       "      <th>22</th>\n",
       "      <td>Bois, biomasse + Electricité d'origine renouve...</td>\n",
       "      <td>2</td>\n",
       "    </tr>\n",
       "    <tr>\n",
       "      <th>23</th>\n",
       "      <td>Bois, biomasse + Electricité d'origine renouve...</td>\n",
       "      <td>135</td>\n",
       "    </tr>\n",
       "    <tr>\n",
       "      <th>24</th>\n",
       "      <td>Bois, biomasse + Electricité d'origine renouve...</td>\n",
       "      <td>2</td>\n",
       "    </tr>\n",
       "    <tr>\n",
       "      <th>25</th>\n",
       "      <td>Bois, biomasse + Electricité d'origine renouve...</td>\n",
       "      <td>15</td>\n",
       "    </tr>\n",
       "    <tr>\n",
       "      <th>26</th>\n",
       "      <td>Bois, biomasse + Electricité d'origine renouve...</td>\n",
       "      <td>1</td>\n",
       "    </tr>\n",
       "    <tr>\n",
       "      <th>27</th>\n",
       "      <td>Bois, biomasse + Electricité non renouvelable</td>\n",
       "      <td>281873</td>\n",
       "    </tr>\n",
       "    <tr>\n",
       "      <th>28</th>\n",
       "      <td>Bois, biomasse + Electricité non renouvelable ...</td>\n",
       "      <td>6</td>\n",
       "    </tr>\n",
       "    <tr>\n",
       "      <th>29</th>\n",
       "      <td>Bois, biomasse + Electricité non renouvelable ...</td>\n",
       "      <td>117</td>\n",
       "    </tr>\n",
       "    <tr>\n",
       "      <th>...</th>\n",
       "      <td>...</td>\n",
       "      <td>...</td>\n",
       "    </tr>\n",
       "    <tr>\n",
       "      <th>120</th>\n",
       "      <td>Electricité non renouvelable + Fioul domestiqu...</td>\n",
       "      <td>1</td>\n",
       "    </tr>\n",
       "    <tr>\n",
       "      <th>121</th>\n",
       "      <td>Electricité non renouvelable + Gaz naturel</td>\n",
       "      <td>43831</td>\n",
       "    </tr>\n",
       "    <tr>\n",
       "      <th>122</th>\n",
       "      <td>Electricité non renouvelable + Gaz naturel + B...</td>\n",
       "      <td>8</td>\n",
       "    </tr>\n",
       "    <tr>\n",
       "      <th>123</th>\n",
       "      <td>Electricité non renouvelable + Gaz naturel + E...</td>\n",
       "      <td>7</td>\n",
       "    </tr>\n",
       "    <tr>\n",
       "      <th>124</th>\n",
       "      <td>Electricité non renouvelable + Gaz naturel + G...</td>\n",
       "      <td>1</td>\n",
       "    </tr>\n",
       "    <tr>\n",
       "      <th>125</th>\n",
       "      <td>Electricité non renouvelable + Gaz naturel + G...</td>\n",
       "      <td>2</td>\n",
       "    </tr>\n",
       "    <tr>\n",
       "      <th>126</th>\n",
       "      <td>Electricité non renouvelable + Gaz naturel + G...</td>\n",
       "      <td>2</td>\n",
       "    </tr>\n",
       "    <tr>\n",
       "      <th>127</th>\n",
       "      <td>Electricité non renouvelable + Gaz naturel + G...</td>\n",
       "      <td>5</td>\n",
       "    </tr>\n",
       "    <tr>\n",
       "      <th>128</th>\n",
       "      <td>Electricité non renouvelable + Gaz naturel + R...</td>\n",
       "      <td>55</td>\n",
       "    </tr>\n",
       "    <tr>\n",
       "      <th>129</th>\n",
       "      <td>Electricité non renouvelable + Gaz propane ou ...</td>\n",
       "      <td>2913</td>\n",
       "    </tr>\n",
       "    <tr>\n",
       "      <th>130</th>\n",
       "      <td>Electricité non renouvelable + Gaz propane ou ...</td>\n",
       "      <td>3</td>\n",
       "    </tr>\n",
       "    <tr>\n",
       "      <th>131</th>\n",
       "      <td>Electricité non renouvelable + Gaz propane ou ...</td>\n",
       "      <td>1</td>\n",
       "    </tr>\n",
       "    <tr>\n",
       "      <th>132</th>\n",
       "      <td>Electricité non renouvelable + Gaz propane ou ...</td>\n",
       "      <td>1</td>\n",
       "    </tr>\n",
       "    <tr>\n",
       "      <th>133</th>\n",
       "      <td>Electricité non renouvelable + Réseau de chaleurs</td>\n",
       "      <td>1566</td>\n",
       "    </tr>\n",
       "    <tr>\n",
       "      <th>134</th>\n",
       "      <td>Fioul domestique</td>\n",
       "      <td>240302</td>\n",
       "    </tr>\n",
       "    <tr>\n",
       "      <th>135</th>\n",
       "      <td>Fioul domestique + Gaz naturel</td>\n",
       "      <td>507</td>\n",
       "    </tr>\n",
       "    <tr>\n",
       "      <th>136</th>\n",
       "      <td>Fioul domestique + Gaz naturel + Gaz naturel +...</td>\n",
       "      <td>1</td>\n",
       "    </tr>\n",
       "    <tr>\n",
       "      <th>137</th>\n",
       "      <td>Fioul domestique + Gaz naturel + Gaz propane o...</td>\n",
       "      <td>1</td>\n",
       "    </tr>\n",
       "    <tr>\n",
       "      <th>138</th>\n",
       "      <td>Fioul domestique + Gaz propane ou butane</td>\n",
       "      <td>61</td>\n",
       "    </tr>\n",
       "    <tr>\n",
       "      <th>139</th>\n",
       "      <td>Fioul domestique + Gaz propane ou butane + Gaz...</td>\n",
       "      <td>3</td>\n",
       "    </tr>\n",
       "    <tr>\n",
       "      <th>140</th>\n",
       "      <td>Fioul domestique + Réseau de chaleurs</td>\n",
       "      <td>11</td>\n",
       "    </tr>\n",
       "    <tr>\n",
       "      <th>141</th>\n",
       "      <td>Gaz naturel</td>\n",
       "      <td>1380526</td>\n",
       "    </tr>\n",
       "    <tr>\n",
       "      <th>142</th>\n",
       "      <td>Gaz naturel + Gaz naturel + Bois, biomasse</td>\n",
       "      <td>2</td>\n",
       "    </tr>\n",
       "    <tr>\n",
       "      <th>143</th>\n",
       "      <td>Gaz naturel + Gaz naturel + Electricité non re...</td>\n",
       "      <td>1</td>\n",
       "    </tr>\n",
       "    <tr>\n",
       "      <th>144</th>\n",
       "      <td>Gaz naturel + Gaz naturel + Electricité non re...</td>\n",
       "      <td>1</td>\n",
       "    </tr>\n",
       "    <tr>\n",
       "      <th>145</th>\n",
       "      <td>Gaz naturel + Gaz propane ou butane</td>\n",
       "      <td>13</td>\n",
       "    </tr>\n",
       "    <tr>\n",
       "      <th>146</th>\n",
       "      <td>Gaz naturel + Réseau de chaleurs</td>\n",
       "      <td>116</td>\n",
       "    </tr>\n",
       "    <tr>\n",
       "      <th>147</th>\n",
       "      <td>Gaz propane ou butane</td>\n",
       "      <td>40179</td>\n",
       "    </tr>\n",
       "    <tr>\n",
       "      <th>148</th>\n",
       "      <td>Gaz propane ou butane + Gaz propane ou butane ...</td>\n",
       "      <td>1</td>\n",
       "    </tr>\n",
       "    <tr>\n",
       "      <th>149</th>\n",
       "      <td>Réseau de chaleurs</td>\n",
       "      <td>147133</td>\n",
       "    </tr>\n",
       "  </tbody>\n",
       "</table>\n",
       "<p>150 rows × 2 columns</p>\n",
       "</div>"
      ],
      "text/plain": [
       "                             mix_energetique_chauffage  td001_dpe_id\n",
       "0                         Autres combustibles fossiles            78\n",
       "1    Autres combustibles fossiles + Electricité non...             4\n",
       "2           Autres combustibles fossiles + Gaz naturel             1\n",
       "3    Autres combustibles fossiles + Gaz propane ou ...             1\n",
       "4                                       Bois, biomasse         39864\n",
       "5    Bois, biomasse + Bois, biomasse + Electricité ...            12\n",
       "6    Bois, biomasse + Bois, biomasse + Electricité ...             1\n",
       "7    Bois, biomasse + Bois, biomasse + Fioul domest...             4\n",
       "8    Bois, biomasse + Bois, biomasse + Fioul domest...             5\n",
       "9                             Bois, biomasse + Charbon            59\n",
       "10   Bois, biomasse + Charbon + Electricité non ren...            22\n",
       "11         Bois, biomasse + Charbon + Fioul domestique             9\n",
       "12              Bois, biomasse + Charbon + Gaz naturel             3\n",
       "13    Bois, biomasse + Charbon + Gaz propane ou butane             1\n",
       "14   Bois, biomasse + Electricité d'origine renouve...          2169\n",
       "15   Bois, biomasse + Electricité d'origine renouve...             2\n",
       "16   Bois, biomasse + Electricité d'origine renouve...             1\n",
       "17   Bois, biomasse + Electricité d'origine renouve...          1717\n",
       "18   Bois, biomasse + Electricité d'origine renouve...             5\n",
       "19   Bois, biomasse + Electricité d'origine renouve...             6\n",
       "20   Bois, biomasse + Electricité d'origine renouve...             8\n",
       "21   Bois, biomasse + Electricité d'origine renouve...           201\n",
       "22   Bois, biomasse + Electricité d'origine renouve...             2\n",
       "23   Bois, biomasse + Electricité d'origine renouve...           135\n",
       "24   Bois, biomasse + Electricité d'origine renouve...             2\n",
       "25   Bois, biomasse + Electricité d'origine renouve...            15\n",
       "26   Bois, biomasse + Electricité d'origine renouve...             1\n",
       "27       Bois, biomasse + Electricité non renouvelable        281873\n",
       "28   Bois, biomasse + Electricité non renouvelable ...             6\n",
       "29   Bois, biomasse + Electricité non renouvelable ...           117\n",
       "..                                                 ...           ...\n",
       "120  Electricité non renouvelable + Fioul domestiqu...             1\n",
       "121         Electricité non renouvelable + Gaz naturel         43831\n",
       "122  Electricité non renouvelable + Gaz naturel + B...             8\n",
       "123  Electricité non renouvelable + Gaz naturel + E...             7\n",
       "124  Electricité non renouvelable + Gaz naturel + G...             1\n",
       "125  Electricité non renouvelable + Gaz naturel + G...             2\n",
       "126  Electricité non renouvelable + Gaz naturel + G...             2\n",
       "127  Electricité non renouvelable + Gaz naturel + G...             5\n",
       "128  Electricité non renouvelable + Gaz naturel + R...            55\n",
       "129  Electricité non renouvelable + Gaz propane ou ...          2913\n",
       "130  Electricité non renouvelable + Gaz propane ou ...             3\n",
       "131  Electricité non renouvelable + Gaz propane ou ...             1\n",
       "132  Electricité non renouvelable + Gaz propane ou ...             1\n",
       "133  Electricité non renouvelable + Réseau de chaleurs          1566\n",
       "134                                   Fioul domestique        240302\n",
       "135                     Fioul domestique + Gaz naturel           507\n",
       "136  Fioul domestique + Gaz naturel + Gaz naturel +...             1\n",
       "137  Fioul domestique + Gaz naturel + Gaz propane o...             1\n",
       "138           Fioul domestique + Gaz propane ou butane            61\n",
       "139  Fioul domestique + Gaz propane ou butane + Gaz...             3\n",
       "140              Fioul domestique + Réseau de chaleurs            11\n",
       "141                                        Gaz naturel       1380526\n",
       "142         Gaz naturel + Gaz naturel + Bois, biomasse             2\n",
       "143  Gaz naturel + Gaz naturel + Electricité non re...             1\n",
       "144  Gaz naturel + Gaz naturel + Electricité non re...             1\n",
       "145                Gaz naturel + Gaz propane ou butane            13\n",
       "146                   Gaz naturel + Réseau de chaleurs           116\n",
       "147                              Gaz propane ou butane         40179\n",
       "148  Gaz propane ou butane + Gaz propane ou butane ...             1\n",
       "149                                 Réseau de chaleurs        147133\n",
       "\n",
       "[150 rows x 2 columns]"
      ]
     },
     "execution_count": 60,
     "metadata": {},
     "output_type": "execute_result"
    }
   ],
   "source": [
    "df2"
   ]
  },
  {
   "cell_type": "code",
   "execution_count": 61,
   "metadata": {},
   "outputs": [],
   "source": [
    "df2 = df2[df2['td001_dpe_id'] > 10000]"
   ]
  },
  {
   "cell_type": "code",
   "execution_count": 62,
   "metadata": {},
   "outputs": [
    {
     "data": {
      "text/html": [
       "<div>\n",
       "<style scoped>\n",
       "    .dataframe tbody tr th:only-of-type {\n",
       "        vertical-align: middle;\n",
       "    }\n",
       "\n",
       "    .dataframe tbody tr th {\n",
       "        vertical-align: top;\n",
       "    }\n",
       "\n",
       "    .dataframe thead th {\n",
       "        text-align: right;\n",
       "    }\n",
       "</style>\n",
       "<table border=\"1\" class=\"dataframe\">\n",
       "  <thead>\n",
       "    <tr style=\"text-align: right;\">\n",
       "      <th></th>\n",
       "      <th>mix_energetique_chauffage</th>\n",
       "      <th>td001_dpe_id</th>\n",
       "    </tr>\n",
       "  </thead>\n",
       "  <tbody>\n",
       "    <tr>\n",
       "      <th>4</th>\n",
       "      <td>Bois, biomasse</td>\n",
       "      <td>39864</td>\n",
       "    </tr>\n",
       "    <tr>\n",
       "      <th>27</th>\n",
       "      <td>Bois, biomasse + Electricité non renouvelable</td>\n",
       "      <td>281873</td>\n",
       "    </tr>\n",
       "    <tr>\n",
       "      <th>52</th>\n",
       "      <td>Bois, biomasse + Fioul domestique</td>\n",
       "      <td>55602</td>\n",
       "    </tr>\n",
       "    <tr>\n",
       "      <th>62</th>\n",
       "      <td>Bois, biomasse + Gaz naturel</td>\n",
       "      <td>60990</td>\n",
       "    </tr>\n",
       "    <tr>\n",
       "      <th>83</th>\n",
       "      <td>Electricité d'origine renouvelable</td>\n",
       "      <td>10848</td>\n",
       "    </tr>\n",
       "    <tr>\n",
       "      <th>99</th>\n",
       "      <td>Electricité non renouvelable</td>\n",
       "      <td>1668764</td>\n",
       "    </tr>\n",
       "    <tr>\n",
       "      <th>114</th>\n",
       "      <td>Electricité non renouvelable + Fioul domestique</td>\n",
       "      <td>20806</td>\n",
       "    </tr>\n",
       "    <tr>\n",
       "      <th>121</th>\n",
       "      <td>Electricité non renouvelable + Gaz naturel</td>\n",
       "      <td>43831</td>\n",
       "    </tr>\n",
       "    <tr>\n",
       "      <th>134</th>\n",
       "      <td>Fioul domestique</td>\n",
       "      <td>240302</td>\n",
       "    </tr>\n",
       "    <tr>\n",
       "      <th>141</th>\n",
       "      <td>Gaz naturel</td>\n",
       "      <td>1380526</td>\n",
       "    </tr>\n",
       "    <tr>\n",
       "      <th>147</th>\n",
       "      <td>Gaz propane ou butane</td>\n",
       "      <td>40179</td>\n",
       "    </tr>\n",
       "    <tr>\n",
       "      <th>149</th>\n",
       "      <td>Réseau de chaleurs</td>\n",
       "      <td>147133</td>\n",
       "    </tr>\n",
       "  </tbody>\n",
       "</table>\n",
       "</div>"
      ],
      "text/plain": [
       "                           mix_energetique_chauffage  td001_dpe_id\n",
       "4                                     Bois, biomasse         39864\n",
       "27     Bois, biomasse + Electricité non renouvelable        281873\n",
       "52                 Bois, biomasse + Fioul domestique         55602\n",
       "62                      Bois, biomasse + Gaz naturel         60990\n",
       "83                Electricité d'origine renouvelable         10848\n",
       "99                      Electricité non renouvelable       1668764\n",
       "114  Electricité non renouvelable + Fioul domestique         20806\n",
       "121       Electricité non renouvelable + Gaz naturel         43831\n",
       "134                                 Fioul domestique        240302\n",
       "141                                      Gaz naturel       1380526\n",
       "147                            Gaz propane ou butane         40179\n",
       "149                               Réseau de chaleurs        147133"
      ]
     },
     "execution_count": 62,
     "metadata": {},
     "output_type": "execute_result"
    }
   ],
   "source": [
    "df2"
   ]
  },
  {
   "cell_type": "code",
   "execution_count": 63,
   "metadata": {},
   "outputs": [
    {
     "data": {
      "text/html": [
       "\n",
       "<script>\n",
       "    require.config({\n",
       "        paths: {\n",
       "            'chartXkcd':'https://cdn.jsdelivr.net/npm/chart.xkcd@1.1/dist/chart.xkcd.min'\n",
       "        }\n",
       "    });\n",
       "</script>\n",
       "\n",
       "<div id=\"0fb5e603a4c541958a420706c9bdff4d\" class=\"chart-container\" style=\"width: 1200px\">\n",
       "        <svg id=\"chart_0fb5e603a4c541958a420706c9bdff4d\"></svg>\n",
       "    </div>\n",
       "    <script>\n",
       "        require(['chartXkcd'], function(chartXkcd) {\n",
       "            const svg_0fb5e603a4c541958a420706c9bdff4d = document.querySelector('#chart_0fb5e603a4c541958a420706c9bdff4d')\n",
       "            const chart_0fb5e603a4c541958a420706c9bdff4d = new chartXkcd.Pie(svg_0fb5e603a4c541958a420706c9bdff4d, {\"title\": \"% source ECS (Eau Chaude Sanitaire)\", \"data\": {\"datasets\": [{\"data\": [39864, 281873, 55602, 60990, 10848, 1668764, 20806, 43831, 240302, 1380526, 40179, 147133]}], \"labels\": [\"Bois, biomasse\", \"Bois, biomasse + Electricit\\u00e9 non renouvelable\", \"Bois, biomasse + Fioul domestique\", \"Bois, biomasse + Gaz naturel\", \"Electricit\\u00e9 d'origine renouvelable\", \"Electricit\\u00e9 non renouvelable\", \"Electricit\\u00e9 non renouvelable + Fioul domestique\", \"Electricit\\u00e9 non renouvelable + Gaz naturel\", \"Fioul domestique\", \"Gaz naturel\", \"Gaz propane ou butane\", \"R\\u00e9seau de chaleurs\"]}, \"options\": {\"innerRadius\": 0, \"legendPosition\": 1}});\n",
       "        })\n",
       "    </script>\n"
      ],
      "text/plain": [
       "<cutecharts.render.engine.HTML at 0x7fa7d7deda58>"
      ]
     },
     "execution_count": 63,
     "metadata": {},
     "output_type": "execute_result"
    }
   ],
   "source": [
    "chart = ctc.Pie('% source ECS (Eau Chaude Sanitaire)',width='1200px',height='400px')\n",
    "chart.set_options(\n",
    " labels=list(df2['mix_energetique_chauffage']),\n",
    " inner_radius=0\n",
    " )\n",
    "chart.add_series(list(df2['td001_dpe_id'])) \n",
    "chart.render_notebook()\n"
   ]
  },
  {
   "cell_type": "code",
   "execution_count": 66,
   "metadata": {},
   "outputs": [
    {
     "data": {
      "text/html": [
       "\n",
       "<script>\n",
       "    require.config({\n",
       "        paths: {\n",
       "            'chartXkcd':'https://cdn.jsdelivr.net/npm/chart.xkcd@1.1/dist/chart.xkcd.min'\n",
       "        }\n",
       "    });\n",
       "</script>\n",
       "\n",
       "<div id=\"c2f66bb2dd054df4a1a42e81abe6d84a\" class=\"chart-container\" style=\"width: 1200px\">\n",
       "        <svg id=\"chart_c2f66bb2dd054df4a1a42e81abe6d84a\"></svg>\n",
       "    </div>\n",
       "    <script>\n",
       "        require(['chartXkcd'], function(chartXkcd) {\n",
       "            const svg_c2f66bb2dd054df4a1a42e81abe6d84a = document.querySelector('#chart_c2f66bb2dd054df4a1a42e81abe6d84a')\n",
       "            const chart_c2f66bb2dd054df4a1a42e81abe6d84a = new chartXkcd.Pie(svg_c2f66bb2dd054df4a1a42e81abe6d84a, {\"title\": \"% source Chauffage\", \"data\": {\"datasets\": [{\"data\": [39864, 281873, 55602, 60990, 10848, 1668764, 20806, 43831, 240302, 1380526, 40179, 147133]}], \"labels\": [\"Bois, biomasse\", \"Bois, biomasse + Electricit\\u00e9 non renouvelable\", \"Bois, biomasse + Fioul domestique\", \"Bois, biomasse + Gaz naturel\", \"Electricit\\u00e9 d'origine renouvelable\", \"Electricit\\u00e9 non renouvelable\", \"Electricit\\u00e9 non renouvelable + Fioul domestique\", \"Electricit\\u00e9 non renouvelable + Gaz naturel\", \"Fioul domestique\", \"Gaz naturel\", \"Gaz propane ou butane\", \"R\\u00e9seau de chaleurs\"]}, \"options\": {\"innerRadius\": 0.6, \"legendPosition\": 1, \"dataColors\": [\"#FF0000\", \"#187bcd\", \"#00FF00\", \"#FF00FF\", \"#594F4F\", \"#45ADA8\", \"#FFFF00\", \"#83AF9B\", \"#F9CDAD\", \"#FF4E50\", \"#FC913A\", \"#45ADA8\"]}});\n",
       "        })\n",
       "    </script>\n"
      ],
      "text/plain": [
       "<cutecharts.render.engine.HTML at 0x7fa7d7ded748>"
      ]
     },
     "execution_count": 66,
     "metadata": {},
     "output_type": "execute_result"
    }
   ],
   "source": [
    "chart = ctc.Pie('% source Chauffage',width='1200px',height='400px')\n",
    "chart.set_options(\n",
    " labels=list(df2['mix_energetique_chauffage']),\n",
    " inner_radius=0.6,\n",
    " colors=['#FF0000','#187bcd','#00FF00','#FF00FF','#594F4F','#45ADA8','#FFFF00','#83AF9B','#F9CDAD','#FF4E50','#FC913A', '#45ADA8']\n",
    " )\n",
    "chart.add_series(list(df2['td001_dpe_id'])) \n",
    "chart.render_notebook()"
   ]
  },
  {
   "cell_type": "markdown",
   "metadata": {},
   "source": [
    "Charts évolution % classes par années de construction"
   ]
  },
  {
   "cell_type": "code",
   "execution_count": 38,
   "metadata": {},
   "outputs": [],
   "source": [
    "dfglobal = df.groupby(pd.cut(df['annee_construction'], np.arange(1950,2030,10)))[['id']].count()"
   ]
  },
  {
   "cell_type": "code",
   "execution_count": 39,
   "metadata": {},
   "outputs": [],
   "source": [
    "dfglobal['index1'] =dfglobal.index"
   ]
  },
  {
   "cell_type": "code",
   "execution_count": 40,
   "metadata": {},
   "outputs": [
    {
     "data": {
      "text/html": [
       "<div>\n",
       "<style scoped>\n",
       "    .dataframe tbody tr th:only-of-type {\n",
       "        vertical-align: middle;\n",
       "    }\n",
       "\n",
       "    .dataframe tbody tr th {\n",
       "        vertical-align: top;\n",
       "    }\n",
       "\n",
       "    .dataframe thead th {\n",
       "        text-align: right;\n",
       "    }\n",
       "</style>\n",
       "<table border=\"1\" class=\"dataframe\">\n",
       "  <thead>\n",
       "    <tr style=\"text-align: right;\">\n",
       "      <th></th>\n",
       "      <th>id</th>\n",
       "      <th>index1</th>\n",
       "    </tr>\n",
       "    <tr>\n",
       "      <th>annee_construction</th>\n",
       "      <th></th>\n",
       "      <th></th>\n",
       "    </tr>\n",
       "  </thead>\n",
       "  <tbody>\n",
       "    <tr>\n",
       "      <th>(1950, 1960]</th>\n",
       "      <td>198533</td>\n",
       "      <td>(1950, 1960]</td>\n",
       "    </tr>\n",
       "    <tr>\n",
       "      <th>(1960, 1970]</th>\n",
       "      <td>443412</td>\n",
       "      <td>(1960, 1970]</td>\n",
       "    </tr>\n",
       "    <tr>\n",
       "      <th>(1970, 1980]</th>\n",
       "      <td>1387585</td>\n",
       "      <td>(1970, 1980]</td>\n",
       "    </tr>\n",
       "    <tr>\n",
       "      <th>(1980, 1990]</th>\n",
       "      <td>791766</td>\n",
       "      <td>(1980, 1990]</td>\n",
       "    </tr>\n",
       "    <tr>\n",
       "      <th>(1990, 2000]</th>\n",
       "      <td>450001</td>\n",
       "      <td>(1990, 2000]</td>\n",
       "    </tr>\n",
       "    <tr>\n",
       "      <th>(2000, 2010]</th>\n",
       "      <td>817562</td>\n",
       "      <td>(2000, 2010]</td>\n",
       "    </tr>\n",
       "    <tr>\n",
       "      <th>(2010, 2020]</th>\n",
       "      <td>1441270</td>\n",
       "      <td>(2010, 2020]</td>\n",
       "    </tr>\n",
       "  </tbody>\n",
       "</table>\n",
       "</div>"
      ],
      "text/plain": [
       "                         id        index1\n",
       "annee_construction                       \n",
       "(1950, 1960]         198533  (1950, 1960]\n",
       "(1960, 1970]         443412  (1960, 1970]\n",
       "(1970, 1980]        1387585  (1970, 1980]\n",
       "(1980, 1990]         791766  (1980, 1990]\n",
       "(1990, 2000]         450001  (1990, 2000]\n",
       "(2000, 2010]         817562  (2000, 2010]\n",
       "(2010, 2020]        1441270  (2010, 2020]"
      ]
     },
     "execution_count": 40,
     "metadata": {},
     "output_type": "execute_result"
    }
   ],
   "source": [
    "dfglobal"
   ]
  },
  {
   "cell_type": "code",
   "execution_count": 41,
   "metadata": {},
   "outputs": [],
   "source": [
    "dfA = df[(df.classe_estimation_ges == 'A')]"
   ]
  },
  {
   "cell_type": "code",
   "execution_count": 42,
   "metadata": {},
   "outputs": [
    {
     "name": "stderr",
     "output_type": "stream",
     "text": [
      "/home/debian/anaconda3/lib/python3.7/site-packages/pandas/core/generic.py:5096: SettingWithCopyWarning: \n",
      "A value is trying to be set on a copy of a slice from a DataFrame.\n",
      "Try using .loc[row_indexer,col_indexer] = value instead\n",
      "\n",
      "See the caveats in the documentation: http://pandas.pydata.org/pandas-docs/stable/indexing.html#indexing-view-versus-copy\n",
      "  self[name] = value\n"
     ]
    }
   ],
   "source": [
    "dfA.annee_construction = dfA.annee_construction.astype(float)"
   ]
  },
  {
   "cell_type": "code",
   "execution_count": null,
   "metadata": {},
   "outputs": [],
   "source": []
  },
  {
   "cell_type": "code",
   "execution_count": 74,
   "metadata": {},
   "outputs": [
    {
     "name": "stderr",
     "output_type": "stream",
     "text": [
      "/home/debian/anaconda3/lib/python3.7/site-packages/pandas/core/generic.py:5096: SettingWithCopyWarning: \n",
      "A value is trying to be set on a copy of a slice from a DataFrame.\n",
      "Try using .loc[row_indexer,col_indexer] = value instead\n",
      "\n",
      "See the caveats in the documentation: http://pandas.pydata.org/pandas-docs/stable/indexing.html#indexing-view-versus-copy\n",
      "  self[name] = value\n"
     ]
    },
    {
     "data": {
      "text/html": [
       "\n",
       "<script>\n",
       "    require.config({\n",
       "        paths: {\n",
       "            'chartXkcd':'https://cdn.jsdelivr.net/npm/chart.xkcd@1.1/dist/chart.xkcd.min'\n",
       "        }\n",
       "    });\n",
       "</script>\n",
       "\n",
       "<div id=\"cc987b3effe04afc975c7dd37f5dafe3\" class=\"chart-container\" style=\"width: 500px\">\n",
       "        <svg id=\"chart_cc987b3effe04afc975c7dd37f5dafe3\"></svg>\n",
       "    </div>\n",
       "    <script>\n",
       "        require(['chartXkcd'], function(chartXkcd) {\n",
       "            const svg_cc987b3effe04afc975c7dd37f5dafe3 = document.querySelector('#chart_cc987b3effe04afc975c7dd37f5dafe3')\n",
       "            const chart_cc987b3effe04afc975c7dd37f5dafe3 = new chartXkcd.Bar(svg_cc987b3effe04afc975c7dd37f5dafe3, {\"title\": \"% de classe A\", \"data\": {\"datasets\": [{\"data\": [1.361486503503196, 1.70563719520446, 2.9433151842950163, 0.6125547194499384, 0.826887051362108, 0.9420692253309229, 33.48470446203695]}], \"labels\": [\"1950\", \"1960\", \"1970\", \"1980\", \"1990\", \"2000\", \"2010\"]}, \"xLabel\": \"annees de construction des logements\", \"yLabel\": \"Pourcentage\", \"options\": {\"yTickCount\": 3, \"dataColors\": [\"#339a33\", \"#33cc33\", \"#ccff33\", \"#FFFF00\", \"#ffcc00\", \"#ff9a33\", \"#FF0000\"]}});\n",
       "        })\n",
       "    </script>\n"
      ],
      "text/plain": [
       "<cutecharts.render.engine.HTML at 0x7f4fb32b5550>"
      ]
     },
     "execution_count": 74,
     "metadata": {},
     "output_type": "execute_result"
    }
   ],
   "source": [
    "dfy = df[(df.classe_consommation_energie == 'A')]\n",
    "dfy.annee_construction = dfy.annee_construction.astype(float)\n",
    "dfy = dfy.groupby(pd.cut(dfy['annee_construction'], np.arange(1950,2030,10)))[['id']].count()\n",
    "dfy['index1'] = dfy.index\n",
    "dfy = pd.merge(dfy,dfglobal,on='index1',how='left')\n",
    "dfy['percent'] = dfy['id_x']  / dfy['id_y'] * 100\n",
    "dfy['years'] = dfy['index1'].apply(lambda x: str(x).split(\",\")[0].replace(\"(\",\"\"))\n",
    "chart = ctc.Bar('% de classe A',width='500px',height='400px')\n",
    "chart.set_options(\n",
    " labels=list(dfy['years']),\n",
    " x_label='annees de construction des logements',\n",
    " y_label='Pourcentage' ,\n",
    " colors=['#339a33','#33cc33', '#ccff33','#FFFF00','#ffcc00','#ff9a33','#FF0000']\n",
    " )\n",
    "chart.add_series('',list(dfy['percent']))\n",
    "chart.render_notebook()"
   ]
  },
  {
   "cell_type": "code",
   "execution_count": 75,
   "metadata": {},
   "outputs": [
    {
     "name": "stderr",
     "output_type": "stream",
     "text": [
      "/home/debian/anaconda3/lib/python3.7/site-packages/pandas/core/generic.py:5096: SettingWithCopyWarning: \n",
      "A value is trying to be set on a copy of a slice from a DataFrame.\n",
      "Try using .loc[row_indexer,col_indexer] = value instead\n",
      "\n",
      "See the caveats in the documentation: http://pandas.pydata.org/pandas-docs/stable/indexing.html#indexing-view-versus-copy\n",
      "  self[name] = value\n"
     ]
    },
    {
     "data": {
      "text/html": [
       "\n",
       "<script>\n",
       "    require.config({\n",
       "        paths: {\n",
       "            'chartXkcd':'https://cdn.jsdelivr.net/npm/chart.xkcd@1.1/dist/chart.xkcd.min'\n",
       "        }\n",
       "    });\n",
       "</script>\n",
       "\n",
       "<div id=\"289b48b602b249ebb60f436ec9f21033\" class=\"chart-container\" style=\"width: 500px\">\n",
       "        <svg id=\"chart_289b48b602b249ebb60f436ec9f21033\"></svg>\n",
       "    </div>\n",
       "    <script>\n",
       "        require(['chartXkcd'], function(chartXkcd) {\n",
       "            const svg_289b48b602b249ebb60f436ec9f21033 = document.querySelector('#chart_289b48b602b249ebb60f436ec9f21033')\n",
       "            const chart_289b48b602b249ebb60f436ec9f21033 = new chartXkcd.Bar(svg_289b48b602b249ebb60f436ec9f21033, {\"title\": \"% de classe B\", \"data\": {\"datasets\": [{\"data\": [1.9659200233714293, 2.127817921030554, 2.623046516069286, 2.3208877370334164, 3.1691040686576253, 6.728786318346498, 51.09840626669534]}], \"labels\": [\"1950\", \"1960\", \"1970\", \"1980\", \"1990\", \"2000\", \"2010\"]}, \"xLabel\": \"annees de construction des logements\", \"yLabel\": \"Pourcentage\", \"options\": {\"yTickCount\": 3, \"dataColors\": [\"#339a33\", \"#33cc33\", \"#ccff33\", \"#FFFF00\", \"#ffcc00\", \"#ff9a33\", \"#FF0000\"]}});\n",
       "        })\n",
       "    </script>\n"
      ],
      "text/plain": [
       "<cutecharts.render.engine.HTML at 0x7f4fb32b67f0>"
      ]
     },
     "execution_count": 75,
     "metadata": {},
     "output_type": "execute_result"
    }
   ],
   "source": [
    "dfy = df[(df.classe_consommation_energie == 'B')]\n",
    "dfy.annee_construction = dfy.annee_construction.astype(float)\n",
    "dfy = dfy.groupby(pd.cut(dfy['annee_construction'], np.arange(1950,2030,10)))[['id']].count()\n",
    "dfy['index1'] = dfy.index\n",
    "dfy = pd.merge(dfy,dfglobal,on='index1',how='left')\n",
    "dfy['percent'] = dfy['id_x']  / dfy['id_y'] * 100\n",
    "dfy['years'] = dfy['index1'].apply(lambda x: str(x).split(\",\")[0].replace(\"(\",\"\"))\n",
    "chart = ctc.Bar('% de classe B',width='500px',height='400px')\n",
    "chart.set_options(\n",
    " labels=list(dfy['years']),\n",
    " x_label='annees de construction des logements',\n",
    " y_label='Pourcentage' ,\n",
    " colors=['#339a33','#33cc33', '#ccff33','#FFFF00','#ffcc00','#ff9a33','#FF0000']\n",
    " )\n",
    "chart.add_series('',list(dfy['percent']))\n",
    "chart.render_notebook()"
   ]
  },
  {
   "cell_type": "code",
   "execution_count": 76,
   "metadata": {},
   "outputs": [
    {
     "name": "stderr",
     "output_type": "stream",
     "text": [
      "/home/debian/anaconda3/lib/python3.7/site-packages/pandas/core/generic.py:5096: SettingWithCopyWarning: \n",
      "A value is trying to be set on a copy of a slice from a DataFrame.\n",
      "Try using .loc[row_indexer,col_indexer] = value instead\n",
      "\n",
      "See the caveats in the documentation: http://pandas.pydata.org/pandas-docs/stable/indexing.html#indexing-view-versus-copy\n",
      "  self[name] = value\n"
     ]
    },
    {
     "data": {
      "text/html": [
       "\n",
       "<script>\n",
       "    require.config({\n",
       "        paths: {\n",
       "            'chartXkcd':'https://cdn.jsdelivr.net/npm/chart.xkcd@1.1/dist/chart.xkcd.min'\n",
       "        }\n",
       "    });\n",
       "</script>\n",
       "\n",
       "<div id=\"6a9a9c793f5f416194f7db6916e8d0c0\" class=\"chart-container\" style=\"width: 500px\">\n",
       "        <svg id=\"chart_6a9a9c793f5f416194f7db6916e8d0c0\"></svg>\n",
       "    </div>\n",
       "    <script>\n",
       "        require(['chartXkcd'], function(chartXkcd) {\n",
       "            const svg_6a9a9c793f5f416194f7db6916e8d0c0 = document.querySelector('#chart_6a9a9c793f5f416194f7db6916e8d0c0')\n",
       "            const chart_6a9a9c793f5f416194f7db6916e8d0c0 = new chartXkcd.Bar(svg_6a9a9c793f5f416194f7db6916e8d0c0, {\"title\": \"% de classe C\", \"data\": {\"datasets\": [{\"data\": [10.313146932751733, 14.64507049876864, 16.137894255126714, 18.43739185567453, 24.67438961246753, 31.022845973761008, 8.767822822927002]}], \"labels\": [\"1950\", \"1960\", \"1970\", \"1980\", \"1990\", \"2000\", \"2010\"]}, \"xLabel\": \"annees de construction des logements\", \"yLabel\": \"Pourcentage\", \"options\": {\"yTickCount\": 3, \"dataColors\": [\"#339a33\", \"#33cc33\", \"#ccff33\", \"#FFFF00\", \"#ffcc00\", \"#ff9a33\", \"#FF0000\"]}});\n",
       "        })\n",
       "    </script>\n"
      ],
      "text/plain": [
       "<cutecharts.render.engine.HTML at 0x7f4fb3d35780>"
      ]
     },
     "execution_count": 76,
     "metadata": {},
     "output_type": "execute_result"
    }
   ],
   "source": [
    "dfy = df[(df.classe_consommation_energie == 'C')]\n",
    "dfy.annee_construction = dfy.annee_construction.astype(float)\n",
    "dfy = dfy.groupby(pd.cut(dfy['annee_construction'], np.arange(1950,2030,10)))[['id']].count()\n",
    "dfy['index1'] = dfy.index\n",
    "dfy = pd.merge(dfy,dfglobal,on='index1',how='left')\n",
    "dfy['percent'] = dfy['id_x']  / dfy['id_y'] * 100\n",
    "dfy['years'] = dfy['index1'].apply(lambda x: str(x).split(\",\")[0].replace(\"(\",\"\"))\n",
    "chart = ctc.Bar('% de classe C',width='500px',height='400px')\n",
    "chart.set_options(\n",
    " labels=list(dfy['years']),\n",
    " x_label='annees de construction des logements',\n",
    " y_label='Pourcentage' ,\n",
    " colors=['#339a33','#33cc33', '#ccff33','#FFFF00','#ffcc00','#ff9a33','#FF0000']\n",
    " )\n",
    "chart.add_series('',list(dfy['percent']))\n",
    "chart.render_notebook()"
   ]
  },
  {
   "cell_type": "code",
   "execution_count": 77,
   "metadata": {},
   "outputs": [
    {
     "name": "stderr",
     "output_type": "stream",
     "text": [
      "/home/debian/anaconda3/lib/python3.7/site-packages/pandas/core/generic.py:5096: SettingWithCopyWarning: \n",
      "A value is trying to be set on a copy of a slice from a DataFrame.\n",
      "Try using .loc[row_indexer,col_indexer] = value instead\n",
      "\n",
      "See the caveats in the documentation: http://pandas.pydata.org/pandas-docs/stable/indexing.html#indexing-view-versus-copy\n",
      "  self[name] = value\n"
     ]
    },
    {
     "data": {
      "text/html": [
       "\n",
       "<script>\n",
       "    require.config({\n",
       "        paths: {\n",
       "            'chartXkcd':'https://cdn.jsdelivr.net/npm/chart.xkcd@1.1/dist/chart.xkcd.min'\n",
       "        }\n",
       "    });\n",
       "</script>\n",
       "\n",
       "<div id=\"d1a3b4f658aa4fa79a188ccc49d7c354\" class=\"chart-container\" style=\"width: 500px\">\n",
       "        <svg id=\"chart_d1a3b4f658aa4fa79a188ccc49d7c354\"></svg>\n",
       "    </div>\n",
       "    <script>\n",
       "        require(['chartXkcd'], function(chartXkcd) {\n",
       "            const svg_d1a3b4f658aa4fa79a188ccc49d7c354 = document.querySelector('#chart_d1a3b4f658aa4fa79a188ccc49d7c354')\n",
       "            const chart_d1a3b4f658aa4fa79a188ccc49d7c354 = new chartXkcd.Bar(svg_d1a3b4f658aa4fa79a188ccc49d7c354, {\"title\": \"% de classe D\", \"data\": {\"datasets\": [{\"data\": [29.50391118856815, 31.56116658998854, 32.00092246601109, 36.446248007618415, 37.03569547623228, 41.70705096371896, 4.44857660257967]}], \"labels\": [\"1950\", \"1960\", \"1970\", \"1980\", \"1990\", \"2000\", \"2010\"]}, \"xLabel\": \"annees de construction des logements\", \"yLabel\": \"Pourcentage\", \"options\": {\"yTickCount\": 3, \"dataColors\": [\"#339a33\", \"#33cc33\", \"#ccff33\", \"#FFFF00\", \"#ffcc00\", \"#ff9a33\", \"#FF0000\"]}});\n",
       "        })\n",
       "    </script>\n"
      ],
      "text/plain": [
       "<cutecharts.render.engine.HTML at 0x7f4faef16400>"
      ]
     },
     "execution_count": 77,
     "metadata": {},
     "output_type": "execute_result"
    }
   ],
   "source": [
    "dfy = df[(df.classe_consommation_energie == 'D')]\n",
    "dfy.annee_construction = dfy.annee_construction.astype(float)\n",
    "dfy = dfy.groupby(pd.cut(dfy['annee_construction'], np.arange(1950,2030,10)))[['id']].count()\n",
    "dfy['index1'] = dfy.index\n",
    "dfy = pd.merge(dfy,dfglobal,on='index1',how='left')\n",
    "dfy['percent'] = dfy['id_x']  / dfy['id_y'] * 100\n",
    "dfy['years'] = dfy['index1'].apply(lambda x: str(x).split(\",\")[0].replace(\"(\",\"\"))\n",
    "chart = ctc.Bar('% de classe D',width='500px',height='400px')\n",
    "chart.set_options(\n",
    " labels=list(dfy['years']),\n",
    " x_label='annees de construction des logements',\n",
    " y_label='Pourcentage' ,\n",
    " colors=['#339a33','#33cc33', '#ccff33','#FFFF00','#ffcc00','#ff9a33','#FF0000']\n",
    " )\n",
    "chart.add_series('',list(dfy['percent']))\n",
    "chart.render_notebook()"
   ]
  },
  {
   "cell_type": "code",
   "execution_count": 78,
   "metadata": {},
   "outputs": [
    {
     "name": "stderr",
     "output_type": "stream",
     "text": [
      "/home/debian/anaconda3/lib/python3.7/site-packages/pandas/core/generic.py:5096: SettingWithCopyWarning: \n",
      "A value is trying to be set on a copy of a slice from a DataFrame.\n",
      "Try using .loc[row_indexer,col_indexer] = value instead\n",
      "\n",
      "See the caveats in the documentation: http://pandas.pydata.org/pandas-docs/stable/indexing.html#indexing-view-versus-copy\n",
      "  self[name] = value\n"
     ]
    },
    {
     "data": {
      "text/html": [
       "\n",
       "<script>\n",
       "    require.config({\n",
       "        paths: {\n",
       "            'chartXkcd':'https://cdn.jsdelivr.net/npm/chart.xkcd@1.1/dist/chart.xkcd.min'\n",
       "        }\n",
       "    });\n",
       "</script>\n",
       "\n",
       "<div id=\"7a54738af2464faea42b97b6e4ab5d01\" class=\"chart-container\" style=\"width: 500px\">\n",
       "        <svg id=\"chart_7a54738af2464faea42b97b6e4ab5d01\"></svg>\n",
       "    </div>\n",
       "    <script>\n",
       "        require(['chartXkcd'], function(chartXkcd) {\n",
       "            const svg_7a54738af2464faea42b97b6e4ab5d01 = document.querySelector('#chart_7a54738af2464faea42b97b6e4ab5d01')\n",
       "            const chart_7a54738af2464faea42b97b6e4ab5d01 = new chartXkcd.Bar(svg_7a54738af2464faea42b97b6e4ab5d01, {\"title\": \"% de classe E\", \"data\": {\"datasets\": [{\"data\": [29.846927211093373, 24.570151461845867, 25.682895101921684, 28.62626078917256, 24.08105759764978, 14.941374476798089, 1.3934932386020662]}], \"labels\": [\"1950\", \"1960\", \"1970\", \"1980\", \"1990\", \"2000\", \"2010\"]}, \"xLabel\": \"annees de construction des logements\", \"yLabel\": \"Pourcentage\", \"options\": {\"yTickCount\": 3, \"dataColors\": [\"#339a33\", \"#33cc33\", \"#ccff33\", \"#FFFF00\", \"#ffcc00\", \"#ff9a33\", \"#FF0000\"]}});\n",
       "        })\n",
       "    </script>\n"
      ],
      "text/plain": [
       "<cutecharts.render.engine.HTML at 0x7f4fb3b0e198>"
      ]
     },
     "execution_count": 78,
     "metadata": {},
     "output_type": "execute_result"
    }
   ],
   "source": [
    "dfy = df[(df.classe_consommation_energie == 'E')]\n",
    "dfy.annee_construction = dfy.annee_construction.astype(float)\n",
    "dfy = dfy.groupby(pd.cut(dfy['annee_construction'], np.arange(1950,2030,10)))[['id']].count()\n",
    "dfy['index1'] = dfy.index\n",
    "dfy = pd.merge(dfy,dfglobal,on='index1',how='left')\n",
    "dfy['percent'] = dfy['id_x']  / dfy['id_y'] * 100\n",
    "dfy['years'] = dfy['index1'].apply(lambda x: str(x).split(\",\")[0].replace(\"(\",\"\"))\n",
    "chart = ctc.Bar('% de classe E',width='500px',height='400px')\n",
    "chart.set_options(\n",
    " labels=list(dfy['years']),\n",
    " x_label='annees de construction des logements',\n",
    " y_label='Pourcentage' ,\n",
    " colors=['#339a33','#33cc33', '#ccff33','#FFFF00','#ffcc00','#ff9a33','#FF0000']\n",
    " )\n",
    "chart.add_series('',list(dfy['percent']))\n",
    "chart.render_notebook()"
   ]
  },
  {
   "cell_type": "code",
   "execution_count": 79,
   "metadata": {},
   "outputs": [
    {
     "name": "stderr",
     "output_type": "stream",
     "text": [
      "/home/debian/anaconda3/lib/python3.7/site-packages/pandas/core/generic.py:5096: SettingWithCopyWarning: \n",
      "A value is trying to be set on a copy of a slice from a DataFrame.\n",
      "Try using .loc[row_indexer,col_indexer] = value instead\n",
      "\n",
      "See the caveats in the documentation: http://pandas.pydata.org/pandas-docs/stable/indexing.html#indexing-view-versus-copy\n",
      "  self[name] = value\n"
     ]
    },
    {
     "data": {
      "text/html": [
       "\n",
       "<script>\n",
       "    require.config({\n",
       "        paths: {\n",
       "            'chartXkcd':'https://cdn.jsdelivr.net/npm/chart.xkcd@1.1/dist/chart.xkcd.min'\n",
       "        }\n",
       "    });\n",
       "</script>\n",
       "\n",
       "<div id=\"f6f164dd4e7c410398da6214bbe396b8\" class=\"chart-container\" style=\"width: 500px\">\n",
       "        <svg id=\"chart_f6f164dd4e7c410398da6214bbe396b8\"></svg>\n",
       "    </div>\n",
       "    <script>\n",
       "        require(['chartXkcd'], function(chartXkcd) {\n",
       "            const svg_f6f164dd4e7c410398da6214bbe396b8 = document.querySelector('#chart_f6f164dd4e7c410398da6214bbe396b8')\n",
       "            const chart_f6f164dd4e7c410398da6214bbe396b8 = new chartXkcd.Bar(svg_f6f164dd4e7c410398da6214bbe396b8, {\"title\": \"% de classe F\", \"data\": {\"datasets\": [{\"data\": [15.66137619438582, 10.902050463226075, 10.703272231971376, 8.593448064200787, 5.434210146199675, 1.9892069347645807, 0.20273786313459657]}], \"labels\": [\"1950\", \"1960\", \"1970\", \"1980\", \"1990\", \"2000\", \"2010\"]}, \"xLabel\": \"annees de construction des logements\", \"yLabel\": \"Pourcentage\", \"options\": {\"yTickCount\": 3, \"dataColors\": [\"#339a33\", \"#33cc33\", \"#ccff33\", \"#FFFF00\", \"#ffcc00\", \"#ff9a33\", \"#FF0000\"]}});\n",
       "        })\n",
       "    </script>\n"
      ],
      "text/plain": [
       "<cutecharts.render.engine.HTML at 0x7f4fb3d37128>"
      ]
     },
     "execution_count": 79,
     "metadata": {},
     "output_type": "execute_result"
    }
   ],
   "source": [
    "dfy = df[(df.classe_consommation_energie == 'F')]\n",
    "dfy.annee_construction = dfy.annee_construction.astype(float)\n",
    "dfy = dfy.groupby(pd.cut(dfy['annee_construction'], np.arange(1950,2030,10)))[['id']].count()\n",
    "dfy['index1'] = dfy.index\n",
    "dfy = pd.merge(dfy,dfglobal,on='index1',how='left')\n",
    "dfy['percent'] = dfy['id_x']  / dfy['id_y'] * 100\n",
    "dfy['years'] = dfy['index1'].apply(lambda x: str(x).split(\",\")[0].replace(\"(\",\"\"))\n",
    "chart = ctc.Bar('% de classe F',width='500px',height='400px')\n",
    "chart.set_options(\n",
    " labels=list(dfy['years']),\n",
    " x_label='annees de construction des logements',\n",
    " y_label='Pourcentage' ,\n",
    " colors=['#339a33','#33cc33', '#ccff33','#FFFF00','#ffcc00','#ff9a33','#FF0000']\n",
    " )\n",
    "chart.add_series('',list(dfy['percent']))\n",
    "chart.render_notebook()"
   ]
  },
  {
   "cell_type": "code",
   "execution_count": 80,
   "metadata": {},
   "outputs": [
    {
     "name": "stderr",
     "output_type": "stream",
     "text": [
      "/home/debian/anaconda3/lib/python3.7/site-packages/pandas/core/generic.py:5096: SettingWithCopyWarning: \n",
      "A value is trying to be set on a copy of a slice from a DataFrame.\n",
      "Try using .loc[row_indexer,col_indexer] = value instead\n",
      "\n",
      "See the caveats in the documentation: http://pandas.pydata.org/pandas-docs/stable/indexing.html#indexing-view-versus-copy\n",
      "  self[name] = value\n"
     ]
    },
    {
     "data": {
      "text/html": [
       "\n",
       "<script>\n",
       "    require.config({\n",
       "        paths: {\n",
       "            'chartXkcd':'https://cdn.jsdelivr.net/npm/chart.xkcd@1.1/dist/chart.xkcd.min'\n",
       "        }\n",
       "    });\n",
       "</script>\n",
       "\n",
       "<div id=\"2235046792a749f2907c2ef9d52f3d77\" class=\"chart-container\" style=\"width: 500px\">\n",
       "        <svg id=\"chart_2235046792a749f2907c2ef9d52f3d77\"></svg>\n",
       "    </div>\n",
       "    <script>\n",
       "        require(['chartXkcd'], function(chartXkcd) {\n",
       "            const svg_2235046792a749f2907c2ef9d52f3d77 = document.querySelector('#chart_2235046792a749f2907c2ef9d52f3d77')\n",
       "            const chart_2235046792a749f2907c2ef9d52f3d77 = new chartXkcd.Bar(svg_2235046792a749f2907c2ef9d52f3d77, {\"title\": \"% de classe G\", \"data\": {\"datasets\": [{\"data\": [6.9237859700906155, 4.662931991015128, 3.7918397791846985, 2.158971211191185, 1.4611078642047461, 0.5608137364505689, 0.07541959521810626]}], \"labels\": [\"1950\", \"1960\", \"1970\", \"1980\", \"1990\", \"2000\", \"2010\"]}, \"xLabel\": \"annees de construction des logements\", \"yLabel\": \"Pourcentage\", \"options\": {\"yTickCount\": 3, \"dataColors\": [\"#339a33\", \"#33cc33\", \"#ccff33\", \"#FFFF00\", \"#ffcc00\", \"#ff9a33\", \"#FF0000\"]}});\n",
       "        })\n",
       "    </script>\n"
      ],
      "text/plain": [
       "<cutecharts.render.engine.HTML at 0x7f4fb3f72240>"
      ]
     },
     "execution_count": 80,
     "metadata": {},
     "output_type": "execute_result"
    }
   ],
   "source": [
    "dfy = df[(df.classe_consommation_energie == 'G')]\n",
    "dfy.annee_construction = dfy.annee_construction.astype(float)\n",
    "dfy = dfy.groupby(pd.cut(dfy['annee_construction'], np.arange(1950,2030,10)))[['id']].count()\n",
    "dfy['index1'] = dfy.index\n",
    "dfy = pd.merge(dfy,dfglobal,on='index1',how='left')\n",
    "dfy['percent'] = dfy['id_x']  / dfy['id_y'] * 100\n",
    "dfy['years'] = dfy['index1'].apply(lambda x: str(x).split(\",\")[0].replace(\"(\",\"\"))\n",
    "chart = ctc.Bar('% de classe G',width='500px',height='400px')\n",
    "chart.set_options(\n",
    " labels=list(dfy['years']),\n",
    " x_label='annees de construction des logements',\n",
    " y_label='Pourcentage' ,\n",
    " colors=['#339a33','#33cc33', '#ccff33','#FFFF00','#ffcc00','#ff9a33','#FF0000']\n",
    " )\n",
    "chart.add_series('',list(dfy['percent']))\n",
    "chart.render_notebook()"
   ]
  },
  {
   "cell_type": "code",
   "execution_count": 81,
   "metadata": {},
   "outputs": [
    {
     "name": "stderr",
     "output_type": "stream",
     "text": [
      "/home/debian/anaconda3/lib/python3.7/site-packages/pandas/core/generic.py:5096: SettingWithCopyWarning: \n",
      "A value is trying to be set on a copy of a slice from a DataFrame.\n",
      "Try using .loc[row_indexer,col_indexer] = value instead\n",
      "\n",
      "See the caveats in the documentation: http://pandas.pydata.org/pandas-docs/stable/indexing.html#indexing-view-versus-copy\n",
      "  self[name] = value\n"
     ]
    },
    {
     "data": {
      "text/html": [
       "\n",
       "<script>\n",
       "    require.config({\n",
       "        paths: {\n",
       "            'chartXkcd':'https://cdn.jsdelivr.net/npm/chart.xkcd@1.1/dist/chart.xkcd.min'\n",
       "        }\n",
       "    });\n",
       "</script>\n",
       "\n",
       "<div id=\"8b782950b7294b5dae277c8a64696523\" class=\"chart-container\" style=\"width: 500px\">\n",
       "        <svg id=\"chart_8b782950b7294b5dae277c8a64696523\"></svg>\n",
       "    </div>\n",
       "    <script>\n",
       "        require(['chartXkcd'], function(chartXkcd) {\n",
       "            const svg_8b782950b7294b5dae277c8a64696523 = document.querySelector('#chart_8b782950b7294b5dae277c8a64696523')\n",
       "            const chart_8b782950b7294b5dae277c8a64696523 = new chartXkcd.Bar(svg_8b782950b7294b5dae277c8a64696523, {\"title\": \"% de classes A, B et C\", \"data\": {\"datasets\": [{\"data\": [13.640553459626359, 18.478525615003655, 21.704255955491014, 21.370834312157886, 28.67038073248726, 38.693701517438434, 93.3509335516593]}], \"labels\": [\"1950\", \"1960\", \"1970\", \"1980\", \"1990\", \"2000\", \"2010\"]}, \"xLabel\": \"annees de construction des logements\", \"yLabel\": \"Pourcentage\", \"options\": {\"yTickCount\": 3, \"dataColors\": [\"#339a33\", \"#33cc33\", \"#ccff33\", \"#FFFF00\", \"#ffcc00\", \"#ff9a33\", \"#FF0000\"]}});\n",
       "        })\n",
       "    </script>\n"
      ],
      "text/plain": [
       "<cutecharts.render.engine.HTML at 0x7f4fb32b5860>"
      ]
     },
     "execution_count": 81,
     "metadata": {},
     "output_type": "execute_result"
    }
   ],
   "source": [
    "dfy = df[(df.classe_consommation_energie == 'A') | (df.classe_consommation_energie == 'B') | (df.classe_consommation_energie == 'C')]\n",
    "dfy.annee_construction = dfy.annee_construction.astype(float)\n",
    "dfy = dfy.groupby(pd.cut(dfy['annee_construction'], np.arange(1950,2030,10)))[['id']].count()\n",
    "dfy['index1'] = dfy.index\n",
    "dfy = pd.merge(dfy,dfglobal,on='index1',how='left')\n",
    "dfy['percent'] = dfy['id_x']  / dfy['id_y'] * 100\n",
    "dfy['years'] = dfy['index1'].apply(lambda x: str(x).split(\",\")[0].replace(\"(\",\"\"))\n",
    "chart = ctc.Bar('% de classes A, B et C',width='500px',height='400px')\n",
    "chart.set_options(\n",
    " labels=list(dfy['years']),\n",
    " x_label='annees de construction des logements',\n",
    " y_label='Pourcentage' ,\n",
    " colors=['#339a33','#33cc33', '#ccff33','#FFFF00','#ffcc00','#ff9a33','#FF0000']\n",
    " )\n",
    "chart.add_series('',list(dfy['percent']))\n",
    "chart.render_notebook()"
   ]
  },
  {
   "cell_type": "markdown",
   "metadata": {},
   "source": [
    "Charts distribution années construction"
   ]
  },
  {
   "cell_type": "code",
   "execution_count": 83,
   "metadata": {},
   "outputs": [],
   "source": [
    "df.annee_construction = df.annee_construction.astype(float)"
   ]
  },
  {
   "cell_type": "code",
   "execution_count": 98,
   "metadata": {},
   "outputs": [],
   "source": [
    "dfdistrib = df.groupby(pd.cut(df['annee_construction'], np.arange(1900,2025,5)))[['id']].count()"
   ]
  },
  {
   "cell_type": "code",
   "execution_count": 99,
   "metadata": {},
   "outputs": [],
   "source": [
    "from cutecharts.charts import Line\n"
   ]
  },
  {
   "cell_type": "code",
   "execution_count": 150,
   "metadata": {},
   "outputs": [],
   "source": [
    "titi = []\n",
    "for i in range(24):\n",
    "    titi.append(1900+i*5)"
   ]
  },
  {
   "cell_type": "code",
   "execution_count": 146,
   "metadata": {},
   "outputs": [],
   "source": [
    "toto = dfdistrib.id.to_list()"
   ]
  },
  {
   "cell_type": "code",
   "execution_count": null,
   "metadata": {},
   "outputs": [],
   "source": []
  },
  {
   "cell_type": "code",
   "execution_count": 156,
   "metadata": {},
   "outputs": [
    {
     "data": {
      "image/png": "[encoded data removed]",
      "text/plain": [
       "<Figure size 432x288 with 1 Axes>"
      ]
     },
     "metadata": {
      "needs_background": "light"
     },
     "output_type": "display_data"
    }
   ],
   "source": [
    "\n",
    "fig, ax = plt.subplots()\n",
    "# Data for plotting\n",
    "t = np.arange(0.0, 2.0, 0.01)\n",
    "s = 1 + np.sin(2 * np.pi * t)\n",
    "\n",
    "ax.plot(titi,toto)\n",
    "\n",
    "ax.set(xlabel='Années de construction', ylabel='Nb de logements',\n",
    "       title='Distribution selon l\\'année de construction')\n",
    "ax.grid()\n",
    "\n",
    "plt.savefig('figsize_test1.png',dpi=200)\n",
    "\n",
    "plt.show()\n",
    "\n"
   ]
  },
  {
   "cell_type": "code",
   "execution_count": null,
   "metadata": {},
   "outputs": [],
   "source": []
  }
 ],
 "metadata": {
  "kernelspec": {
   "display_name": "Python 3",
   "language": "python",
   "name": "python3"
  },
  "language_info": {
   "codemirror_mode": {
    "name": "ipython",
    "version": 3
   },
   "file_extension": ".py",
   "mimetype": "text/x-python",
   "name": "python",
   "nbconvert_exporter": "python",
   "pygments_lexer": "ipython3",
   "version": "3.7.3"
  }
 },
 "nbformat": 4,
 "nbformat_minor": 2
}
